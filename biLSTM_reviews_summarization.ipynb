{
  "nbformat": 4,
  "nbformat_minor": 0,
  "metadata": {
    "colab": {
      "name": "biLSTM_reviews_summarization.ipynb",
      "provenance": [],
      "collapsed_sections": [],
      "machine_shape": "hm",
      "mount_file_id": "1RVkFbKXJkzVxw6fqxep2OxifS8WlCFau",
      "authorship_tag": "ABX9TyO3tZssUpFAowiLuUbXOW6l",
      "include_colab_link": true
    },
    "kernelspec": {
      "name": "python3",
      "display_name": "Python 3"
    },
    "language_info": {
      "name": "python"
    },
    "accelerator": "TPU"
  },
  "cells": [
    {
      "cell_type": "markdown",
      "metadata": {
        "id": "view-in-github",
        "colab_type": "text"
      },
      "source": [
        "<a href=\"https://colab.research.google.com/github/EricCallaway/COSC_6319_Project/blob/NavyaMakkena_COSC_6319_Project/biLSTM_reviews_summarization.ipynb\" target=\"_parent\"><img src=\"https://colab.research.google.com/assets/colab-badge.svg\" alt=\"Open In Colab\"/></a>"
      ]
    },
    {
      "cell_type": "code",
      "execution_count": 2,
      "metadata": {
        "colab": {
          "base_uri": "https://localhost:8080/"
        },
        "id": "o7isZ4DmgTmr",
        "outputId": "4181447c-2f87-4812-8b4f-125031ae8db5"
      },
      "outputs": [
        {
          "output_type": "stream",
          "name": "stdout",
          "text": [
            "<class 'pandas.core.frame.DataFrame'>\n",
            "Int64Index: 88421 entries, 0 to 99999\n",
            "Data columns (total 10 columns):\n",
            " #   Column                  Non-Null Count  Dtype \n",
            "---  ------                  --------------  ----- \n",
            " 0   Id                      88421 non-null  int64 \n",
            " 1   ProductId               88421 non-null  object\n",
            " 2   UserId                  88421 non-null  object\n",
            " 3   ProfileName             88421 non-null  object\n",
            " 4   HelpfulnessNumerator    88421 non-null  int64 \n",
            " 5   HelpfulnessDenominator  88421 non-null  int64 \n",
            " 6   Score                   88421 non-null  int64 \n",
            " 7   Time                    88421 non-null  int64 \n",
            " 8   Summary                 88421 non-null  object\n",
            " 9   Text                    88421 non-null  object\n",
            "dtypes: int64(5), object(5)\n",
            "memory usage: 7.4+ MB\n"
          ]
        }
      ],
      "source": [
        "import pandas as pd\n",
        "\n",
        "data=pd.read_csv(\"/content/drive/My Drive/Colab Notebooks/Reviews.csv\",nrows=100000)\n",
        "data.drop_duplicates(subset=['Text'],inplace=True)#dropping duplicates\n",
        "data.dropna(axis=0,inplace=True)#dropping na\n",
        "\n",
        "data.info()"
      ]
    },
    {
      "cell_type": "code",
      "source": [
        "!pip install contractions"
      ],
      "metadata": {
        "colab": {
          "base_uri": "https://localhost:8080/"
        },
        "id": "6oJThOCrgmcD",
        "outputId": "73980460-2fa6-4f29-cd6c-03e1ce1ccb38"
      },
      "execution_count": 3,
      "outputs": [
        {
          "output_type": "stream",
          "name": "stdout",
          "text": [
            "Collecting contractions\n",
            "  Downloading contractions-0.1.72-py2.py3-none-any.whl (8.3 kB)\n",
            "Collecting textsearch>=0.0.21\n",
            "  Downloading textsearch-0.0.21-py2.py3-none-any.whl (7.5 kB)\n",
            "Collecting pyahocorasick\n",
            "  Downloading pyahocorasick-1.4.4-cp37-cp37m-manylinux_2_17_x86_64.manylinux2014_x86_64.whl (106 kB)\n",
            "\u001b[K     |████████████████████████████████| 106 kB 5.4 MB/s \n",
            "\u001b[?25hCollecting anyascii\n",
            "  Downloading anyascii-0.3.1-py3-none-any.whl (287 kB)\n",
            "\u001b[K     |████████████████████████████████| 287 kB 39.9 MB/s \n",
            "\u001b[?25hInstalling collected packages: pyahocorasick, anyascii, textsearch, contractions\n",
            "Successfully installed anyascii-0.3.1 contractions-0.1.72 pyahocorasick-1.4.4 textsearch-0.0.21\n"
          ]
        }
      ]
    },
    {
      "cell_type": "code",
      "source": [
        "import re\n",
        "import string\n",
        "import nltk\n",
        "nltk.download('stopwords')\n",
        "nltk.download('punkt')\n",
        "nltk.download('wordnet')\n",
        "from nltk.corpus import stopwords\n",
        "from nltk.tokenize import word_tokenize\n",
        "from bs4 import BeautifulSoup\n",
        "import contractions\n",
        "import numpy as np\n",
        "from nltk.stem import WordNetLemmatizer\n",
        "\n",
        "def text_lowercase(text):\n",
        "    return text.lower()\n",
        "\n",
        "def remove_numbers(text):\n",
        "    output_text = re.sub(r'\\d+', '', text)\n",
        "    return output_text\n",
        "\n",
        "def remove_punctuation(text):\n",
        "    translator = str.maketrans('', '', string.punctuation)\n",
        "    return text.translate(translator)\n",
        "\n",
        "def remove_whitespace(text):\n",
        "    return  text.strip()\n",
        "\n",
        "def remove_stopwords(text):\n",
        "    stop_words = set(stopwords.words(\"english\"))\n",
        "    filtered_text = \" \".join([word for word in str(text).split() if word not in stop_words])\n",
        "    return filtered_text\n",
        "\n",
        "def remove_html(dataText):\n",
        "    return BeautifulSoup(dataText, \"lxml\").text\n",
        "\n",
        "def contraction_mapping(text):\n",
        "    expanded_words = []   \n",
        "    for word in text.split():\n",
        "    # using contractions.fix to expand the shortened words\n",
        "      expanded_words.append(contractions.fix(word))  \n",
        "    expanded_text = ' '.join(expanded_words)\n",
        "    return expanded_text\n",
        "\n",
        "def lemmatization(text):\n",
        "   lemmatizer = WordNetLemmatizer()\n",
        "   return \" \".join([lemmatizer.lemmatize(word) for word in text.split()])\n",
        "\n",
        "\n",
        "\n",
        "def cleaning_data(content):\n",
        "    # Lowercase text\n",
        "    content = text_lowercase(content)\n",
        "\n",
        "    # Remove numbers\n",
        "    content = remove_numbers(content)\n",
        "\n",
        "    # remove punctuation\n",
        "    content = remove_punctuation(content)\n",
        "\n",
        "    # remove whitespace from text\n",
        "    content = remove_whitespace(content)\n",
        "\n",
        "    # remove html from string\n",
        "    content = remove_html(content)\n",
        "\n",
        "    # contraction mapping\n",
        "    content = contraction_mapping(content)\n",
        "\n",
        "    # remove stopwords\n",
        "    content = remove_stopwords(content)\n",
        "\n",
        "    # lemmatization\n",
        "    content = lemmatization(content)\n",
        "    return content\n",
        "\n",
        "print(data['Text'][0])\n",
        "cleaned_text = []\n",
        "for t in data['Text']:\n",
        "    cleaned_text.append(cleaning_data(t))\n",
        "\n",
        "print(cleaned_text[:5])\n",
        "\n",
        "cleaned_summary = []\n",
        "for t in data['Summary']:\n",
        "    cleaned_summary.append(cleaning_data(t))\n",
        "\n",
        "print(cleaned_summary[:10])\n",
        "\n",
        "data.replace('', np.nan, inplace=True)\n",
        "data.dropna(axis=0,inplace=True)"
      ],
      "metadata": {
        "colab": {
          "base_uri": "https://localhost:8080/"
        },
        "id": "BnhsegpTguJI",
        "outputId": "b0c595ee-561a-4ba2-f7a1-dbce96c724e4"
      },
      "execution_count": 4,
      "outputs": [
        {
          "output_type": "stream",
          "name": "stdout",
          "text": [
            "[nltk_data] Downloading package stopwords to /root/nltk_data...\n",
            "[nltk_data]   Unzipping corpora/stopwords.zip.\n",
            "[nltk_data] Downloading package punkt to /root/nltk_data...\n",
            "[nltk_data]   Unzipping tokenizers/punkt.zip.\n",
            "[nltk_data] Downloading package wordnet to /root/nltk_data...\n",
            "[nltk_data]   Unzipping corpora/wordnet.zip.\n",
            "I have bought several of the Vitality canned dog food products and have found them all to be of good quality. The product looks more like a stew than a processed meat and it smells better. My Labrador is finicky and she appreciates this product better than  most.\n",
            "['bought several vitality canned dog food product found good quality product look like stew processed meat smell better labrador finicky appreciates product better', 'product arrived labeled jumbo salted peanutsthe peanut actually small sized unsalted sure error vendor intended represent product jumbo', 'confection around century light pillowy citrus gelatin nut case filbert cut tiny square liberally coated powdered sugar tiny mouthful heaven chewy flavorful highly recommend yummy treat familiar story c lewis lion witch wardrobe treat seduces edmund selling brother sister witch', 'looking secret ingredient robitussin believe found got addition root beer extract ordered good made cherry soda flavor medicinal', 'great taffy great price wide assortment yummy taffy delivery quick taffy lover deal']\n",
            "['good quality dog food', 'advertised', 'delight say', 'cough medicine', 'great taffy', 'nice taffy', 'great good expensive brand', 'wonderful tasty taffy', 'yay barley', 'healthy dog food']\n"
          ]
        }
      ]
    },
    {
      "cell_type": "code",
      "source": [
        "cnt=0\n",
        "for i in range(len(cleaned_text)):\n",
        "    if(len(cleaned_text[i].split())<=35):\n",
        "        cnt=cnt+1\n",
        "print(cnt/len(cleaned_text))"
      ],
      "metadata": {
        "colab": {
          "base_uri": "https://localhost:8080/"
        },
        "id": "x7Q37gsvyNxI",
        "outputId": "49e33245-adc9-4164-fdc5-eccb772439c8"
      },
      "execution_count": 5,
      "outputs": [
        {
          "output_type": "stream",
          "name": "stdout",
          "text": [
            "0.6115289354338901\n"
          ]
        }
      ]
    },
    {
      "cell_type": "code",
      "source": [
        "max_text_len=35\n",
        "max_summary_len=10"
      ],
      "metadata": {
        "id": "RmSxztRKhf7K"
      },
      "execution_count": 6,
      "outputs": []
    },
    {
      "cell_type": "code",
      "source": [
        "cleaned_text =np.array(cleaned_text)\n",
        "cleaned_summary=np.array(cleaned_summary)\n",
        "\n",
        "short_text=[]\n",
        "short_summary=[]\n",
        "\n",
        "for i in range(len(cleaned_text)):\n",
        "    if(len(cleaned_summary[i].split())<=max_summary_len and len(cleaned_text[i].split())<=max_text_len):\n",
        "        short_text.append(cleaned_text[i])\n",
        "        short_summary.append(cleaned_summary[i])\n",
        "        \n",
        "df=pd.DataFrame({'text':short_text,'summary':short_summary})\n",
        "\n",
        "df['summary'] = df['summary'].apply(lambda x : 'sostok '+ x + ' eostok')\n",
        "from sklearn.model_selection import train_test_split\n",
        "reviews_tr,reviews_val,summary_tr,summary_val=train_test_split(np.array(df['text']),np.array(df['summary']),test_size=0.1,random_state=0,shuffle=True) "
      ],
      "metadata": {
        "id": "6t6uKsEmhjMd"
      },
      "execution_count": 7,
      "outputs": []
    },
    {
      "cell_type": "code",
      "source": [
        "from keras.preprocessing.text import Tokenizer\n",
        "VOCAB_SIZE = 50000\n",
        "article_tokenizer = Tokenizer(num_words=VOCAB_SIZE)\n",
        "# articles\n",
        "article_tokenizer.fit_on_texts(list(reviews_tr))\n",
        "article_sequences = article_tokenizer.texts_to_sequences(reviews_tr)\n",
        "article_val_seq   =   article_tokenizer.texts_to_sequences(reviews_val)\n",
        "art_word_index = article_tokenizer.word_index\n",
        "print(len(art_word_index))\n",
        "# summaries\n",
        "summary_tokenizer = Tokenizer(num_words=VOCAB_SIZE)\n",
        "summary_tokenizer.fit_on_texts(list(summary_tr))\n",
        "summary_sequences = summary_tokenizer.texts_to_sequences(summary_tr)\n",
        "summary_val_seq   = summary_tokenizer.texts_to_sequences(summary_val) \n",
        "summary_word_index = summary_tokenizer.word_index\n",
        "print(len(summary_word_index))\n",
        "\n",
        "from keras.preprocessing.sequence import pad_sequences\n",
        "import numpy as np\n",
        "\n",
        "reviews_tr = pad_sequences(article_sequences, maxlen=max_text_len, padding='post', truncating='post')\n",
        "summary_tr = pad_sequences(summary_sequences, maxlen=max_summary_len, padding='post', truncating='post')\n",
        "reviews_val = pad_sequences(article_val_seq, maxlen=max_text_len, padding='post', truncating='post')\n",
        "summary_val = pad_sequences(summary_val_seq, maxlen=max_summary_len, padding='post', truncating='post')\n",
        "\n",
        "print(reviews_tr.shape)\n",
        "print(summary_tr.shape)"
      ],
      "metadata": {
        "colab": {
          "base_uri": "https://localhost:8080/"
        },
        "id": "N4oM9h3gjKo9",
        "outputId": "85c5fa69-2f13-4631-b167-67a9cf2a17f7"
      },
      "execution_count": 8,
      "outputs": [
        {
          "output_type": "stream",
          "name": "stdout",
          "text": [
            "35041\n",
            "9963\n",
            "(48618, 35)\n",
            "(48618, 10)\n"
          ]
        }
      ]
    },
    {
      "cell_type": "code",
      "source": [
        "import numpy as np\n",
        "\n",
        "embeddings_index = {}\n",
        "with open('/content/drive/My Drive/Colab Notebooks/glove.6B.200d.txt', encoding='utf-8') as f:\n",
        "    for line in f:\n",
        "        values = line.split()\n",
        "        word = values[0]\n",
        "        coefs = np.asarray(values[1:], dtype='float32')\n",
        "        embeddings_index[word] = coefs\n",
        "    f.close()\n",
        "\n",
        "print('Found %s word vectors.' % len(embeddings_index))\n",
        "\n",
        "embedding_dim = 200\n",
        "hits = 0\n",
        "misses = 0\n",
        "\n",
        "# Prepare embedding matrix for articles\n",
        "article_embedding_matrix = np.zeros(((len(art_word_index)+1), embedding_dim))\n",
        "for word, i in art_word_index.items():\n",
        "    embedding_vector = embeddings_index.get(word)\n",
        "    if embedding_vector is not None:\n",
        "        # Words not found in embedding index will be all-zeros.\n",
        "        # This includes the representation for \"padding\" and \"OOV\"\n",
        "        article_embedding_matrix[i] = embedding_vector\n",
        "        hits += 1\n",
        "    else:\n",
        "        misses += 1\n",
        "print(\"Converted %d words (%d misses)\" % (hits, misses))\n",
        "print(article_embedding_matrix.shape)\n",
        "\n",
        "# Prepare embedding matrix for summaries\n",
        "hits=0\n",
        "misses = 0\n",
        "summary_embedding_matrix = np.zeros((len(summary_word_index) + 1, embedding_dim))\n",
        "for word, j in summary_word_index.items():\n",
        "    embedding_vector = embeddings_index.get(word)\n",
        "    if embedding_vector is not None:\n",
        "        # Words not found in embedding index will be all-zeros.\n",
        "        # This includes the representation for \"padding\" and \"OOV\"\n",
        "        summary_embedding_matrix[j] = embedding_vector\n",
        "        hits += 1\n",
        "    else:\n",
        "        misses += 1\n",
        "print(\"Converted %d words (%d misses)\" % (hits, misses))\n",
        "print(summary_embedding_matrix.shape)"
      ],
      "metadata": {
        "colab": {
          "base_uri": "https://localhost:8080/"
        },
        "id": "S_tP9cYokiCp",
        "outputId": "9e28aaa5-261e-4497-c9f6-109b93a6e4b0"
      },
      "execution_count": 8,
      "outputs": [
        {
          "output_type": "stream",
          "name": "stdout",
          "text": [
            "Found 400001 word vectors.\n",
            "Converted 18041 words (17000 misses)\n",
            "(35042, 200)\n",
            "Converted 7188 words (2775 misses)\n",
            "(9964, 200)\n"
          ]
        }
      ]
    },
    {
      "cell_type": "code",
      "source": [
        "from keras.layers import Embedding\n",
        "import keras.initializers\n",
        "\n",
        "encoder_embedding_layer = Embedding(\n",
        "    input_dim = article_embedding_matrix.shape[0], #num_distinct_words\n",
        "    output_dim = embedding_dim, #embedding_output_dims\n",
        "    input_length = max_text_len, #max_sequence_length\n",
        "    embeddings_initializer= keras.initializers.Constant(article_embedding_matrix),\n",
        "    trainable = True\n",
        ")\n",
        "\n",
        "decoder_embedding_layer = Embedding(\n",
        "    input_dim = summary_embedding_matrix.shape[0],\n",
        "    output_dim = embedding_dim,\n",
        "    input_length = max_summary_len,\n",
        "    embeddings_initializer= keras.initializers.Constant(summary_embedding_matrix),\n",
        "    trainable = True\n",
        ")"
      ],
      "metadata": {
        "id": "iBV4qDvDksHw"
      },
      "execution_count": 9,
      "outputs": []
    },
    {
      "cell_type": "code",
      "source": [
        "from tensorflow import keras\n",
        "from keras import layers\n",
        "from keras.layers import Dense,LSTM,Dropout,Input,Activation,Bidirectional,TimeDistributed\n",
        "\n",
        "# Input layer\n",
        "encoder_input = layers.Input(shape=(max_text_len))\n",
        "encoder_embedded = encoder_embedding_layer(encoder_input)\n",
        "\n",
        "# Decoder -- LSTM\n",
        "decoder_input = layers.Input(shape=(None,))\n",
        "decoder_embedded = decoder_embedding_layer(decoder_input)\n",
        "\n",
        "# Encoder 1 -- Bidirectional LSTM 1\n",
        "encoder1_output, forward_h1, forward_c1 ,backward_h1, backward_c1= Bidirectional(layers.LSTM(256, return_state=True, return_sequences=True,dropout=0.4,recurrent_dropout=0.4,name=\"encoder1\"),merge_mode=\"concat\")(\n",
        "    encoder_embedded\n",
        ")\n",
        "# Encoder 2 -- Bidirectional LSTM 2\n",
        "encode2_output, forward_h2, forward_c2 ,backward_h2, backward_c2= Bidirectional(layers.LSTM(256, return_state=True, return_sequences=True,dropout=0.4,recurrent_dropout=0.4,name=\"encoder2\"),merge_mode=\"concat\")(\n",
        "    encoder1_output,initial_state=[forward_h1,backward_h1,forward_c1,backward_c1]\n",
        ")\n",
        "state_h2 =  layers.Concatenate()([forward_h2, backward_h2])\n",
        "state_c2 =  layers.Concatenate()([forward_c2, backward_c2])\n",
        "encoder2_state = [state_h2,state_c2]\n",
        "\n",
        "# Pass the encoder 2 state to decoder LSTM layer, as initial state\n",
        "decoder_LSTM= layers.LSTM(512,return_sequences=True, return_state=True,dropout=0.4,recurrent_dropout=0.2,name=\"decoder\")\n",
        "decoder_output,decoder_state_h1 ,decoder_state_c1 = decoder_LSTM(\n",
        "    decoder_embedded, initial_state=encoder2_state\n",
        ")\n",
        "# Dense layer with activation\n",
        "decoder_dense = TimeDistributed(layers.Dense(len(summary_word_index)+1,activation='softmax'))\n",
        "decoder_output = decoder_dense(decoder_output)\n",
        "\n",
        "model = keras.Model([encoder_input, decoder_input], decoder_output)\n",
        "model.summary()"
      ],
      "metadata": {
        "colab": {
          "base_uri": "https://localhost:8080/"
        },
        "id": "i9fhqwCvk8Sl",
        "outputId": "1f1ea545-bd0c-4a38-ecfb-2a16cd535024"
      },
      "execution_count": 10,
      "outputs": [
        {
          "output_type": "stream",
          "name": "stdout",
          "text": [
            "Model: \"model\"\n",
            "__________________________________________________________________________________________________\n",
            " Layer (type)                   Output Shape         Param #     Connected to                     \n",
            "==================================================================================================\n",
            " input_1 (InputLayer)           [(None, 35)]         0           []                               \n",
            "                                                                                                  \n",
            " embedding (Embedding)          (None, 35, 200)      7008400     ['input_1[0][0]']                \n",
            "                                                                                                  \n",
            " bidirectional (Bidirectional)  [(None, 35, 512),    935936      ['embedding[0][0]']              \n",
            "                                 (None, 256),                                                     \n",
            "                                 (None, 256),                                                     \n",
            "                                 (None, 256),                                                     \n",
            "                                 (None, 256)]                                                     \n",
            "                                                                                                  \n",
            " input_2 (InputLayer)           [(None, None)]       0           []                               \n",
            "                                                                                                  \n",
            " bidirectional_1 (Bidirectional  [(None, 35, 512),   1574912     ['bidirectional[0][0]',          \n",
            " )                               (None, 256),                     'bidirectional[0][1]',          \n",
            "                                 (None, 256),                     'bidirectional[0][3]',          \n",
            "                                 (None, 256),                     'bidirectional[0][2]',          \n",
            "                                 (None, 256)]                     'bidirectional[0][4]']          \n",
            "                                                                                                  \n",
            " embedding_1 (Embedding)        (None, None, 200)    1992800     ['input_2[0][0]']                \n",
            "                                                                                                  \n",
            " concatenate (Concatenate)      (None, 512)          0           ['bidirectional_1[0][1]',        \n",
            "                                                                  'bidirectional_1[0][3]']        \n",
            "                                                                                                  \n",
            " concatenate_1 (Concatenate)    (None, 512)          0           ['bidirectional_1[0][2]',        \n",
            "                                                                  'bidirectional_1[0][4]']        \n",
            "                                                                                                  \n",
            " decoder (LSTM)                 [(None, None, 512),  1460224     ['embedding_1[0][0]',            \n",
            "                                 (None, 512),                     'concatenate[0][0]',            \n",
            "                                 (None, 512)]                     'concatenate_1[0][0]']          \n",
            "                                                                                                  \n",
            " time_distributed (TimeDistribu  (None, None, 9964)  5111532     ['decoder[0][0]']                \n",
            " ted)                                                                                             \n",
            "                                                                                                  \n",
            "==================================================================================================\n",
            "Total params: 18,083,804\n",
            "Trainable params: 18,083,804\n",
            "Non-trainable params: 0\n",
            "__________________________________________________________________________________________________\n"
          ]
        }
      ]
    },
    {
      "cell_type": "code",
      "source": [
        "model.compile(optimizer='rmsprop', loss='sparse_categorical_crossentropy',metrics=[keras.metrics.SparseCategoricalAccuracy()])"
      ],
      "metadata": {
        "id": "jN95JFDkmOmB"
      },
      "execution_count": 11,
      "outputs": []
    },
    {
      "cell_type": "code",
      "source": [
        "from keras.callbacks import EarlyStopping\n",
        "es = EarlyStopping(monitor='val_loss', mode='min', verbose=1,patience=2)\n"
      ],
      "metadata": {
        "id": "NCe531FrmSNT"
      },
      "execution_count": 12,
      "outputs": []
    },
    {
      "cell_type": "code",
      "source": [
        "history=model.fit([reviews_tr,summary_tr[:,:-1]], summary_tr.reshape(summary_tr.shape[0],summary_tr.shape[1], 1)[:,1:] ,\n",
        "                  epochs=50,\n",
        "                  callbacks=[es],\n",
        "                  batch_size=128, \n",
        "                  validation_data=([reviews_val,summary_val[:,:-1]], summary_val.reshape(summary_val.shape[0],summary_val.shape[1], 1)[:,1:]))\n",
        "model.save(\"/content/drive/My Drive/Colab Notebooks/saved_models/biLSTM_reviews_model\")"
      ],
      "metadata": {
        "colab": {
          "base_uri": "https://localhost:8080/"
        },
        "id": "_hftCmo8ma8t",
        "outputId": "4ceb5a36-4fa7-470e-e8eb-2d29112a79ff"
      },
      "execution_count": 13,
      "outputs": [
        {
          "output_type": "stream",
          "name": "stdout",
          "text": [
            "Epoch 1/50\n",
            "380/380 [==============================] - 394s 1s/step - loss: 2.1079 - sparse_categorical_accuracy: 0.7195 - val_loss: 1.8026 - val_sparse_categorical_accuracy: 0.7423\n",
            "Epoch 2/50\n",
            "380/380 [==============================] - 404s 1s/step - loss: 1.8451 - sparse_categorical_accuracy: 0.7380 - val_loss: 1.7001 - val_sparse_categorical_accuracy: 0.7477\n",
            "Epoch 3/50\n",
            "380/380 [==============================] - 400s 1s/step - loss: 1.7524 - sparse_categorical_accuracy: 0.7441 - val_loss: 1.6515 - val_sparse_categorical_accuracy: 0.7506\n",
            "Epoch 4/50\n",
            "380/380 [==============================] - 393s 1s/step - loss: 1.6864 - sparse_categorical_accuracy: 0.7480 - val_loss: 1.6205 - val_sparse_categorical_accuracy: 0.7537\n",
            "Epoch 5/50\n",
            "380/380 [==============================] - 388s 1s/step - loss: 1.6345 - sparse_categorical_accuracy: 0.7516 - val_loss: 1.5965 - val_sparse_categorical_accuracy: 0.7549\n",
            "Epoch 6/50\n",
            "380/380 [==============================] - 385s 1s/step - loss: 1.5886 - sparse_categorical_accuracy: 0.7547 - val_loss: 1.5923 - val_sparse_categorical_accuracy: 0.7543\n",
            "Epoch 7/50\n",
            "380/380 [==============================] - 384s 1s/step - loss: 1.5482 - sparse_categorical_accuracy: 0.7578 - val_loss: 1.5801 - val_sparse_categorical_accuracy: 0.7566\n",
            "Epoch 8/50\n",
            "380/380 [==============================] - 382s 1s/step - loss: 1.5105 - sparse_categorical_accuracy: 0.7610 - val_loss: 1.5846 - val_sparse_categorical_accuracy: 0.7543\n",
            "Epoch 9/50\n",
            "380/380 [==============================] - 385s 1s/step - loss: 1.4746 - sparse_categorical_accuracy: 0.7642 - val_loss: 1.5871 - val_sparse_categorical_accuracy: 0.7566\n",
            "Epoch 9: early stopping\n",
            "INFO:tensorflow:Assets written to: /content/drive/My Drive/Colab Notebooks/saved_models/biLSTM_reviews_model/assets\n"
          ]
        },
        {
          "output_type": "stream",
          "name": "stderr",
          "text": [
            "WARNING:absl:<keras.layers.recurrent.LSTMCell object at 0x7f21fb733310> has the same name 'LSTMCell' as a built-in Keras object. Consider renaming <class 'keras.layers.recurrent.LSTMCell'> to avoid naming conflicts when loading with `tf.keras.models.load_model`. If renaming is not possible, pass the object in the `custom_objects` parameter of the load function.\n",
            "WARNING:absl:<keras.layers.recurrent.LSTMCell object at 0x7f21ed959750> has the same name 'LSTMCell' as a built-in Keras object. Consider renaming <class 'keras.layers.recurrent.LSTMCell'> to avoid naming conflicts when loading with `tf.keras.models.load_model`. If renaming is not possible, pass the object in the `custom_objects` parameter of the load function.\n",
            "WARNING:absl:<keras.layers.recurrent.LSTMCell object at 0x7f21ed9199d0> has the same name 'LSTMCell' as a built-in Keras object. Consider renaming <class 'keras.layers.recurrent.LSTMCell'> to avoid naming conflicts when loading with `tf.keras.models.load_model`. If renaming is not possible, pass the object in the `custom_objects` parameter of the load function.\n",
            "WARNING:absl:<keras.layers.recurrent.LSTMCell object at 0x7f21c3e9d650> has the same name 'LSTMCell' as a built-in Keras object. Consider renaming <class 'keras.layers.recurrent.LSTMCell'> to avoid naming conflicts when loading with `tf.keras.models.load_model`. If renaming is not possible, pass the object in the `custom_objects` parameter of the load function.\n",
            "WARNING:absl:<keras.layers.recurrent.LSTMCell object at 0x7f21c3ea62d0> has the same name 'LSTMCell' as a built-in Keras object. Consider renaming <class 'keras.layers.recurrent.LSTMCell'> to avoid naming conflicts when loading with `tf.keras.models.load_model`. If renaming is not possible, pass the object in the `custom_objects` parameter of the load function.\n"
          ]
        }
      ]
    },
    {
      "cell_type": "code",
      "source": [
        "from matplotlib import pyplot\n",
        "pyplot.plot(history.history['loss'], label='train')\n",
        "pyplot.plot(history.history['val_loss'], label='test')\n",
        "pyplot.legend()\n",
        "pyplot.show()"
      ],
      "metadata": {
        "colab": {
          "base_uri": "https://localhost:8080/",
          "height": 265
        },
        "id": "_nBPvEkKiBRT",
        "outputId": "22d58f26-a981-4ecc-9ae7-0194f0272243"
      },
      "execution_count": 14,
      "outputs": [
        {
          "output_type": "display_data",
          "data": {
            "text/plain": [
              "<Figure size 432x288 with 1 Axes>"
            ],
            "image/png": "[encoded data removed]"
          },
          "metadata": {
            "needs_background": "light"
          }
        }
      ]
    },
    {
      "cell_type": "code",
      "source": [
        "from matplotlib import pyplot\n",
        "pyplot.plot(history.history['sparse_categorical_accuracy'], label='train')\n",
        "pyplot.plot(history.history['val_sparse_categorical_accuracy'], label='test')\n",
        "pyplot.legend()\n",
        "pyplot.show()"
      ],
      "metadata": {
        "colab": {
          "base_uri": "https://localhost:8080/",
          "height": 265
        },
        "id": "k7V9gO1aZ8S5",
        "outputId": "c7f4c191-3be6-42ef-cd63-bda4c15966a7"
      },
      "execution_count": 15,
      "outputs": [
        {
          "output_type": "display_data",
          "data": {
            "text/plain": [
              "<Figure size 432x288 with 1 Axes>"
            ],
            "image/png": "[encoded data removed]"
          },
          "metadata": {
            "needs_background": "light"
          }
        }
      ]
    },
    {
      "cell_type": "markdown",
      "source": [
        "Inference setup"
      ],
      "metadata": {
        "id": "Q1fLBEtU0pGm"
      }
    },
    {
      "cell_type": "code",
      "source": [
        "reverse_target_word_index= summary_tokenizer.index_word\n",
        "reverse_source_word_index= article_tokenizer.index_word\n",
        "target_word_index=summary_tokenizer.word_index\n",
        "\n",
        "# Encode the input sequence to get the feature vector\n",
        "encoder_model = keras.Model(inputs=encoder_input,outputs=[encode2_output, state_h2, state_c2])\n",
        "\n",
        "# Decoder setup\n",
        "# Below tensors will hold the states of the previous time step\n",
        "decoder_input =  Input(shape=( None,))\n",
        "decoder_state_input_h = Input(shape=(512,))\n",
        "decoder_state_input_c = Input(shape=(512,))\n",
        "decoder_hidden_state_input = Input(shape=(max_text_len,512))\n",
        "decode_input_states = [decoder_state_input_h, decoder_state_input_c]\n",
        "# Get the embeddings of the decoder sequence\n",
        "decoder_embedded1 = decoder_embedding_layer(decoder_input)\n",
        "\n",
        "# To predict the next word in the sequence, set the initial states to the states from the previous time step\n",
        "decoder_outputs, state_h3, state_c3 = decoder_LSTM(decoder_embedded1, initial_state=decode_input_states)\n",
        "\n",
        "# A dense softmax layer to generate prob dist. over the target vocabulary\n",
        "decoder_outputs = decoder_dense(decoder_outputs) \n",
        "\n",
        "# Final decoder model\n",
        "decoder_model = keras.Model(\n",
        "    [decoder_input] + [decoder_hidden_state_input]+ [decode_input_states],\n",
        "    [decoder_outputs] + [state_h3, state_c3])\n",
        "\n",
        "\n",
        "def conversion_to_wordsummary(input_seq):\n",
        "    newString=''\n",
        "    for i in input_seq:\n",
        "        if((i!=0 and i!=target_word_index['sostok']) and i!=target_word_index['eostok']):\n",
        "            newString=newString+reverse_target_word_index[i]+' '\n",
        "    return newString\n",
        "\n",
        "def conversion_to_articletext(input_seq):\n",
        "    newString=''\n",
        "    for i in input_seq:\n",
        "        if(i!=0):\n",
        "            newString=newString+reverse_source_word_index[i]+' '\n",
        "    return newString\n",
        "\n",
        "def decode_sequence(input_seq):\n",
        "    target_seq = np.zeros((1,1))\n",
        "    target_seq[0, 0] = target_word_index['sostok']\n",
        "    decoded_sentence = ''\n",
        "    e_out, e_h, e_c = encoder_model.predict(input_seq)\n",
        "    \n",
        "    stop_condition = False\n",
        "    while not stop_condition:\n",
        "        output_tokens, h, c = decoder_model.predict([target_seq] + [e_out,e_h, e_c])\n",
        "        sampled_token_index = np.argmax(output_tokens[0, -1, :])\n",
        "        sampled_token = reverse_target_word_index[sampled_token_index]\n",
        "        \n",
        "        if(sampled_token!='eostok'):\n",
        "            decoded_sentence += ' '+sampled_token\n",
        "\n",
        "        # Exit condition: either hit max length or find stop word.\n",
        "        if (sampled_token == 'eostok'  or len(decoded_sentence.split()) >= (max_summary_len-1)):\n",
        "            stop_condition = True\n",
        "\n",
        "        # Update the target sequence (of length 1).\n",
        "        target_seq = np.zeros((1,1))\n",
        "        target_seq[0, 0] = sampled_token_index\n",
        "\n",
        "        # Update internal states\n",
        "        e_h, e_c = h, c\n",
        "\n",
        "    return decoded_sentence\n",
        "\n",
        "for i in range(0,10):\n",
        "    print(\"Review:\",conversion_to_articletext(reviews_tr[i]))\n",
        "    print(\"Original summary:\",conversion_to_wordsummary(summary_tr[i]))\n",
        "    print(\"Predicted summary:\",decode_sequence(reviews_tr[i].reshape(1,max_text_len)))\n",
        "    print(\"\\n\")"
      ],
      "metadata": {
        "colab": {
          "base_uri": "https://localhost:8080/"
        },
        "id": "a-P-5KKciJM2",
        "outputId": "8183efc8-85d0-4fc1-bd38-b392bd4d1e37"
      },
      "execution_count": 35,
      "outputs": [
        {
          "output_type": "stream",
          "name": "stdout",
          "text": [
            "Review: introduced product neice christmas flavorful refreshing love especially flu cold season \n",
            "Original summary: awesome product \n",
            "Predicted summary:  refreshing\n",
            "\n",
            "\n",
            "Review: great price excellent chip cent ounce bag bargain well tasty chip everyone let try impressed commented good taste yet find kettle chip disappointed \n",
            "Original summary: tasty \n",
            "Predicted summary:  great chip\n",
            "\n",
            "\n",
            "Review: never used product researched purchased red mill item home grocery stor like trust product different pleased folk sent fast packed well thank \n",
            "Original summary: hoping \n",
            "Predicted summary:  great product\n",
            "\n",
            "\n",
            "Review: remembered childhood available store sure wish would bring back locally \n",
            "Original summary: delicious \n",
            "Predicted summary:  great\n",
            "\n",
            "\n",
            "Review: love ship alaska hard time finding plant tree would actually ship bush alaska would totally recommend teacher living want little tree home lot bush alaska tundraso tree \n",
            "Original summary: ship alaska \n",
            "Predicted summary:  plant\n",
            "\n",
            "\n",
            "Review: ordered hot cocoa grandson christmas love flavor able make delivery good several day still plenty time christmas would recommend anyone \n",
            "Original summary: well pleased \n",
            "Predicted summary:  great hot cocoa\n",
            "\n",
            "\n",
            "Review: consider purchasing different product juice contained plastic one known bpa widely told avoid especially baby \n",
            "Original summary: bpa \n",
            "Predicted summary:  contains bottle\n",
            "\n",
            "\n",
            "Review: bought tea stop shop clearly warning expect like panic attack something uncomfortable like heart beat loudly audible fancy flavor tea yogi make sampler one \n",
            "Original summary: made heart pound \n",
            "Predicted summary:  tea\n",
            "\n",
            "\n",
            "Review: made recipe package family loved dish make many many time grandson said wanted whole dishful \n",
            "Original summary: goooood stuff \n",
            "Predicted summary:  great product\n",
            "\n",
            "\n",
            "Review: fruit snack perfect took bag work shared coworkers want time told buy amazon share strawberry bannana bag though mine mm mm good \n",
            "Original summary: absolutely yummy \n",
            "Predicted summary:  delicious\n",
            "\n",
            "\n"
          ]
        }
      ]
    },
    {
      "cell_type": "markdown",
      "source": [
        "Inference from Loaded model"
      ],
      "metadata": {
        "id": "FC3ErA5CErxb"
      }
    },
    {
      "cell_type": "code",
      "source": [
        "from tensorflow import keras\n",
        "from keras import layers\n",
        "from keras.layers import Dense,LSTM,Dropout,Input,Activation,Bidirectional,TimeDistributed\n",
        "reverse_target_word_index= summary_tokenizer.index_word\n",
        "reverse_source_word_index= article_tokenizer.index_word\n",
        "target_word_index=summary_tokenizer.word_index\n",
        "\n",
        "\n",
        "loaded_model  = keras.models.load_model(\"/content/drive/My Drive/Colab Notebooks/saved_models/biLSTM_reviews_model\")\n",
        "en_outputs,forward_state_h_enc,forward_state_c_enc,backward_state_h_enc,backward_state_c_enc = loaded_model.layers[4].output\n",
        "concatenate = loaded_model.layers[6]\n",
        "encoder_h = concatenate([forward_state_h_enc,backward_state_h_enc])\n",
        "concatenate_1 = loaded_model.layers[7]\n",
        "encoder_c = concatenate_1([forward_state_c_enc,backward_state_c_enc])\n",
        "en_states=[forward_state_h_enc,forward_state_c_enc,backward_state_h_enc,backward_state_c_enc]\n",
        "# Encode the input sequence to get the feature vector\n",
        "encoder_model = keras.Model(inputs=loaded_model.input[0],outputs=[en_outputs, encoder_h ,encoder_c])\n",
        "\n",
        "# Decoder setup\n",
        "# Below tensors will hold the states of the previous time step\n",
        "decoder_input =  Input(shape=( None,))\n",
        "decoder_state_input_h = Input(shape=(512,))\n",
        "decoder_state_input_c = Input(shape=(512,))\n",
        "decoder_hidden_state_input = Input(shape=(max_text_len,512))\n",
        "decode_input_states = [decoder_state_input_h, decoder_state_input_c]\n",
        "# Get the embeddings of the decoder sequence\n",
        "dec_inputs = loaded_model.input[1]\n",
        "dec_emb_layer = loaded_model.layers[5]\n",
        "dec_lstm = loaded_model.layers[8]\n",
        "dec_embedding= dec_emb_layer(dec_inputs)\n",
        "\n",
        "# To predict the next word in the sequence, set the initial states to the states from the previous time step\n",
        "decoder_outputs, state_h3, state_c3 = dec_lstm(dec_embedding, initial_state=decode_input_states)\n",
        "\n",
        "# A dense softmax layer to generate prob dist. over the target vocabulary\n",
        "dec_dense = loaded_model.layers[9]\n",
        "decoder_outputs = dec_dense(decoder_outputs)\n",
        "\n",
        "# Final decoder model\n",
        "decoder_model = keras.Model(\n",
        "    [dec_inputs] + [decoder_hidden_state_input]+ [decode_input_states],\n",
        "    [decoder_outputs] + [state_h3, state_c3])\n",
        "\n",
        "\n",
        "def conversion_to_wordsummary(input_seq):\n",
        "    newString=''\n",
        "    for i in input_seq:\n",
        "        if((i!=0 and i!=target_word_index['sostok']) and i!=target_word_index['eostok']):\n",
        "            newString=newString+reverse_target_word_index[i]+' '\n",
        "    return newString\n",
        "\n",
        "def conversion_to_articletext(input_seq):\n",
        "    newString=''\n",
        "    for i in input_seq:\n",
        "        if(i!=0):\n",
        "            newString=newString+reverse_source_word_index[i]+' '\n",
        "    return newString\n",
        "\n",
        "def decode_sequence(input_seq):\n",
        "    target_seq = np.zeros((1,1))\n",
        "    target_seq[0, 0] = target_word_index['sostok']\n",
        "    decoded_sentence = ''\n",
        "    e_out, en_h,en_c = encoder_model.predict(input_seq)\n",
        "    stop_condition = False\n",
        "    while not stop_condition:\n",
        "        output_tokens, h, c = decoder_model.predict([target_seq] + [e_out, en_h,en_c])\n",
        "        sampled_token_index = np.argmax(output_tokens[0, -1, :])\n",
        "        sampled_token = reverse_target_word_index[sampled_token_index]\n",
        "        \n",
        "        if(sampled_token!='eostok'):\n",
        "            decoded_sentence += ' '+sampled_token\n",
        "\n",
        "        # Exit condition: either hit max length or find stop word.\n",
        "        if (sampled_token == 'eostok'  or len(decoded_sentence.split()) >= (max_summary_len-1)):\n",
        "            stop_condition = True\n",
        "\n",
        "        # Update the target sequence (of length 1).\n",
        "        target_seq = np.zeros((1,1))\n",
        "        target_seq[0, 0] = sampled_token_index\n",
        "\n",
        "        # Update internal states\n",
        "        e_h, e_c = h, c\n",
        "\n",
        "    return decoded_sentence\n",
        "\n",
        "for i in range(0,10):\n",
        "    print(\"Review:\",conversion_to_articletext(reviews_tr[i]))\n",
        "    print(\"Original summary:\",conversion_to_wordsummary(summary_tr[i]))\n",
        "    print(\"Predicted summary:\",decode_sequence(reviews_tr[i].reshape(1,max_text_len)))\n",
        "    print(\"\\n\")"
      ],
      "metadata": {
        "colab": {
          "base_uri": "https://localhost:8080/"
        },
        "id": "snUr63TXybII",
        "outputId": "530e64c7-0ce3-4acb-c262-15f6d4449c9a"
      },
      "execution_count": 13,
      "outputs": [
        {
          "output_type": "stream",
          "name": "stdout",
          "text": [
            "Review: introduced product neice christmas flavorful refreshing love especially flu cold season \n",
            "Original summary: awesome product \n",
            "Predicted summary:  refreshing refreshing refreshing refreshing refreshing refreshing refreshing refreshing refreshing\n",
            "\n",
            "\n",
            "Review: great price excellent chip cent ounce bag bargain well tasty chip everyone let try impressed commented good taste yet find kettle chip disappointed \n",
            "Original summary: tasty \n",
            "Predicted summary:  great chip good chip good chip good chip good\n",
            "\n",
            "\n",
            "Review: never used product researched purchased red mill item home grocery stor like trust product different pleased folk sent fast packed well thank \n",
            "Original summary: hoping \n",
            "Predicted summary:  great product exactly great product exactly great product exactly\n",
            "\n",
            "\n",
            "Review: remembered childhood available store sure wish would bring back locally \n",
            "Original summary: delicious \n",
            "Predicted summary:  great gift loved\n",
            "\n",
            "\n",
            "Review: love ship alaska hard time finding plant tree would actually ship bush alaska would totally recommend teacher living want little tree home lot bush alaska tundraso tree \n",
            "Original summary: ship alaska \n",
            "Predicted summary:  plant plant plant plant plant plant plant plant plant\n",
            "\n",
            "\n",
            "Review: ordered hot cocoa grandson christmas love flavor able make delivery good several day still plenty time christmas would recommend anyone \n",
            "Original summary: well pleased \n",
            "Predicted summary:  great hot cocoa hot cocoa hot cocoa hot cocoa\n",
            "\n",
            "\n",
            "Review: consider purchasing different product juice contained plastic one known bpa widely told avoid especially baby \n",
            "Original summary: bpa \n",
            "Predicted summary:  contains contains contains contains contains contains contains contains contains\n",
            "\n",
            "\n",
            "Review: bought tea stop shop clearly warning expect like panic attack something uncomfortable like heart beat loudly audible fancy flavor tea yogi make sampler one \n",
            "Original summary: made heart pound \n",
            "Predicted summary:  tea work awful tea work awful tea work awful\n",
            "\n",
            "\n",
            "Review: made recipe package family loved dish make many many time grandson said wanted whole dishful \n",
            "Original summary: goooood stuff \n",
            "Predicted summary:  great product great product great product great product great\n",
            "\n",
            "\n",
            "Review: fruit snack perfect took bag work shared coworkers want time told buy amazon share strawberry bannana bag though mine mm mm good \n",
            "Original summary: absolutely yummy \n",
            "Predicted summary:  delicious snack fruit fruit fruit fruit fruit fruit fruit\n",
            "\n",
            "\n"
          ]
        }
      ]
    }
  ]
}