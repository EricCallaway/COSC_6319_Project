{
  "nbformat": 4,
  "nbformat_minor": 0,
  "metadata": {
    "colab": {
      "name": "biLSTM_reviews_summarization.ipynb",
      "provenance": [],
      "collapsed_sections": [],
      "mount_file_id": "1RVkFbKXJkzVxw6fqxep2OxifS8WlCFau",
      "authorship_tag": "ABX9TyPQ/mvarxO4acJlcVxu3t1I",
      "include_colab_link": true
    },
    "kernelspec": {
      "name": "python3",
      "display_name": "Python 3"
    },
    "language_info": {
      "name": "python"
    }
  },
  "cells": [
    {
      "cell_type": "markdown",
      "metadata": {
        "id": "view-in-github",
        "colab_type": "text"
      },
      "source": [
        "<a href=\"https://colab.research.google.com/github/EricCallaway/COSC_6319_Project/blob/NavyaMakkena_COSC_6319_Project/biLSTM_reviews_summarization.ipynb\" target=\"_parent\"><img src=\"https://colab.research.google.com/assets/colab-badge.svg\" alt=\"Open In Colab\"/></a>"
      ]
    },
    {
      "cell_type": "code",
      "execution_count": null,
      "metadata": {
        "colab": {
          "base_uri": "https://localhost:8080/"
        },
        "id": "o7isZ4DmgTmr",
        "outputId": "06365a63-9d17-4223-c32c-7fef57688c1a"
      },
      "outputs": [
        {
          "output_type": "stream",
          "name": "stdout",
          "text": [
            "<class 'pandas.core.frame.DataFrame'>\n",
            "Int64Index: 88421 entries, 0 to 99999\n",
            "Data columns (total 10 columns):\n",
            " #   Column                  Non-Null Count  Dtype \n",
            "---  ------                  --------------  ----- \n",
            " 0   Id                      88421 non-null  int64 \n",
            " 1   ProductId               88421 non-null  object\n",
            " 2   UserId                  88421 non-null  object\n",
            " 3   ProfileName             88421 non-null  object\n",
            " 4   HelpfulnessNumerator    88421 non-null  int64 \n",
            " 5   HelpfulnessDenominator  88421 non-null  int64 \n",
            " 6   Score                   88421 non-null  int64 \n",
            " 7   Time                    88421 non-null  int64 \n",
            " 8   Summary                 88421 non-null  object\n",
            " 9   Text                    88421 non-null  object\n",
            "dtypes: int64(5), object(5)\n",
            "memory usage: 7.4+ MB\n"
          ]
        }
      ],
      "source": [
        "import pandas as pd\n",
        "\n",
        "data=pd.read_csv(\"/content/drive/My Drive/Colab Notebooks/Reviews.csv\",nrows=100000)\n",
        "data.drop_duplicates(subset=['Text'],inplace=True)#dropping duplicates\n",
        "data.dropna(axis=0,inplace=True)#dropping na\n",
        "\n",
        "data.info()"
      ]
    },
    {
      "cell_type": "code",
      "source": [
        "!pip install contractions"
      ],
      "metadata": {
        "colab": {
          "base_uri": "https://localhost:8080/"
        },
        "id": "6oJThOCrgmcD",
        "outputId": "1b923234-0068-4e83-9ca5-a508e90db84d"
      },
      "execution_count": null,
      "outputs": [
        {
          "output_type": "stream",
          "name": "stdout",
          "text": [
            "Collecting contractions\n",
            "  Downloading contractions-0.1.72-py2.py3-none-any.whl (8.3 kB)\n",
            "Collecting textsearch>=0.0.21\n",
            "  Downloading textsearch-0.0.21-py2.py3-none-any.whl (7.5 kB)\n",
            "Collecting anyascii\n",
            "  Downloading anyascii-0.3.1-py3-none-any.whl (287 kB)\n",
            "\u001b[K     |████████████████████████████████| 287 kB 3.8 MB/s \n",
            "\u001b[?25hCollecting pyahocorasick\n",
            "  Downloading pyahocorasick-1.4.4-cp37-cp37m-manylinux_2_17_x86_64.manylinux2014_x86_64.whl (106 kB)\n",
            "\u001b[K     |████████████████████████████████| 106 kB 48.5 MB/s \n",
            "\u001b[?25hInstalling collected packages: pyahocorasick, anyascii, textsearch, contractions\n",
            "Successfully installed anyascii-0.3.1 contractions-0.1.72 pyahocorasick-1.4.4 textsearch-0.0.21\n"
          ]
        }
      ]
    },
    {
      "cell_type": "code",
      "source": [
        "import re\n",
        "import string\n",
        "import nltk\n",
        "nltk.download('stopwords')\n",
        "nltk.download('punkt')\n",
        "nltk.download('wordnet')\n",
        "from nltk.corpus import stopwords\n",
        "from nltk.tokenize import word_tokenize\n",
        "from bs4 import BeautifulSoup\n",
        "import contractions\n",
        "import numpy as np\n",
        "from nltk.stem import WordNetLemmatizer\n",
        "\n",
        "def text_lowercase(text):\n",
        "    return text.lower()\n",
        "\n",
        "def remove_numbers(text):\n",
        "    output_text = re.sub(r'\\d+', '', text)\n",
        "    return output_text\n",
        "\n",
        "def remove_punctuation(text):\n",
        "    translator = str.maketrans('', '', string.punctuation)\n",
        "    return text.translate(translator)\n",
        "\n",
        "def remove_whitespace(text):\n",
        "    return  text.strip()\n",
        "\n",
        "def remove_stopwords(text):\n",
        "    stop_words = set(stopwords.words(\"english\"))\n",
        "    filtered_text = \" \".join([word for word in str(text).split() if word not in stop_words])\n",
        "    return filtered_text\n",
        "\n",
        "def remove_html(dataText):\n",
        "    return BeautifulSoup(dataText, \"lxml\").text\n",
        "\n",
        "def contraction_mapping(text):\n",
        "    expanded_words = []   \n",
        "    for word in text.split():\n",
        "    # using contractions.fix to expand the shortened words\n",
        "      expanded_words.append(contractions.fix(word))  \n",
        "    expanded_text = ' '.join(expanded_words)\n",
        "    return expanded_text\n",
        "\n",
        "def lemmatization(text):\n",
        "   lemmatizer = WordNetLemmatizer()\n",
        "   return \" \".join([lemmatizer.lemmatize(word) for word in text.split()])\n",
        "\n",
        "\n",
        "\n",
        "def cleaning_data(content):\n",
        "    # Lowercase text\n",
        "    content = text_lowercase(content)\n",
        "\n",
        "    # Remove numbers\n",
        "    content = remove_numbers(content)\n",
        "\n",
        "    # remove punctuation\n",
        "    content = remove_punctuation(content)\n",
        "\n",
        "    # remove whitespace from text\n",
        "    content = remove_whitespace(content)\n",
        "\n",
        "    # remove html from string\n",
        "    content = remove_html(content)\n",
        "\n",
        "    # contraction mapping\n",
        "    content = contraction_mapping(content)\n",
        "\n",
        "    # remove stopwords\n",
        "    content = remove_stopwords(content)\n",
        "\n",
        "    # lemmatization\n",
        "    content = lemmatization(content)\n",
        "    return content\n",
        "\n",
        "print(data['Text'][0])\n",
        "cleaned_text = []\n",
        "for t in data['Text']:\n",
        "    cleaned_text.append(cleaning_data(t))\n",
        "\n",
        "print(cleaned_text[:5])\n",
        "\n",
        "cleaned_summary = []\n",
        "for t in data['Summary']:\n",
        "    cleaned_summary.append(cleaning_data(t))\n",
        "\n",
        "print(cleaned_summary[:10])\n",
        "\n",
        "data.replace('', np.nan, inplace=True)\n",
        "data.dropna(axis=0,inplace=True)"
      ],
      "metadata": {
        "colab": {
          "base_uri": "https://localhost:8080/"
        },
        "id": "BnhsegpTguJI",
        "outputId": "acb69686-6836-49cd-896e-fce25e57968e"
      },
      "execution_count": null,
      "outputs": [
        {
          "output_type": "stream",
          "name": "stdout",
          "text": [
            "[nltk_data] Downloading package stopwords to /root/nltk_data...\n",
            "[nltk_data]   Unzipping corpora/stopwords.zip.\n",
            "[nltk_data] Downloading package punkt to /root/nltk_data...\n",
            "[nltk_data]   Unzipping tokenizers/punkt.zip.\n",
            "[nltk_data] Downloading package wordnet to /root/nltk_data...\n",
            "[nltk_data]   Unzipping corpora/wordnet.zip.\n",
            "I have bought several of the Vitality canned dog food products and have found them all to be of good quality. The product looks more like a stew than a processed meat and it smells better. My Labrador is finicky and she appreciates this product better than  most.\n",
            "['bought several vitality canned dog food product found good quality product look like stew processed meat smell better labrador finicky appreciates product better', 'product arrived labeled jumbo salted peanutsthe peanut actually small sized unsalted sure error vendor intended represent product jumbo', 'confection around century light pillowy citrus gelatin nut case filbert cut tiny square liberally coated powdered sugar tiny mouthful heaven chewy flavorful highly recommend yummy treat familiar story c lewis lion witch wardrobe treat seduces edmund selling brother sister witch', 'looking secret ingredient robitussin believe found got addition root beer extract ordered good made cherry soda flavor medicinal', 'great taffy great price wide assortment yummy taffy delivery quick taffy lover deal']\n",
            "['good quality dog food', 'advertised', 'delight say', 'cough medicine', 'great taffy', 'nice taffy', 'great good expensive brand', 'wonderful tasty taffy', 'yay barley', 'healthy dog food']\n"
          ]
        }
      ]
    },
    {
      "cell_type": "code",
      "source": [
        "max_text_len=30\n",
        "max_summary_len=8"
      ],
      "metadata": {
        "id": "RmSxztRKhf7K"
      },
      "execution_count": null,
      "outputs": []
    },
    {
      "cell_type": "code",
      "source": [
        "cleaned_text =np.array(cleaned_text)\n",
        "cleaned_summary=np.array(cleaned_summary)\n",
        "\n",
        "short_text=[]\n",
        "short_summary=[]\n",
        "\n",
        "for i in range(len(cleaned_text)):\n",
        "    if(len(cleaned_summary[i].split())<=max_summary_len and len(cleaned_text[i].split())<=max_text_len):\n",
        "        short_text.append(cleaned_text[i])\n",
        "        short_summary.append(cleaned_summary[i])\n",
        "        \n",
        "df=pd.DataFrame({'text':short_text,'summary':short_summary})\n",
        "\n",
        "df['summary'] = df['summary'].apply(lambda x : 'sostok '+ x + ' eostok')\n",
        "from sklearn.model_selection import train_test_split\n",
        "x_tr,x_val,y_tr,y_val=train_test_split(np.array(df['text']),np.array(df['summary']),test_size=0.1,random_state=0,shuffle=True) "
      ],
      "metadata": {
        "id": "6t6uKsEmhjMd"
      },
      "execution_count": null,
      "outputs": []
    },
    {
      "cell_type": "code",
      "source": [
        "from keras.preprocessing.text import Tokenizer\n",
        "VOCAB_SIZE = 50000\n",
        "article_tokenizer = Tokenizer(num_words=VOCAB_SIZE)\n",
        "# articles\n",
        "article_tokenizer.fit_on_texts(list(x_tr))\n",
        "article_sequences = article_tokenizer.texts_to_sequences(x_tr)\n",
        "article_val_seq   =   article_tokenizer.texts_to_sequences(x_val)\n",
        "art_word_index = article_tokenizer.word_index\n",
        "print(len(art_word_index))\n",
        "# summaries\n",
        "summary_tokenizer = Tokenizer(num_words=VOCAB_SIZE)\n",
        "summary_tokenizer.fit_on_texts(list(y_tr))\n",
        "summary_sequences = summary_tokenizer.texts_to_sequences(y_tr)\n",
        "summary_val_seq   = summary_tokenizer.texts_to_sequences(y_val) \n",
        "summary_word_index = summary_tokenizer.word_index\n",
        "print(len(summary_word_index))\n",
        "\n",
        "from keras.preprocessing.sequence import pad_sequences\n",
        "import numpy as np\n",
        "\n",
        "x_tr = pad_sequences(article_sequences, maxlen=max_text_len, padding='post', truncating='post')\n",
        "y_tr = pad_sequences(summary_sequences, maxlen=max_summary_len, padding='post', truncating='post')\n",
        "x_val = pad_sequences(article_val_seq, maxlen=max_text_len, padding='post', truncating='post')\n",
        "y_val = pad_sequences(summary_val_seq, maxlen=max_summary_len, padding='post', truncating='post')\n",
        "\n",
        "print(x_tr.shape)\n",
        "print(y_tr.shape)"
      ],
      "metadata": {
        "colab": {
          "base_uri": "https://localhost:8080/"
        },
        "id": "N4oM9h3gjKo9",
        "outputId": "0cd17d29-9bb0-4702-a0a2-2198ca634ae4"
      },
      "execution_count": null,
      "outputs": [
        {
          "output_type": "stream",
          "name": "stdout",
          "text": [
            "30811\n",
            "9142\n",
            "(42820, 30)\n",
            "(42820, 8)\n"
          ]
        }
      ]
    },
    {
      "cell_type": "code",
      "source": [
        "import numpy as np\n",
        "\n",
        "embeddings_index = {}\n",
        "with open('/content/drive/My Drive/Colab Notebooks/glove.6B.200d.txt', encoding='utf-8') as f:\n",
        "    for line in f:\n",
        "        values = line.split()\n",
        "        word = values[0]\n",
        "        coefs = np.asarray(values[1:], dtype='float32')\n",
        "        embeddings_index[word] = coefs\n",
        "    f.close()\n",
        "\n",
        "print('Found %s word vectors.' % len(embeddings_index))\n",
        "\n",
        "embedding_dim = 200\n",
        "hits = 0\n",
        "misses = 0\n",
        "\n",
        "# Prepare embedding matrix for articles\n",
        "article_embedding_matrix = np.zeros(((len(art_word_index)+1), embedding_dim))\n",
        "for word, i in art_word_index.items():\n",
        "    embedding_vector = embeddings_index.get(word)\n",
        "    if embedding_vector is not None:\n",
        "        # Words not found in embedding index will be all-zeros.\n",
        "        # This includes the representation for \"padding\" and \"OOV\"\n",
        "        article_embedding_matrix[i] = embedding_vector\n",
        "        hits += 1\n",
        "    else:\n",
        "        misses += 1\n",
        "print(\"Converted %d words (%d misses)\" % (hits, misses))\n",
        "print(article_embedding_matrix.shape)\n",
        "\n",
        "# Prepare embedding matrix for summaries\n",
        "hits=0\n",
        "misses = 0\n",
        "summary_embedding_matrix = np.zeros((len(summary_word_index) + 1, embedding_dim))\n",
        "for word, j in summary_word_index.items():\n",
        "    embedding_vector = embeddings_index.get(word)\n",
        "    if embedding_vector is not None:\n",
        "        # Words not found in embedding index will be all-zeros.\n",
        "        # This includes the representation for \"padding\" and \"OOV\"\n",
        "        summary_embedding_matrix[j] = embedding_vector\n",
        "        hits += 1\n",
        "    else:\n",
        "        misses += 1\n",
        "print(\"Converted %d words (%d misses)\" % (hits, misses))\n",
        "print(summary_embedding_matrix.shape)"
      ],
      "metadata": {
        "colab": {
          "base_uri": "https://localhost:8080/"
        },
        "id": "S_tP9cYokiCp",
        "outputId": "5eb3f8b9-4710-47a9-d866-5de49c0a300b"
      },
      "execution_count": null,
      "outputs": [
        {
          "output_type": "stream",
          "name": "stdout",
          "text": [
            "Found 400001 word vectors.\n",
            "Converted 16459 words (14352 misses)\n",
            "(30812, 200)\n",
            "Converted 6681 words (2461 misses)\n",
            "(9143, 200)\n"
          ]
        }
      ]
    },
    {
      "cell_type": "code",
      "source": [
        "from keras.layers import Embedding\n",
        "import keras.initializers\n",
        "\n",
        "encoder_embedding_layer = Embedding(\n",
        "    input_dim = article_embedding_matrix.shape[0], #num_distinct_words\n",
        "    output_dim = embedding_dim, #embedding_output_dims\n",
        "    input_length = max_text_len, #max_sequence_length\n",
        "    embeddings_initializer= keras.initializers.Constant(article_embedding_matrix),\n",
        "    trainable = True\n",
        ")\n",
        "\n",
        "decoder_embedding_layer = Embedding(\n",
        "    input_dim = summary_embedding_matrix.shape[0],\n",
        "    output_dim = embedding_dim,\n",
        "    input_length = max_summary_len,\n",
        "    embeddings_initializer= keras.initializers.Constant(summary_embedding_matrix),\n",
        "    trainable = True\n",
        ")"
      ],
      "metadata": {
        "id": "iBV4qDvDksHw"
      },
      "execution_count": null,
      "outputs": []
    },
    {
      "cell_type": "code",
      "source": [
        "from tensorflow import keras\n",
        "from keras import layers\n",
        "from keras.layers import Dense,LSTM,Dropout,Input,Activation,Bidirectional,TimeDistributed\n",
        "\n",
        "# Input layer\n",
        "encoder_input = layers.Input(shape=(max_text_len))\n",
        "encoder_embedded = encoder_embedding_layer(encoder_input)\n",
        "\n",
        "# Decoder -- LSTM\n",
        "decoder_input = layers.Input(shape=(None,))\n",
        "decoder_embedded = decoder_embedding_layer(decoder_input)\n",
        "\n",
        "# Encoder 1 -- Bidirectional LSTM 1\n",
        "encoder1_output, forward_h1, forward_c1 ,backward_h1, backward_c1= Bidirectional(layers.LSTM(200, return_state=True, return_sequences=True,dropout=0.4,recurrent_dropout=0.4,name=\"encoder1\"),merge_mode=\"concat\")(\n",
        "    encoder_embedded\n",
        ")\n",
        "# Encoder 2 -- Bidirectional LSTM 2\n",
        "encode2_output, forward_h2, forward_c2 ,backward_h2, backward_c2= Bidirectional(layers.LSTM(200, return_state=True, return_sequences=True,dropout=0.4,recurrent_dropout=0.4,name=\"encoder2\"),merge_mode=\"concat\")(\n",
        "    encoder1_output,initial_state=[forward_h1,backward_h1,forward_c1,backward_c1]\n",
        ")\n",
        "state_h2 =  layers.Concatenate()([forward_h2, backward_h2])\n",
        "state_c2 =  layers.Concatenate()([forward_c2, backward_c2])\n",
        "encoder2_state = [state_h2,state_c2]\n",
        "\n",
        "# Pass the encoder 2 state to decoder LSTM layer, as initial state\n",
        "decoder_LSTM= layers.LSTM(400,return_sequences=True, return_state=True,dropout=0.4,recurrent_dropout=0.2,name=\"decoder\")\n",
        "decoder_output,decoder_state_h1 ,decoder_state_c1 = decoder_LSTM(\n",
        "    decoder_embedded, initial_state=encoder2_state\n",
        ")\n",
        "# Dense layer with activation\n",
        "decoder_dense = TimeDistributed(layers.Dense(len(summary_word_index)+1,activation='softmax'))\n",
        "decoder_output = decoder_dense(decoder_output)\n",
        "\n",
        "model = keras.Model([encoder_input, decoder_input], decoder_output)\n",
        "model.summary()"
      ],
      "metadata": {
        "colab": {
          "base_uri": "https://localhost:8080/"
        },
        "id": "i9fhqwCvk8Sl",
        "outputId": "e8f791ac-76a3-41e0-e853-355b4ce9a25d"
      },
      "execution_count": null,
      "outputs": [
        {
          "output_type": "stream",
          "name": "stdout",
          "text": [
            "Model: \"model_4\"\n",
            "__________________________________________________________________________________________________\n",
            " Layer (type)                   Output Shape         Param #     Connected to                     \n",
            "==================================================================================================\n",
            " input_9 (InputLayer)           [(None, 30)]         0           []                               \n",
            "                                                                                                  \n",
            " embedding_4 (Embedding)        (None, 30, 200)      6162400     ['input_9[0][0]']                \n",
            "                                                                                                  \n",
            " bidirectional_8 (Bidirectional  [(None, 30, 400),   641600      ['embedding_4[2][0]']            \n",
            " )                               (None, 200),                                                     \n",
            "                                 (None, 200),                                                     \n",
            "                                 (None, 200),                                                     \n",
            "                                 (None, 200)]                                                     \n",
            "                                                                                                  \n",
            " input_10 (InputLayer)          [(None, None)]       0           []                               \n",
            "                                                                                                  \n",
            " bidirectional_9 (Bidirectional  [(None, 30, 400),   961600      ['bidirectional_8[0][0]',        \n",
            " )                               (None, 200),                     'bidirectional_8[0][1]',        \n",
            "                                 (None, 200),                     'bidirectional_8[0][3]',        \n",
            "                                 (None, 200),                     'bidirectional_8[0][2]',        \n",
            "                                 (None, 200)]                     'bidirectional_8[0][4]']        \n",
            "                                                                                                  \n",
            " embedding_5 (Embedding)        (None, None, 200)    1828600     ['input_10[0][0]']               \n",
            "                                                                                                  \n",
            " concatenate_8 (Concatenate)    (None, 400)          0           ['bidirectional_9[0][1]',        \n",
            "                                                                  'bidirectional_9[0][3]']        \n",
            "                                                                                                  \n",
            " concatenate_9 (Concatenate)    (None, 400)          0           ['bidirectional_9[0][2]',        \n",
            "                                                                  'bidirectional_9[0][4]']        \n",
            "                                                                                                  \n",
            " decoder (LSTM)                 [(None, None, 400),  961600      ['embedding_5[2][0]',            \n",
            "                                 (None, 400),                     'concatenate_8[0][0]',          \n",
            "                                 (None, 400)]                     'concatenate_9[0][0]']          \n",
            "                                                                                                  \n",
            " time_distributed_4 (TimeDistri  (None, None, 9143)  3666343     ['decoder[0][0]']                \n",
            " buted)                                                                                           \n",
            "                                                                                                  \n",
            "==================================================================================================\n",
            "Total params: 14,222,143\n",
            "Trainable params: 14,222,143\n",
            "Non-trainable params: 0\n",
            "__________________________________________________________________________________________________\n"
          ]
        }
      ]
    },
    {
      "cell_type": "code",
      "source": [
        "model.compile(optimizer='rmsprop', loss='sparse_categorical_crossentropy')"
      ],
      "metadata": {
        "id": "jN95JFDkmOmB"
      },
      "execution_count": null,
      "outputs": []
    },
    {
      "cell_type": "code",
      "source": [
        "from keras.callbacks import EarlyStopping\n",
        "es = EarlyStopping(monitor='val_loss', mode='min', verbose=1,patience=2)\n"
      ],
      "metadata": {
        "id": "NCe531FrmSNT"
      },
      "execution_count": null,
      "outputs": []
    },
    {
      "cell_type": "code",
      "source": [
        "history=model.fit([x_tr,y_tr[:,:-1]], y_tr.reshape(y_tr.shape[0],y_tr.shape[1], 1)[:,1:] ,epochs=50,callbacks=[es],batch_size=128, validation_data=([x_val,y_val[:,:-1]], y_val.reshape(y_val.shape[0],y_val.shape[1], 1)[:,1:]))\n",
        "model.save(\"my_model\")"
      ],
      "metadata": {
        "colab": {
          "base_uri": "https://localhost:8080/"
        },
        "id": "_hftCmo8ma8t",
        "outputId": "2c502396-cad6-46d8-f307-5d3b3edff556"
      },
      "execution_count": null,
      "outputs": [
        {
          "output_type": "stream",
          "name": "stdout",
          "text": [
            "Epoch 1/50\n",
            "335/335 [==============================] - 1079s 3s/step - loss: 2.6123 - val_loss: 2.2235\n",
            "Epoch 2/50\n",
            "335/335 [==============================] - 1069s 3s/step - loss: 2.3214 - val_loss: 2.1317\n",
            "Epoch 3/50\n",
            "335/335 [==============================] - 1084s 3s/step - loss: 2.2176 - val_loss: 2.0606\n",
            "Epoch 4/50\n",
            "335/335 [==============================] - 1091s 3s/step - loss: 2.1435 - val_loss: 2.0133\n",
            "Epoch 5/50\n",
            "335/335 [==============================] - 1104s 3s/step - loss: 2.0819 - val_loss: 1.9872\n",
            "Epoch 6/50\n",
            "335/335 [==============================] - 1108s 3s/step - loss: 2.0255 - val_loss: 1.9754\n",
            "Epoch 7/50\n",
            "335/335 [==============================] - 1101s 3s/step - loss: 1.9776 - val_loss: 1.9625\n",
            "Epoch 8/50\n",
            "335/335 [==============================] - 1101s 3s/step - loss: 1.9342 - val_loss: 1.9607\n",
            "Epoch 9/50\n",
            "335/335 [==============================] - 1106s 3s/step - loss: 1.8922 - val_loss: 1.9558\n",
            "Epoch 10/50\n",
            "335/335 [==============================] - 1111s 3s/step - loss: 1.8516 - val_loss: 1.9606\n",
            "Epoch 11/50\n",
            "335/335 [==============================] - 1110s 3s/step - loss: 1.8154 - val_loss: 1.9569\n",
            "Epoch 11: early stopping\n"
          ]
        }
      ]
    },
    {
      "cell_type": "code",
      "source": [
        "from matplotlib import pyplot\n",
        "pyplot.plot(history.history['loss'], label='train')\n",
        "pyplot.plot(history.history['val_loss'], label='test')\n",
        "pyplot.legend()\n",
        "pyplot.show()"
      ],
      "metadata": {
        "colab": {
          "base_uri": "https://localhost:8080/",
          "height": 265
        },
        "id": "_nBPvEkKiBRT",
        "outputId": "1b71e5c4-c9aa-4144-da83-d3bceeeb414c"
      },
      "execution_count": null,
      "outputs": [
        {
          "output_type": "display_data",
          "data": {
            "text/plain": [
              "<Figure size 432x288 with 1 Axes>"
            ],
            "image/png": "[encoded data removed]"
          },
          "metadata": {
            "needs_background": "light"
          }
        }
      ]
    },
    {
      "cell_type": "code",
      "source": [
        "reverse_target_word_index= summary_tokenizer.index_word\n",
        "reverse_source_word_index= article_tokenizer.index_word\n",
        "target_word_index=summary_tokenizer.word_index\n",
        "\n",
        "# Encode the input sequence to get the feature vector\n",
        "encoder_model = keras.Model(inputs=encoder_input,outputs=[encoder1_output, state_h2, state_c2])\n",
        "\n",
        "# Decoder setup\n",
        "# Below tensors will hold the states of the previous time step\n",
        "decoder_input =  Input(shape=( None,))\n",
        "decoder_state_input_h = Input(shape=(400,))\n",
        "decoder_state_input_c = Input(shape=(400,))\n",
        "decoder_hidden_state_input = Input(shape=(max_text_len,400))\n",
        "decode_input_states = [decoder_state_input_h, decoder_state_input_c]\n",
        "# Get the embeddings of the decoder sequence\n",
        "decoder_embedded1 = decoder_embedding_layer(decoder_input)\n",
        "\n",
        "# To predict the next word in the sequence, set the initial states to the states from the previous time step\n",
        "decoder_outputs2, state_h3, state_c3 = decoder_LSTM(decoder_embedded1, initial_state=decode_input_states)\n",
        "\n",
        "# A dense softmax layer to generate prob dist. over the target vocabulary\n",
        "decoder_outputs2 = decoder_dense(decoder_outputs2) \n",
        "\n",
        "# Final decoder model\n",
        "decoder_model = keras.Model(\n",
        "    [decoder_input] + [decoder_hidden_state_input, decoder_state_input_h,decoder_state_input_c],\n",
        "    [decoder_outputs2] + [state_h3, state_c3])\n",
        "\n",
        "\n",
        "def conversion_to_wordsummary(input_seq):\n",
        "    newString=''\n",
        "    for i in input_seq:\n",
        "        if((i!=0 and i!=target_word_index['sostok']) and i!=target_word_index['eostok']):\n",
        "            newString=newString+reverse_target_word_index[i]+' '\n",
        "    return newString\n",
        "\n",
        "def conversion_to_articletext(input_seq):\n",
        "    newString=''\n",
        "    for i in input_seq:\n",
        "        if(i!=0):\n",
        "            newString=newString+reverse_source_word_index[i]+' '\n",
        "    return newString\n",
        "\n",
        "def decode_sequence(input_seq):\n",
        "    target_seq = np.zeros((1,1))\n",
        "    target_seq[0, 0] = target_word_index['sostok']\n",
        "    decoded_sentence = ''\n",
        "    e_out, e_h, e_c = encoder_model.predict(input_seq)\n",
        "    stop_condition = False\n",
        "    while not stop_condition:\n",
        "        output_tokens, h, c = decoder_model.predict([target_seq] + [e_out,e_h, e_c])\n",
        "        sampled_token_index = np.argmax(output_tokens[0, -1, :])\n",
        "        sampled_token = reverse_target_word_index[sampled_token_index]\n",
        "        \n",
        "        if(sampled_token!='eostok'):\n",
        "            decoded_sentence += ' '+sampled_token\n",
        "\n",
        "        # Exit condition: either hit max length or find stop word.\n",
        "        if (sampled_token == 'eostok'  or len(decoded_sentence.split()) >= (max_summary_len-1)):\n",
        "            stop_condition = True\n",
        "\n",
        "        # Update the target sequence (of length 1).\n",
        "        target_seq = np.zeros((1,1))\n",
        "        target_seq[0, 0] = sampled_token_index\n",
        "\n",
        "        # Update internal states\n",
        "        e_h, e_c = h, c\n",
        "\n",
        "    return decoded_sentence\n",
        "\n",
        "for i in range(0,10):\n",
        "    print(\"Review:\",conversion_to_articletext(x_tr[i]))\n",
        "    print(\"Original summary:\",conversion_to_wordsummary(y_tr[i]))\n",
        "    print(\"Predicted summary:\",decode_sequence(x_tr[i].reshape(1,max_text_len)))\n",
        "    print(\"\\n\")"
      ],
      "metadata": {
        "colab": {
          "base_uri": "https://localhost:8080/"
        },
        "id": "a-P-5KKciJM2",
        "outputId": "360cc54d-0dc6-4c1a-fc01-be16bf20624e"
      },
      "execution_count": null,
      "outputs": [
        {
          "output_type": "stream",
          "name": "stdout",
          "text": [
            "Review: exceptionally wonderful transaction mixup item contact seller issue resolved simply easily ill tell mixup really get know professional seller one top notch \n",
            "Original summary: fantastic \n",
            "Predicted summary:  great product\n",
            "\n",
            "\n",
            "Review: cooky better lemon one still tasty one \n",
            "Original summary: glutinfree cooky \n",
            "Predicted summary:  good\n",
            "\n",
            "\n",
            "Review: searched everywhere coffee could roast certified organic fair trade coffee much better stuff grocery store even fancy coffee place additionally price good shipping fast \n",
            "Original summary: fair trade organic super tasty \n",
            "Predicted summary:  good coffee\n",
            "\n",
            "\n",
            "Review: used buy drink froma local store unfortunatly store getting time drink sweet lot pulp far delicious orange drink ever came across site buy two case \n",
            "Original summary: delicious \n",
            "Predicted summary:  best drink ever\n",
            "\n",
            "\n",
            "Review: like popcorn like hot thing stuff right heat pretty addicting always eat whole bag one sitting like burning tongue runny nose cayenne pepper like fume air get stuff \n",
            "Original summary: nice heat \n",
            "Predicted summary:  good stuff\n",
            "\n",
            "\n",
            "Review: feeding psd food year far going best food market working dog keep lean muscular year old belgian malinois \n",
            "Original summary: great food working dog \n",
            "Predicted summary:  best dog food\n",
            "\n",
            "\n",
            "Review: stuff taste kind like starbucks sugar really enjoy buy running low sugar like green tea \n",
            "Original summary: sweetness \n",
            "Predicted summary:  taste like real thing\n",
            "\n",
            "\n",
            "Review: shipping prompt product fully expected helped successful mama agatas lemon cake u flour failed \n",
            "Original summary: wonderful product \n",
            "Predicted summary:  great product\n",
            "\n",
            "\n",
            "Review: soft chewy enjoyed every bite would recommend people love cooky buy hit store \n",
            "Original summary: great \n",
            "Predicted summary:  yummy\n",
            "\n",
            "\n",
            "Review: new greenies terrific dog love worry getting sick new formulation make softer completely digestible \n",
            "Original summary: greenies grreat \n",
            "Predicted summary:  greenies\n",
            "\n",
            "\n"
          ]
        }
      ]
    }
  ]
}