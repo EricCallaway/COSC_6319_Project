{
  "cells": [
    {
      "cell_type": "markdown",
      "metadata": {
        "id": "view-in-github",
        "colab_type": "text"
      },
      "source": [
        "<a href=\"https://colab.research.google.com/github/EricCallaway/COSC_6319_Project/blob/NavyaMakkena_COSC_6319_Project/model_implementation_update.ipynb\" target=\"_parent\"><img src=\"https://colab.research.google.com/assets/colab-badge.svg\" alt=\"Open In Colab\"/></a>"
      ]
    },
    {
      "cell_type": "code",
      "execution_count": 1,
      "metadata": {
        "colab": {
          "base_uri": "https://localhost:8080/"
        },
        "id": "ZGpla4rAFjzd",
        "outputId": "c9e5be4c-4d93-4028-ffe7-32942e37bac8"
      },
      "outputs": [
        {
          "output_type": "stream",
          "name": "stdout",
          "text": [
            "Requirement already satisfied: transformers in /usr/local/lib/python3.7/dist-packages (4.18.0)\n",
            "Requirement already satisfied: pyyaml>=5.1 in /usr/local/lib/python3.7/dist-packages (from transformers) (6.0)\n",
            "Requirement already satisfied: tqdm>=4.27 in /usr/local/lib/python3.7/dist-packages (from transformers) (4.64.0)\n",
            "Requirement already satisfied: filelock in /usr/local/lib/python3.7/dist-packages (from transformers) (3.6.0)\n",
            "Requirement already satisfied: sacremoses in /usr/local/lib/python3.7/dist-packages (from transformers) (0.0.51)\n",
            "Requirement already satisfied: importlib-metadata in /usr/local/lib/python3.7/dist-packages (from transformers) (4.11.3)\n",
            "Requirement already satisfied: requests in /usr/local/lib/python3.7/dist-packages (from transformers) (2.23.0)\n",
            "Requirement already satisfied: huggingface-hub<1.0,>=0.1.0 in /usr/local/lib/python3.7/dist-packages (from transformers) (0.5.1)\n",
            "Requirement already satisfied: tokenizers!=0.11.3,<0.13,>=0.11.1 in /usr/local/lib/python3.7/dist-packages (from transformers) (0.12.1)\n",
            "Requirement already satisfied: packaging>=20.0 in /usr/local/lib/python3.7/dist-packages (from transformers) (21.3)\n",
            "Requirement already satisfied: regex!=2019.12.17 in /usr/local/lib/python3.7/dist-packages (from transformers) (2019.12.20)\n",
            "Requirement already satisfied: numpy>=1.17 in /usr/local/lib/python3.7/dist-packages (from transformers) (1.21.6)\n",
            "Requirement already satisfied: typing-extensions>=3.7.4.3 in /usr/local/lib/python3.7/dist-packages (from huggingface-hub<1.0,>=0.1.0->transformers) (4.2.0)\n",
            "Requirement already satisfied: pyparsing!=3.0.5,>=2.0.2 in /usr/local/lib/python3.7/dist-packages (from packaging>=20.0->transformers) (3.0.8)\n",
            "Requirement already satisfied: zipp>=0.5 in /usr/local/lib/python3.7/dist-packages (from importlib-metadata->transformers) (3.8.0)\n",
            "Requirement already satisfied: chardet<4,>=3.0.2 in /usr/local/lib/python3.7/dist-packages (from requests->transformers) (3.0.4)\n",
            "Requirement already satisfied: urllib3!=1.25.0,!=1.25.1,<1.26,>=1.21.1 in /usr/local/lib/python3.7/dist-packages (from requests->transformers) (1.25.11)\n",
            "Requirement already satisfied: idna<3,>=2.5 in /usr/local/lib/python3.7/dist-packages (from requests->transformers) (2.10)\n",
            "Requirement already satisfied: certifi>=2017.4.17 in /usr/local/lib/python3.7/dist-packages (from requests->transformers) (2021.10.8)\n",
            "Requirement already satisfied: click==7.1.2 in /usr/local/lib/python3.7/dist-packages (from sacremoses->transformers) (7.1.2)\n",
            "Requirement already satisfied: joblib in /usr/local/lib/python3.7/dist-packages (from sacremoses->transformers) (1.1.0)\n",
            "Requirement already satisfied: six in /usr/local/lib/python3.7/dist-packages (from sacremoses->transformers) (1.15.0)\n"
          ]
        }
      ],
      "source": [
        "!pip install transformers"
      ]
    },
    {
      "cell_type": "code",
      "execution_count": 2,
      "metadata": {
        "id": "HfS4DzErFxTT",
        "colab": {
          "base_uri": "https://localhost:8080/"
        },
        "outputId": "6068c567-c9a8-4058-d389-dc9c53f8191f"
      },
      "outputs": [
        {
          "output_type": "stream",
          "name": "stdout",
          "text": [
            "Requirement already satisfied: datasets in /usr/local/lib/python3.7/dist-packages (2.1.0)\n",
            "Requirement already satisfied: requests>=2.19.0 in /usr/local/lib/python3.7/dist-packages (from datasets) (2.23.0)\n",
            "Requirement already satisfied: responses<0.19 in /usr/local/lib/python3.7/dist-packages (from datasets) (0.18.0)\n",
            "Requirement already satisfied: numpy>=1.17 in /usr/local/lib/python3.7/dist-packages (from datasets) (1.21.6)\n",
            "Requirement already satisfied: xxhash in /usr/local/lib/python3.7/dist-packages (from datasets) (3.0.0)\n",
            "Requirement already satisfied: dill in /usr/local/lib/python3.7/dist-packages (from datasets) (0.3.4)\n",
            "Requirement already satisfied: tqdm>=4.62.1 in /usr/local/lib/python3.7/dist-packages (from datasets) (4.64.0)\n",
            "Requirement already satisfied: multiprocess in /usr/local/lib/python3.7/dist-packages (from datasets) (0.70.12.2)\n",
            "Requirement already satisfied: aiohttp in /usr/local/lib/python3.7/dist-packages (from datasets) (3.8.1)\n",
            "Requirement already satisfied: huggingface-hub<1.0.0,>=0.1.0 in /usr/local/lib/python3.7/dist-packages (from datasets) (0.5.1)\n",
            "Requirement already satisfied: pyarrow>=5.0.0 in /usr/local/lib/python3.7/dist-packages (from datasets) (6.0.1)\n",
            "Requirement already satisfied: importlib-metadata in /usr/local/lib/python3.7/dist-packages (from datasets) (4.11.3)\n",
            "Requirement already satisfied: packaging in /usr/local/lib/python3.7/dist-packages (from datasets) (21.3)\n",
            "Requirement already satisfied: fsspec[http]>=2021.05.0 in /usr/local/lib/python3.7/dist-packages (from datasets) (2022.3.0)\n",
            "Requirement already satisfied: pandas in /usr/local/lib/python3.7/dist-packages (from datasets) (1.3.5)\n",
            "Requirement already satisfied: pyyaml in /usr/local/lib/python3.7/dist-packages (from huggingface-hub<1.0.0,>=0.1.0->datasets) (6.0)\n",
            "Requirement already satisfied: filelock in /usr/local/lib/python3.7/dist-packages (from huggingface-hub<1.0.0,>=0.1.0->datasets) (3.6.0)\n",
            "Requirement already satisfied: typing-extensions>=3.7.4.3 in /usr/local/lib/python3.7/dist-packages (from huggingface-hub<1.0.0,>=0.1.0->datasets) (4.2.0)\n",
            "Requirement already satisfied: pyparsing!=3.0.5,>=2.0.2 in /usr/local/lib/python3.7/dist-packages (from packaging->datasets) (3.0.8)\n",
            "Requirement already satisfied: urllib3!=1.25.0,!=1.25.1,<1.26,>=1.21.1 in /usr/local/lib/python3.7/dist-packages (from requests>=2.19.0->datasets) (1.25.11)\n",
            "Requirement already satisfied: certifi>=2017.4.17 in /usr/local/lib/python3.7/dist-packages (from requests>=2.19.0->datasets) (2021.10.8)\n",
            "Requirement already satisfied: idna<3,>=2.5 in /usr/local/lib/python3.7/dist-packages (from requests>=2.19.0->datasets) (2.10)\n",
            "Requirement already satisfied: chardet<4,>=3.0.2 in /usr/local/lib/python3.7/dist-packages (from requests>=2.19.0->datasets) (3.0.4)\n",
            "Requirement already satisfied: aiosignal>=1.1.2 in /usr/local/lib/python3.7/dist-packages (from aiohttp->datasets) (1.2.0)\n",
            "Requirement already satisfied: yarl<2.0,>=1.0 in /usr/local/lib/python3.7/dist-packages (from aiohttp->datasets) (1.7.2)\n",
            "Requirement already satisfied: asynctest==0.13.0 in /usr/local/lib/python3.7/dist-packages (from aiohttp->datasets) (0.13.0)\n",
            "Requirement already satisfied: multidict<7.0,>=4.5 in /usr/local/lib/python3.7/dist-packages (from aiohttp->datasets) (6.0.2)\n",
            "Requirement already satisfied: charset-normalizer<3.0,>=2.0 in /usr/local/lib/python3.7/dist-packages (from aiohttp->datasets) (2.0.12)\n",
            "Requirement already satisfied: frozenlist>=1.1.1 in /usr/local/lib/python3.7/dist-packages (from aiohttp->datasets) (1.3.0)\n",
            "Requirement already satisfied: attrs>=17.3.0 in /usr/local/lib/python3.7/dist-packages (from aiohttp->datasets) (21.4.0)\n",
            "Requirement already satisfied: async-timeout<5.0,>=4.0.0a3 in /usr/local/lib/python3.7/dist-packages (from aiohttp->datasets) (4.0.2)\n",
            "Requirement already satisfied: zipp>=0.5 in /usr/local/lib/python3.7/dist-packages (from importlib-metadata->datasets) (3.8.0)\n",
            "Requirement already satisfied: python-dateutil>=2.7.3 in /usr/local/lib/python3.7/dist-packages (from pandas->datasets) (2.8.2)\n",
            "Requirement already satisfied: pytz>=2017.3 in /usr/local/lib/python3.7/dist-packages (from pandas->datasets) (2022.1)\n",
            "Requirement already satisfied: six>=1.5 in /usr/local/lib/python3.7/dist-packages (from python-dateutil>=2.7.3->pandas->datasets) (1.15.0)\n"
          ]
        }
      ],
      "source": [
        "!pip install datasets"
      ]
    },
    {
      "cell_type": "code",
      "source": [
        "!pip install contractions"
      ],
      "metadata": {
        "colab": {
          "base_uri": "https://localhost:8080/"
        },
        "id": "Bld3WkeIiUWf",
        "outputId": "6534e4c2-6ff6-48b6-b7b3-b56a7dd88232"
      },
      "execution_count": 3,
      "outputs": [
        {
          "output_type": "stream",
          "name": "stdout",
          "text": [
            "Requirement already satisfied: contractions in /usr/local/lib/python3.7/dist-packages (0.1.72)\n",
            "Requirement already satisfied: textsearch>=0.0.21 in /usr/local/lib/python3.7/dist-packages (from contractions) (0.0.21)\n",
            "Requirement already satisfied: pyahocorasick in /usr/local/lib/python3.7/dist-packages (from textsearch>=0.0.21->contractions) (1.4.4)\n",
            "Requirement already satisfied: anyascii in /usr/local/lib/python3.7/dist-packages (from textsearch>=0.0.21->contractions) (0.3.1)\n"
          ]
        }
      ]
    },
    {
      "cell_type": "markdown",
      "metadata": {
        "id": "BIK0hkTZLhKV"
      },
      "source": [
        "Loading dataset from transformers datasets"
      ]
    },
    {
      "cell_type": "code",
      "execution_count": 4,
      "metadata": {
        "colab": {
          "base_uri": "https://localhost:8080/",
          "height": 208,
          "referenced_widgets": [
            "0a919f73809f4f0dadde8e06408dae4e",
            "09b118b983e04caebd48338d33e91a2d",
            "c75d80ec4f1242288664b970dcebfcd3",
            "4a41319a853e42aaa8de8787a1c94c05",
            "b3397616ca3b412681315a238fc6c490",
            "f7bf47a16aac4a808cbeb5f448a62683",
            "9c9c49589aa7470880e71f9e947bd344",
            "e9cd7655344b442a8cd712cecb6a0447",
            "201698a7a3a949d29aed9cd9fdfcf0a9",
            "948429e63e054de19ac494788277158f",
            "afee79fcf3964331b8db09f697619cc5"
          ]
        },
        "id": "VA5Ut5iIF33B",
        "outputId": "150f12b3-0b36-4b82-c21e-a7bc7d6f8751"
      },
      "outputs": [
        {
          "output_type": "stream",
          "name": "stderr",
          "text": [
            "Reusing dataset xlsum (/root/.cache/huggingface/datasets/csebuetnlp___xlsum/english/2.0.0/518ab0af76048660bcc2240ca6e8692a977c80e384ffb18fdddebaca6daebdce)\n"
          ]
        },
        {
          "output_type": "display_data",
          "data": {
            "text/plain": [
              "  0%|          | 0/3 [00:00<?, ?it/s]"
            ],
            "application/vnd.jupyter.widget-view+json": {
              "version_major": 2,
              "version_minor": 0,
              "model_id": "0a919f73809f4f0dadde8e06408dae4e"
            }
          },
          "metadata": {}
        },
        {
          "output_type": "stream",
          "name": "stdout",
          "text": [
            "100\n",
            "100\n",
            "100\n",
            "100\n",
            "11535\n",
            "11535\n",
            "['The Met Office has issued a yellow weather warning for wind covering Wales and England, starting from 21:00 GMT on Wednesday evening. Travel and power are both likely to be disrupted, with the warning to remain in place until 15:00 on Thursday. Gusts of 55mph (88kmh) are likely and could hit up to 70mph on coasts and hills, with heavy and blustery showers.', 'Atlantis Resources unveiled the marine energy device at Invergordon ahead of it being shipped to Kirkwall. Trials on the device will now be run at the European Marine Energy Centre test site off Eday. The device stands 22.5m (73ft) tall, weighs 1,300 tonnes and has two sets of blades on a single unit. It could generate enough power for 1,000 homes.', 'Police were called to the scene outside the Coral shop on Compton Road in Harehills just before 14:00 BST. The man was taken to hospital for treatment but his condition is not known. West Yorkshire Police said the area has been cordoned off and officers remain at the scene. The force has appealed for information.', 'Anthony ZurcherNorth America reporter@awzurcheron Twitter With tensions rising between the US and Iran, the long-term consequences will largely depend on the nature of Iran\\'s response to the attack and the intensity of any conflict that follows. If the end result is a US withdrawal from Iraq, the politics of the situation could be turned on its head, with hawks doing the howling and non-interventionists celebrating. In the short term, however, there are already some possible implications both for the Democratic presidential primaries that begin in less than a month and November\\'s general election contest. A wartime president? Traditionally, a US president facing a major foreign policy crisis benefits from at least a short-term bump in public support. The \"rally around the flag\" effect boosted George HW Bush\\'s standing during the 1991 Gulf War. George W Bush saw his approval surge to record levels in the days after the September 11 attacks and subsequent bombing of Afghanistan. Those were massive military engagements, however. When the stakes have been lower, the tangible political benefits - at least in terms of polling - are harder to discern. Barack Obama saw no change in his approval ratings during the 2011 air war in Libya. When Donald Trump fired missiles at a Syrian air base in response to that nation\\'s use of chemical weapons, the slight increase in his ratings appear in hindsight to be little more than statistical noise for a man whose approval has been relatively stable throughout his presidency. The first survey following the Soleimani strike suggests the public will be as sharply divided on Trump\\'s handling of the situation as it has been on everything else this president has done. A slim plurality approve of the action, but a similar plurality also express concern that the president did not \"plan carefully enough\". Short of a stunning military victory or a protracted bloody fight, the end result could be simply more of the same when it comes to views on the Trump presidency. Republican support Trump could end up benefiting from this episode, however, the way he always seems to benefit from his controversial or incendiary moves - by rallying his base. In that same Huffington Post poll, 83% of Republicans said they approved of the airstrike. Meanwhile, the president\\'s supporters have gone on the attack, treating the Soleimani strike as the latest way to \"trigger\" political opponents. On social media, a common Trumpian response for those expressing concerns about the consequences of the Soleimani strike is \"sorry for your loss\". The Babylon Bee, a conservative parody website, joked that Democrats want to fly US flags at half-mast to mourn Soleimani\\'s death. The drama in the Middle East may also help the president by turning national attention away from his impeachment and looming Senate trial. That seemed to be on the president\\'s mind in multiple tweets Monday morning. \"To be spending time on this political Hoax at this moment in our history, when I am so busy, is sad!\" he wrote. Democratic doves On the Democratic side, the Soleimani strike could invigorate an anti-war movement within the party that has not seriously flexed its muscles since the height of the Iraq War. Bernie Sanders, one of the Democratic front-runners, was quick to stake out his peace candidate credentials. \"I was right about Vietnam. I was right about Iraq. I will do everything in my power to prevent a war with Iran,\" he wrote in a tweet that included a video about his anti-war efforts. \"I apologize to no one.\" Tulsi Gabbard, another candidate who has vigorously opposed what she views as \"regime-change wars\" pursued by both parties, said the Soleimani strike was an \"act of war\" that violated the US constitution. Those statements stood in contrast to other Democratic candidates, who both condemned Soleimani\\'s record of support for proxy wars against US forces in the region and criticised the wisdom of the attack. \"There are serious questions about how this decision was made and whether we are prepared for the consequences,\" said Pete Buttigieg. Elizabeth Warren called Soleimani a \"murderer\". Amy Klobuchar expressed concerns for US troop safety in the region. Meanwhile, former New York Mayor Michael Bloomberg took aim at Sanders, saying it was \"outrageous\" for the Vermont senator to call the strike an \"assassination\" (a word used by several Democratic candidates). \"This is a guy who had an awful amount of American blood on his hands,\" Bloomberg said. \"Nobody that I know of would think that we did something wrong in getting the general.\" A rift within the party between progressives and moderates was on display time and again when the topic turned to healthcare during the debates. If the Iran crisis gets hot, the use of military force could become an equally divisive topic. More on the 2020 race Biden\\'s challenge The Huffpost poll on the Soleimani strike had some particularly good news for front-runner Joe Biden, with 62% of Democratic and Democratic-leaning voters saying they \"trust\" him on Iran. That\\'s well ahead of Sanders and Warren, who 47% said they trust on the subject. Such a response isn\\'t surprising, given Biden\\'s long record of foreign policy experience, including eight years as vice-president and a lengthy tenure as chair of the Senate foreign relations committee. That track record isn\\'t entirely a blessing, however, as a focus on the Middle East has once again turned attention to Biden\\'s support for the 2003 Iraq War - and his sometimes muddled defence of it. In response to a question from a voter in Iowa on Saturday, Biden said that while he voted for the Iraq War authorisation, he opposed President Bush\\'s handling of the conflict \"from the very moment\" it began. Biden had spoken in support of the war before and after it was launched, however, and only first expressed regrets about his vote starting in 2005. The more Biden twists and turns to qualify his Iraq War support, the more media outlets will point out where he is misleading or exaggerating, giving the story national attention - and the more Biden\\'s opponents could sense a weakness they could exploit. No more oxygen As if December\\'s impeachment fight didn\\'t make it hard enough for back-of-the-pack Democrats to generate attention amid a flood of major breaking news, now Iran is set to compete with a Senate trial of the president for top billing. That\\'s bad news for candidates like Cory Booker, Deval Patrick, Tom Steyer and the few other stragglers who are still in the race but languishing in the polls and below the cut-off mark to qualify for upcoming primary debates. It could also spell trouble for Klobuchar, whose surge in fundraising and Iowa polling of late could prove short-lived if voters become preoccupied with events overseas. In presidential campaign politics, it helps to be the candidate who gets hot late in the game. With the Iran crisis looming, however, it may end up already being too late. Who will take on Trump in 2020?', 'By Debbie JacksonBBC Scotland But while most of us are giving up trips out of the house, many health workers across the country are making an even bigger sacrifice. Those who are on the front line, experiencing face-to-face contact with patients who have the virus, are putting themselves at risk every day. Some of them have made the difficult decision to stay away from their families to avoid passing on that risk. Ambulance technician Jamie Kennedy from Glasgow is one of them. Jamie, 38, moved out of his family home 11 days ago and into a hotel so that he can carry on doing his job without worrying about bringing the virus home to his wife and two children. He can also continue to do vital work if any of his family have to self-isolate. He told the BBC: \"I am staying in a hotel which offered free rooms to NHS staff at the start of lockdown. The hotel is almost full of NHS staff. \"It was a difficult decision but when I saw the situation getting worse and worse I had the discussion with my wife Ashley. \"It was a purely personal decision, but I would never forgive myself if anything happened and if the kids got ill. I am out in the community all day and if I went in and caused them to get sick, I would never forgive myself.\" Tuesday\\'s figures saw the number of patients testing positive for Covid-19 in Scotland rise to 6,358. A total of 615 people have died, including two health and care workers. \\'Symptoms present in the majority\\' Jamie\\'s shifts for the Scottish Ambulance Service are completely consumed by coronavirus right now. \"In the majority of calls one or more symptoms are present and we have to treat it as a potential case,\" he said. \" It could be up to nine patients in a shift. \"Thankfully the morale is high and we are well looked after. My manager calls to check we are doing okay.\" Contact with his wife and children is limited to video calls and one socially distant trip a week to drop off groceries. Having to see them from a distance is heartbreaking. He said: \"I do a big shop for them and take it over to the back garden and talk to them from the back of the garden. \"It\\'s hard. I was there the other day and my daughter, who is eight, wanted a hug and she was crying. That was difficult. \"There is no end in sight right now but I\\'ll stay away from my wife and kids as long as I need to, to keep them safe.\" Jamie\\'s wife Ashley says like many families of front-line workers, they are worried. \\'The right thing\\' She said: \"The children have taken it pretty bad but understand how important their daddy\\'s job is. \"It\\'s been hard for me to see the children so upset and Jamie upset leaving, but I\\'ve had to stay strong for him to be able to put his all into his job and strong for the kids to feel secure and safe.\" \"It\\'s hard not seeing him and having a wee cuddle but we know it\\'s the right and safest thing to do. \"Jamie is the most selfless man I\\'ve ever known. \"We as a family who is affected by this virus cannot stress enough that everyone keeps to the stay at home guidelines. The more everyone stays home the sooner the virus will die off and the sooner we can get Jamie home.\" \\'We just wanted to do our bit to help\\' Scottish hotel group Manorview is one of many hotel companies across the country keeping their doors open to NHS staff at this uncertain time. The company made the decision to stop trading on 18 March. Five days later its hotels opened up again to front-line health staff, for no cost. They\\'ve had more than 2,000 room bookings, with three venues fully booked until the start of May. Managing director David Tracey said the group was humbled to hear some of the stories of NHS workers who are trying to keep working to look after patients, while also trying to protect their own families at home. He said: \"More than ever, we need to secure the health, safety and wellbeing of our NHS team. They are on the front line, helping us all, and saving lives. We are very thankful for the work they do. We are there for them and we\\'re proud to be of service, and in a position to help. \"The attitude of our team has made this negative situation more positive.\"', 'He was arrested on Saturday morning and is currently in custody. Detectives from the Causeway Coast and Glens Criminal Investigations Branch also searched an address in Ballymoney and a number of items were seized. Police have appealed for those with information about criminality linked to paramilitaries to contact them.', 'Coventry firm Travel de Courcey is to introduce the three buses in May next year, on its Park and Ride South route. The 38-seat buses will run between the Memorial Park in Kenilworth Road and the city centre using power points already installed by the council. A Travel de Courcey spokesman said the company had been looking to improve its vehicles, both environmentally and from a passenger perspective. The buses, Versa EV\\'s, are provided by Optare plc of Leeds. Travel de Courcey has invested £400,000, the government\\'s Green Bus Fund has invested £300,000 and Centro, which looks after public transport in the West Midlands, has contributed £100,000. Mike de Courcey, from the bus firm, said when it heard about the Green Bus Fund it seemed a good opportunity for the firm. \"The electric buses are ideal for urban driving where the vehicle is stopping and starting,\" he said.', 'St Helier Deputy, Trevor Pitman, has put forward changes to proposals by a States group to cut back the number of senators from 12 to eight. He wants the States to go further, with numbers cut to six, saying it would save more money. Plans to reform the structure of the States are under review and could be the subject of a referendum.', 'Managers at Alliance Boots said a fall in demand for products made for other companies meant it had to reduce capacity. Bosses said the posts will go over the next two years and added they would make efforts to redeploy staff. The division of Boots involved, BCM, currently employs 1,200 people and will now focus on own brand beauty and skincare products. Stephen Le Hane, an HR director for the company, said: \"You will appreciate that many of our customers are suffering from the recession as most companies are in the UK. \"The amount of demand they have for the products in BCM has gone down and as there are quite high fixed costs in manufacturing, those adjustments in their volume requirements for us can have an impact on the profitability and success of the BCM business.\"', 'The course will look at intelligence history and Bletchley Park focusing on the World War II code breakers. Course director, Professor Anthony Glees said it was an opportunity to work with Bletchley\\'s previously unresearched archives. The Master of Arts degree explores how military intelligence developed. The degree is the university\\'s newest course run by the Centre for Security and Intelligence Studies. Professor Glees said: \"The course will reveal fresh insights into how the war was fought, which will be totally unique for students at this level.\"']\n"
          ]
        }
      ],
      "source": [
        "from datasets import load_dataset\n",
        "\n",
        "dataset = load_dataset(\"csebuetnlp/xlsum\",'english')\n",
        "train_report, train_summary, val_report, val_summary, test_report, test_summary = dataset['train']['text'][:100], dataset['train']['summary'][:100],dataset['validation']['text'][:100], dataset['validation']['summary'][:100],dataset['test']['text'], dataset['test']['summary']\n",
        "print(len(train_report))\n",
        "print(len(train_summary))\n",
        "print(len(val_report))\n",
        "print(len(val_summary))\n",
        "print(len(test_report))\n",
        "print(len(test_summary))\n",
        "print(train_report[:10])\n"
      ]
    },
    {
      "cell_type": "markdown",
      "metadata": {
        "id": "yK2v6BlbL_JZ"
      },
      "source": [
        "Preprocessing data"
      ]
    },
    {
      "cell_type": "code",
      "execution_count": 5,
      "metadata": {
        "colab": {
          "base_uri": "https://localhost:8080/"
        },
        "id": "_ZzHEkxJMFQb",
        "outputId": "5ba71d2e-2f78-45a2-ee43-86123f8eeb27"
      },
      "outputs": [
        {
          "output_type": "stream",
          "name": "stdout",
          "text": [
            "[nltk_data] Downloading package stopwords to /root/nltk_data...\n",
            "[nltk_data]   Package stopwords is already up-to-date!\n",
            "[nltk_data] Downloading package punkt to /root/nltk_data...\n",
            "[nltk_data]   Package punkt is already up-to-date!\n",
            "[nltk_data] Downloading package wordnet to /root/nltk_data...\n",
            "[nltk_data]   Package wordnet is already up-to-date!\n"
          ]
        }
      ],
      "source": [
        "import re\n",
        "import string\n",
        "import nltk\n",
        "nltk.download('stopwords')\n",
        "nltk.download('punkt')\n",
        "nltk.download('wordnet')\n",
        "from nltk.corpus import stopwords\n",
        "from nltk.tokenize import word_tokenize\n",
        "from bs4 import BeautifulSoup\n",
        "import contractions\n",
        "from nltk.stem import WordNetLemmatizer\n",
        "\n",
        "def text_lowercase(text):\n",
        "    return text.lower()\n",
        "\n",
        "def remove_numbers(text):\n",
        "    output_text = re.sub(r'\\d+', '', text)\n",
        "    return output_text\n",
        "\n",
        "def remove_punctuation(text):\n",
        "    translator = str.maketrans('', '', string.punctuation)\n",
        "    return text.translate(translator)\n",
        "\n",
        "def remove_whitespace(text):\n",
        "    return  text.strip()\n",
        "\n",
        "def remove_stopwords(text):\n",
        "    stop_words = set(stopwords.words(\"english\"))\n",
        "    filtered_text = \" \".join([word for word in str(text).split() if word not in stop_words])\n",
        "    return filtered_text\n",
        "\n",
        "def remove_html(dataText):\n",
        "    return BeautifulSoup(dataText, \"lxml\").text\n",
        "\n",
        "def contraction_mapping(text):\n",
        "    expanded_words = []   \n",
        "    for word in text.split():\n",
        "    # using contractions.fix to expand the shortened words\n",
        "      expanded_words.append(contractions.fix(word))  \n",
        "    expanded_text = ' '.join(expanded_words)\n",
        "    return expanded_text\n",
        "\n",
        "def lemmatization(text):\n",
        "   lemmatizer = WordNetLemmatizer()\n",
        "   return \" \".join([lemmatizer.lemmatize(word) for word in text.split()])\n",
        "\n",
        "\n",
        "\n",
        "def cleaning_data(content):\n",
        "    # Lowercase text\n",
        "    content = text_lowercase(content)\n",
        "\n",
        "    # Remove numbers\n",
        "    content = remove_numbers(content)\n",
        "\n",
        "    # remove punctuation\n",
        "    content = remove_punctuation(content)\n",
        "\n",
        "    # remove whitespace from text\n",
        "    content = remove_whitespace(content)\n",
        "\n",
        "    # remove html from string\n",
        "    content = remove_html(content)\n",
        "\n",
        "    # contraction mapping\n",
        "    content = contraction_mapping(content)\n",
        "\n",
        "    # remove stopwords\n",
        "    content = remove_stopwords(content)\n",
        "\n",
        "    # lemmatization\n",
        "    content = lemmatization(content)\n",
        "    return content\n",
        "\n",
        "for i in range(len(train_report)):\n",
        "    train_report[i] = cleaning_data(train_report[i])\n",
        "\n",
        "for j in range(len(train_summary)):\n",
        "    train_summary[j] = cleaning_data(train_summary[j])\n",
        "    train_summary[j] = 'sostoken ' + train_summary[j]+ ' eostoken'\n",
        "\n",
        "for k in range(len(val_report)):\n",
        "    val_report[k] = cleaning_data(val_report[k])\n",
        "    \n",
        "for l in range(len(val_summary)):\n",
        "    val_summary[l] = cleaning_data(val_summary[l])\n"
      ]
    },
    {
      "cell_type": "code",
      "source": [
        "import matplotlib.pyplot as plt\n",
        "import pandas as pd\n",
        "text_word_count = []\n",
        "summary_word_count = []\n",
        "val_text_word_count = []\n",
        "val_summary_word_count = []\n",
        "\n",
        "# populate the lists with sentence lengths\n",
        "for i in range(len(train_report)):\n",
        "      text_word_count.append(len(train_report[i].split()))\n",
        "\n",
        "for i in range(len(train_summary)):\n",
        "      summary_word_count.append(len(train_summary[i].split()))\n",
        "\n",
        "# populate the lists with sentence lengths\n",
        "for i in range(len(val_report)):\n",
        "      val_text_word_count.append(len(val_report[i].split()))\n",
        "\n",
        "for i in range(len(val_summary)):\n",
        "      val_summary_word_count.append(len(val_summary[i].split()))\n",
        "\n",
        "length_df = pd.DataFrame({'text':text_word_count, 'summary':summary_word_count,'val_text':val_text_word_count, 'val_summary':val_summary_word_count})\n",
        "length_df.hist(bins = 30)\n",
        "plt.show()\n",
        "\n",
        "max_len_arcticles = 1500 # fixing max length for articles\n",
        "max_len_summary = 50 # fixing max length for summaries\n"
      ],
      "metadata": {
        "colab": {
          "base_uri": "https://localhost:8080/",
          "height": 281
        },
        "id": "RMOANhkNIqVt",
        "outputId": "be0efb89-693a-4a7f-d5f8-30407ce7c9dc"
      },
      "execution_count": 6,
      "outputs": [
        {
          "output_type": "display_data",
          "data": {
            "text/plain": [
              "<Figure size 432x288 with 4 Axes>"
            ],
            "image/png": "[encoded data removed]"
          },
          "metadata": {
            "needs_background": "light"
          }
        }
      ]
    },
    {
      "cell_type": "markdown",
      "metadata": {
        "id": "l0auTjfxvjhK"
      },
      "source": [
        "Tokenise using kera's tokenizer"
      ]
    },
    {
      "cell_type": "code",
      "execution_count": 7,
      "metadata": {
        "colab": {
          "base_uri": "https://localhost:8080/"
        },
        "id": "Y3n_KYhuvm8M",
        "outputId": "2be89493-4426-44d2-9c61-a9477e66cd95"
      },
      "outputs": [
        {
          "output_type": "stream",
          "name": "stdout",
          "text": [
            "8827\n",
            "1185\n",
            "6106\n",
            "937\n"
          ]
        }
      ],
      "source": [
        "from keras.preprocessing.text import Tokenizer\n",
        "VOCAB_SIZE = 50000\n",
        "article_tokenizer = Tokenizer(num_words=VOCAB_SIZE)\n",
        "# articles\n",
        "article_tokenizer.fit_on_texts(train_report)\n",
        "article_sequences = article_tokenizer.texts_to_sequences(train_report)\n",
        "art_word_index = article_tokenizer.word_index\n",
        "print(len(art_word_index))\n",
        "# summaries\n",
        "summary_tokenizer = Tokenizer(num_words=VOCAB_SIZE)\n",
        "summary_tokenizer.fit_on_texts(train_summary)\n",
        "summary_sequences = summary_tokenizer.texts_to_sequences(train_summary)\n",
        "summary_word_index = summary_tokenizer.word_index\n",
        "print(len(summary_word_index))\n",
        "\n",
        "# validation articles\n",
        "val_art_tokenizer = Tokenizer(num_words=VOCAB_SIZE)\n",
        "val_art_tokenizer.fit_on_texts(val_report)\n",
        "validation_article_sequences = val_art_tokenizer.texts_to_sequences(val_report)\n",
        "val_art_word_index = val_art_tokenizer.word_index\n",
        "print(len(val_art_word_index))\n",
        "# validation_summaries\n",
        "val_summary_tokenizer = Tokenizer(num_words=VOCAB_SIZE)\n",
        "val_summary_tokenizer.fit_on_texts(val_summary)\n",
        "validation_summary_sequences = val_summary_tokenizer.texts_to_sequences(val_summary)\n",
        "val_sum_word_index = val_summary_tokenizer.word_index\n",
        "print(len(val_sum_word_index))\n",
        "\n",
        "\n"
      ]
    },
    {
      "cell_type": "markdown",
      "metadata": {
        "id": "luoxUyiY5b4n"
      },
      "source": [
        "Padding using kera's pad_sequence to longest sequence length"
      ]
    },
    {
      "cell_type": "code",
      "execution_count": 8,
      "metadata": {
        "colab": {
          "base_uri": "https://localhost:8080/"
        },
        "id": "7Dq8p1QB5lxn",
        "outputId": "feb04c9a-72f7-40c4-f730-254bfb63c956"
      },
      "outputs": [
        {
          "output_type": "stream",
          "name": "stdout",
          "text": [
            "[[ 865  221 1739 ...    0    0    0]\n",
            " [4203 2868 2869 ...    0    0    0]\n",
            " [ 181  168  790 ...    0    0    0]\n",
            " ...\n",
            " [8594 8595 1634 ...    0    0    0]\n",
            " [4188 8644   17 ...    0    0    0]\n",
            " [ 622  179   26 ...    0    0    0]]\n",
            "(100, 1500)\n",
            "(100, 50)\n",
            "(100, 1500)\n",
            "(100, 50)\n"
          ]
        }
      ],
      "source": [
        "from keras.preprocessing.sequence import pad_sequences\n",
        "import numpy as np\n",
        "\n",
        "pad_art_sequences = pad_sequences(article_sequences, maxlen=max_len_arcticles, padding='post', truncating='post')\n",
        "pad_sum_sequences = pad_sequences(summary_sequences, maxlen=max_len_summary, padding='post', truncating='post')\n",
        "\n",
        "pad_validation_art_sequences = pad_sequences(validation_article_sequences, maxlen=max_len_arcticles, padding='post', truncating='post')\n",
        "pad_validation_sum_sequences = pad_sequences(validation_summary_sequences, maxlen=max_len_summary, padding='post', truncating='post')\n",
        "\n",
        "print(pad_art_sequences)\n",
        "print(pad_art_sequences.shape)\n",
        "print(pad_sum_sequences.shape)\n",
        "print(pad_validation_art_sequences.shape)\n",
        "print(pad_validation_sum_sequences.shape)\n",
        "\n"
      ]
    },
    {
      "cell_type": "markdown",
      "metadata": {
        "id": "6lR0GMxkFc5k"
      },
      "source": [
        "Using Pre trained gloVe for word embeddings"
      ]
    },
    {
      "cell_type": "code",
      "execution_count": 9,
      "metadata": {
        "colab": {
          "base_uri": "https://localhost:8080/"
        },
        "id": "xw7DdadNFkWy",
        "outputId": "41a3c59f-3596-474d-e9f9-40635bac4841"
      },
      "outputs": [
        {
          "output_type": "stream",
          "name": "stdout",
          "text": [
            "Found 400001 word vectors.\n",
            "Converted 8223 words (604 misses)\n",
            "(8828, 200)\n",
            "Converted 1153 words (32 misses)\n",
            "(1186, 200)\n"
          ]
        }
      ],
      "source": [
        "import numpy as np\n",
        "\n",
        "embeddings_index = {}\n",
        "with open('/content/drive/My Drive/Colab Notebooks/glove.6B.200d.txt', encoding='utf-8') as f:\n",
        "    for line in f:\n",
        "        values = line.split()\n",
        "        word = values[0]\n",
        "        coefs = np.asarray(values[1:], dtype='float32')\n",
        "        embeddings_index[word] = coefs\n",
        "    f.close()\n",
        "\n",
        "print('Found %s word vectors.' % len(embeddings_index))\n",
        "\n",
        "embedding_dim = 200\n",
        "hits = 0\n",
        "misses = 0\n",
        "\n",
        "# Prepare embedding matrix for articles\n",
        "article_embedding_matrix = np.zeros(((len(art_word_index)+1), embedding_dim))\n",
        "for word, i in art_word_index.items():\n",
        "    embedding_vector = embeddings_index.get(word)\n",
        "    if embedding_vector is not None:\n",
        "        # Words not found in embedding index will be all-zeros.\n",
        "        # This includes the representation for \"padding\" and \"OOV\"\n",
        "        article_embedding_matrix[i] = embedding_vector\n",
        "        hits += 1\n",
        "    else:\n",
        "        misses += 1\n",
        "print(\"Converted %d words (%d misses)\" % (hits, misses))\n",
        "print(article_embedding_matrix.shape)\n",
        "\n",
        "# Prepare embedding matrix for summaries\n",
        "hits=0\n",
        "misses = 0\n",
        "summary_embedding_matrix = np.zeros((len(summary_word_index) + 1, embedding_dim))\n",
        "for word, j in summary_word_index.items():\n",
        "    embedding_vector = embeddings_index.get(word)\n",
        "    if embedding_vector is not None:\n",
        "        # Words not found in embedding index will be all-zeros.\n",
        "        # This includes the representation for \"padding\" and \"OOV\"\n",
        "        summary_embedding_matrix[j] = embedding_vector\n",
        "        hits += 1\n",
        "    else:\n",
        "        misses += 1\n",
        "print(\"Converted %d words (%d misses)\" % (hits, misses))\n",
        "print(summary_embedding_matrix.shape)"
      ]
    },
    {
      "cell_type": "markdown",
      "metadata": {
        "id": "2ZI5XO3lOJH2"
      },
      "source": [
        "Loading embeddings matrix to embedding layer"
      ]
    },
    {
      "cell_type": "code",
      "execution_count": 10,
      "metadata": {
        "id": "Nivqnm7eOORe"
      },
      "outputs": [],
      "source": [
        "from keras.layers import Embedding\n",
        "import keras.initializers\n",
        "\n",
        "encoder_embedding_layer = Embedding(\n",
        "    input_dim = article_embedding_matrix.shape[0], #num_distinct_words\n",
        "    output_dim = embedding_dim, #embedding_output_dims\n",
        "    input_length = max_len_arcticles, #max_sequence_length\n",
        "    embeddings_initializer= keras.initializers.Constant(article_embedding_matrix),\n",
        "    trainable = True\n",
        ")\n",
        "\n",
        "decoder_embedding_layer = Embedding(\n",
        "    input_dim = summary_embedding_matrix.shape[0],\n",
        "    output_dim = embedding_dim,\n",
        "    input_length = max_len_summary,\n",
        "    embeddings_initializer= keras.initializers.Constant(summary_embedding_matrix),\n",
        "    trainable = True\n",
        ")"
      ]
    },
    {
      "cell_type": "markdown",
      "metadata": {
        "id": "LEkdV-KITxVH"
      },
      "source": [
        "Build Model"
      ]
    },
    {
      "cell_type": "code",
      "execution_count": 34,
      "metadata": {
        "colab": {
          "base_uri": "https://localhost:8080/"
        },
        "id": "43OBhz0UU6c_",
        "outputId": "4008f508-a836-428b-ae2d-a966a476d81c"
      },
      "outputs": [
        {
          "output_type": "stream",
          "name": "stdout",
          "text": [
            "Model: \"model_1\"\n",
            "__________________________________________________________________________________________________\n",
            " Layer (type)                   Output Shape         Param #     Connected to                     \n",
            "==================================================================================================\n",
            " input_3 (InputLayer)           [(None, 1500)]       0           []                               \n",
            "                                                                                                  \n",
            " embedding (Embedding)          (None, 1500, 200)    1765600     ['input_3[0][0]']                \n",
            "                                                                                                  \n",
            " bidirectional_2 (Bidirectional  [(None, 1500, 400),  641600     ['embedding[1][0]']              \n",
            " )                               (None, 200),                                                     \n",
            "                                 (None, 200),                                                     \n",
            "                                 (None, 200),                                                     \n",
            "                                 (None, 200)]                                                     \n",
            "                                                                                                  \n",
            " input_4 (InputLayer)           [(None, None)]       0           []                               \n",
            "                                                                                                  \n",
            " bidirectional_3 (Bidirectional  [(None, 1500, 400),  961600     ['bidirectional_2[0][0]',        \n",
            " )                               (None, 200),                     'bidirectional_2[0][1]',        \n",
            "                                 (None, 200),                     'bidirectional_2[0][3]',        \n",
            "                                 (None, 200),                     'bidirectional_2[0][2]',        \n",
            "                                 (None, 200)]                     'bidirectional_2[0][4]']        \n",
            "                                                                                                  \n",
            " embedding_1 (Embedding)        (None, None, 200)    237200      ['input_4[0][0]']                \n",
            "                                                                                                  \n",
            " concatenate_2 (Concatenate)    (None, 400)          0           ['bidirectional_3[0][1]',        \n",
            "                                                                  'bidirectional_3[0][3]']        \n",
            "                                                                                                  \n",
            " concatenate_3 (Concatenate)    (None, 400)          0           ['bidirectional_3[0][2]',        \n",
            "                                                                  'bidirectional_3[0][4]']        \n",
            "                                                                                                  \n",
            " decoder (LSTM)                 (None, 400)          961600      ['embedding_1[1][0]',            \n",
            "                                                                  'concatenate_2[0][0]',          \n",
            "                                                                  'concatenate_3[0][0]']          \n",
            "                                                                                                  \n",
            " dense_1 (Dense)                (None, 50)           20050       ['decoder[0][0]']                \n",
            "                                                                                                  \n",
            "==================================================================================================\n",
            "Total params: 4,587,650\n",
            "Trainable params: 4,587,650\n",
            "Non-trainable params: 0\n",
            "__________________________________________________________________________________________________\n"
          ]
        }
      ],
      "source": [
        "from tensorflow import keras\n",
        "from keras import layers\n",
        "from keras.layers import Dense,LSTM,Dropout,Input,Activation,Bidirectional\n",
        "\n",
        "# Input layer\n",
        "encoder_input = layers.Input(shape=(max_len_arcticles,))\n",
        "encoder_embedded = encoder_embedding_layer(encoder_input)\n",
        "\n",
        "# Decoder -- LSTM\n",
        "decoder_input = layers.Input(shape=(None,))\n",
        "decoder_embedded = decoder_embedding_layer(decoder_input)\n",
        "\n",
        "# Encoder 1 -- Bidirectional LSTM 1\n",
        "encoder1_output, forward_h1, forward_c1 ,backward_h1, backward_c1= Bidirectional(layers.LSTM(200, return_state=True, return_sequences=True,dropout=0.2,recurrent_dropout=0.2,name=\"encoder1\"),merge_mode=\"concat\")(\n",
        "    encoder_embedded\n",
        ")\n",
        "# Encoder 2 -- Bidirectional LSTM 2\n",
        "encode2_output, forward_h2, forward_c2 ,backward_h2, backward_c2= Bidirectional(layers.LSTM(200, return_state=True, return_sequences=True,dropout=0.2,recurrent_dropout=0.2,name=\"encoder2\"),merge_mode=\"concat\")(\n",
        "    encoder1_output,initial_state=[forward_h1,backward_h1,forward_c1,backward_c1]\n",
        ")\n",
        "state_h2 =  layers.Concatenate()([forward_h2, backward_h2])\n",
        "state_c2 =  layers.Concatenate()([forward_c2, backward_c2])\n",
        "encoder2_state = [state_h2,state_c2]\n",
        "\n",
        "# Pass the encoder 2 state to decoder LSTM layer, as initial state\n",
        "decoder_LSTM= layers.LSTM(400, dropout=0.2,recurrent_dropout=0.2,name=\"decoder\")\n",
        "decoder_output = decoder_LSTM(\n",
        "    decoder_embedded, initial_state=encoder2_state\n",
        ")\n",
        "# Dense layer with activation\n",
        "decoder_dense = layers.Dense(50,activation='softmax')\n",
        "output = decoder_dense(decoder_output)\n",
        "\n",
        "model = keras.Model([encoder_input, decoder_input], output)\n",
        "model.summary()"
      ]
    },
    {
      "cell_type": "markdown",
      "metadata": {
        "id": "B9BLDEjundlT"
      },
      "source": [
        "Compiling Model"
      ]
    },
    {
      "cell_type": "code",
      "execution_count": 37,
      "metadata": {
        "id": "AlsRtzbynX9J"
      },
      "outputs": [],
      "source": [
        "from keras.callbacks import Callback,ModelCheckpoint\n",
        "from keras.models import Sequential,load_model\n",
        "from keras.layers import Dense, Dropout\n",
        "from keras.wrappers.scikit_learn import KerasClassifier\n",
        "import keras.backend as K\n",
        "\n",
        "def get_f1(y_true, y_pred): \n",
        "    true_positives = K.sum(K.round(K.clip(y_true * y_pred, 0, 1)))\n",
        "    possible_positives = K.sum(K.round(K.clip(y_true, 0, 1)))\n",
        "    predicted_positives = K.sum(K.round(K.clip(y_pred, 0, 1)))\n",
        "    precision = true_positives / (predicted_positives + K.epsilon())\n",
        "    recall = true_positives / (possible_positives + K.epsilon())\n",
        "    f1_val = 2*(precision*recall)/(precision+recall+K.epsilon())\n",
        "    return f1_val\n",
        "\n",
        "model.compile(optimizer=keras.optimizers.RMSprop(learning_rate=0.005), loss='categorical_crossentropy', metrics=[keras.metrics.CategoricalAccuracy(),keras.metrics.Accuracy(),get_f1])"
      ]
    },
    {
      "cell_type": "markdown",
      "metadata": {
        "id": "aO8dfaUbsdNU"
      },
      "source": [
        "Training model"
      ]
    },
    {
      "cell_type": "code",
      "execution_count": 38,
      "metadata": {
        "id": "3Ix0TOSzsjlF",
        "colab": {
          "base_uri": "https://localhost:8080/"
        },
        "outputId": "8b98e1a6-1230-4b6e-c4c1-027cb56696f7"
      },
      "outputs": [
        {
          "output_type": "stream",
          "name": "stdout",
          "text": [
            "(100, 1500)\n",
            "(100, 50)\n",
            "(100, 1500)\n",
            "(100, 50)\n",
            "Epoch 1/50\n",
            "2/2 [==============================] - 63s 28s/step - loss: 28259.0898 - categorical_accuracy: 0.0400 - accuracy: 0.0000e+00 - get_f1: 1.5947 - val_loss: 15439.3477 - val_categorical_accuracy: 0.0500 - val_accuracy: 0.0000e+00 - val_get_f1: 1.8197\n",
            "Epoch 2/50\n",
            "2/2 [==============================] - 50s 30s/step - loss: 26722.6270 - categorical_accuracy: 0.0600 - accuracy: 0.0000e+00 - get_f1: 1.6007 - val_loss: 15233.3672 - val_categorical_accuracy: 0.0300 - val_accuracy: 0.0000e+00 - val_get_f1: 1.8261\n",
            "Epoch 3/50\n",
            "2/2 [==============================] - 48s 28s/step - loss: 27276.3906 - categorical_accuracy: 0.0100 - accuracy: 0.0000e+00 - get_f1: 1.5872 - val_loss: 15301.5400 - val_categorical_accuracy: 0.1200 - val_accuracy: 0.0000e+00 - val_get_f1: 1.8198\n",
            "Epoch 4/50\n",
            "2/2 [==============================] - 50s 29s/step - loss: 27277.3809 - categorical_accuracy: 0.0600 - accuracy: 0.0000e+00 - get_f1: 1.5696 - val_loss: 14822.7109 - val_categorical_accuracy: 0.0500 - val_accuracy: 0.0000e+00 - val_get_f1: 1.8438\n",
            "Epoch 5/50\n",
            "2/2 [==============================] - 49s 29s/step - loss: 27390.3359 - categorical_accuracy: 0.0700 - accuracy: 0.0000e+00 - get_f1: 1.5583 - val_loss: 14576.1201 - val_categorical_accuracy: 0.0400 - val_accuracy: 0.0000e+00 - val_get_f1: 1.8470\n",
            "Epoch 6/50\n",
            "2/2 [==============================] - 48s 28s/step - loss: 27322.4707 - categorical_accuracy: 0.0700 - accuracy: 0.0000e+00 - get_f1: 1.5558 - val_loss: 14619.1553 - val_categorical_accuracy: 0.0500 - val_accuracy: 0.0000e+00 - val_get_f1: 1.8438\n",
            "Epoch 7/50\n",
            "2/2 [==============================] - 51s 31s/step - loss: 28050.2344 - categorical_accuracy: 0.0600 - accuracy: 0.0000e+00 - get_f1: 1.5240 - val_loss: 15092.5352 - val_categorical_accuracy: 0.0500 - val_accuracy: 0.0000e+00 - val_get_f1: 1.8133\n",
            "Epoch 8/50\n",
            "2/2 [==============================] - 50s 29s/step - loss: 28946.7031 - categorical_accuracy: 0.0700 - accuracy: 0.0000e+00 - get_f1: 1.4953 - val_loss: 15208.4277 - val_categorical_accuracy: 0.0500 - val_accuracy: 0.0000e+00 - val_get_f1: 1.8005\n",
            "Epoch 9/50\n",
            "2/2 [==============================] - 48s 28s/step - loss: 29419.5703 - categorical_accuracy: 0.0700 - accuracy: 0.0000e+00 - get_f1: 1.4829 - val_loss: 15626.5400 - val_categorical_accuracy: 0.0500 - val_accuracy: 0.0000e+00 - val_get_f1: 1.7713\n",
            "Epoch 10/50\n",
            "2/2 [==============================] - 48s 28s/step - loss: 29470.4609 - categorical_accuracy: 0.0700 - accuracy: 0.0000e+00 - get_f1: 1.4708 - val_loss: 15273.6523 - val_categorical_accuracy: 0.0500 - val_accuracy: 0.0000e+00 - val_get_f1: 1.8036\n",
            "Epoch 11/50\n",
            "2/2 [==============================] - 48s 28s/step - loss: 27858.5645 - categorical_accuracy: 0.0600 - accuracy: 0.0000e+00 - get_f1: 1.5347 - val_loss: 14976.6172 - val_categorical_accuracy: 0.0400 - val_accuracy: 0.0000e+00 - val_get_f1: 1.8084\n",
            "Epoch 12/50\n",
            "2/2 [==============================] - 48s 28s/step - loss: 27594.9453 - categorical_accuracy: 0.0700 - accuracy: 0.0000e+00 - get_f1: 1.5504 - val_loss: 14628.1572 - val_categorical_accuracy: 0.0400 - val_accuracy: 0.0000e+00 - val_get_f1: 1.8277\n",
            "Epoch 13/50\n",
            "2/2 [==============================] - 49s 29s/step - loss: 28732.4492 - categorical_accuracy: 0.0400 - accuracy: 0.0000e+00 - get_f1: 1.5088 - val_loss: 14929.7559 - val_categorical_accuracy: 0.0500 - val_accuracy: 0.0000e+00 - val_get_f1: 1.8164\n",
            "Epoch 14/50\n",
            "2/2 [==============================] - 49s 29s/step - loss: 29073.8457 - categorical_accuracy: 0.0700 - accuracy: 0.0000e+00 - get_f1: 1.5024 - val_loss: 14925.2959 - val_categorical_accuracy: 0.0500 - val_accuracy: 0.0000e+00 - val_get_f1: 1.8068\n",
            "Epoch 15/50\n",
            "2/2 [==============================] - 47s 28s/step - loss: 29312.5566 - categorical_accuracy: 0.0900 - accuracy: 0.0000e+00 - get_f1: 1.4972 - val_loss: 14889.9678 - val_categorical_accuracy: 0.0500 - val_accuracy: 0.0000e+00 - val_get_f1: 1.8101\n",
            "Epoch 16/50\n",
            "2/2 [==============================] - 49s 29s/step - loss: 29467.1406 - categorical_accuracy: 0.0700 - accuracy: 0.0000e+00 - get_f1: 1.4892 - val_loss: 14857.8604 - val_categorical_accuracy: 0.0500 - val_accuracy: 0.0000e+00 - val_get_f1: 1.8101\n",
            "Epoch 17/50\n",
            "2/2 [==============================] - 50s 29s/step - loss: 29497.9102 - categorical_accuracy: 0.0700 - accuracy: 0.0000e+00 - get_f1: 1.4972 - val_loss: 14870.9971 - val_categorical_accuracy: 0.0500 - val_accuracy: 0.0000e+00 - val_get_f1: 1.8052\n",
            "Epoch 18/50\n",
            "2/2 [==============================] - 49s 29s/step - loss: 29825.5449 - categorical_accuracy: 0.0700 - accuracy: 0.0000e+00 - get_f1: 1.4693 - val_loss: 15017.9863 - val_categorical_accuracy: 0.0500 - val_accuracy: 0.0000e+00 - val_get_f1: 1.7988\n",
            "Epoch 19/50\n",
            "2/2 [==============================] - 47s 27s/step - loss: 30036.4609 - categorical_accuracy: 0.0700 - accuracy: 0.0000e+00 - get_f1: 1.4659 - val_loss: 15050.7236 - val_categorical_accuracy: 0.0500 - val_accuracy: 0.0000e+00 - val_get_f1: 1.8004\n",
            "Epoch 20/50\n",
            "2/2 [==============================] - 48s 29s/step - loss: 30376.4609 - categorical_accuracy: 0.0700 - accuracy: 0.0000e+00 - get_f1: 1.4606 - val_loss: 15110.9375 - val_categorical_accuracy: 0.0500 - val_accuracy: 0.0000e+00 - val_get_f1: 1.7971\n",
            "Epoch 21/50\n",
            "2/2 [==============================] - 48s 28s/step - loss: 30314.5000 - categorical_accuracy: 0.0600 - accuracy: 0.0000e+00 - get_f1: 1.4580 - val_loss: 15098.2461 - val_categorical_accuracy: 0.0500 - val_accuracy: 0.0000e+00 - val_get_f1: 1.7906\n",
            "Epoch 22/50\n",
            "2/2 [==============================] - 47s 28s/step - loss: 30487.2773 - categorical_accuracy: 0.0700 - accuracy: 0.0000e+00 - get_f1: 1.4536 - val_loss: 15116.8975 - val_categorical_accuracy: 0.0500 - val_accuracy: 0.0000e+00 - val_get_f1: 1.7955\n",
            "Epoch 23/50\n",
            "2/2 [==============================] - 47s 28s/step - loss: 30840.5391 - categorical_accuracy: 0.0800 - accuracy: 0.0000e+00 - get_f1: 1.4390 - val_loss: 15127.4463 - val_categorical_accuracy: 0.0500 - val_accuracy: 0.0000e+00 - val_get_f1: 1.7939\n",
            "Epoch 24/50\n",
            "2/2 [==============================] - 48s 29s/step - loss: 30969.2109 - categorical_accuracy: 0.0700 - accuracy: 0.0000e+00 - get_f1: 1.4371 - val_loss: 15095.8301 - val_categorical_accuracy: 0.0500 - val_accuracy: 0.0000e+00 - val_get_f1: 1.7939\n",
            "Epoch 25/50\n",
            "2/2 [==============================] - 49s 28s/step - loss: 31035.1602 - categorical_accuracy: 0.0700 - accuracy: 0.0000e+00 - get_f1: 1.4347 - val_loss: 14942.5625 - val_categorical_accuracy: 0.0500 - val_accuracy: 0.0000e+00 - val_get_f1: 1.8003\n",
            "Epoch 26/50\n",
            "2/2 [==============================] - 48s 28s/step - loss: 31091.9121 - categorical_accuracy: 0.0700 - accuracy: 0.0000e+00 - get_f1: 1.4313 - val_loss: 14892.7061 - val_categorical_accuracy: 0.0500 - val_accuracy: 0.0000e+00 - val_get_f1: 1.8004\n",
            "Epoch 27/50\n",
            "2/2 [==============================] - 48s 28s/step - loss: 31330.9844 - categorical_accuracy: 0.0700 - accuracy: 0.0000e+00 - get_f1: 1.4241 - val_loss: 14908.4258 - val_categorical_accuracy: 0.0400 - val_accuracy: 0.0000e+00 - val_get_f1: 1.7955\n",
            "Epoch 28/50\n",
            "2/2 [==============================] - 47s 28s/step - loss: 31502.2969 - categorical_accuracy: 0.0800 - accuracy: 0.0000e+00 - get_f1: 1.4249 - val_loss: 14826.0342 - val_categorical_accuracy: 0.0500 - val_accuracy: 0.0000e+00 - val_get_f1: 1.8068\n",
            "Epoch 29/50\n",
            "2/2 [==============================] - 49s 28s/step - loss: 31371.5605 - categorical_accuracy: 0.0700 - accuracy: 0.0000e+00 - get_f1: 1.4287 - val_loss: 14801.9746 - val_categorical_accuracy: 0.0500 - val_accuracy: 0.0000e+00 - val_get_f1: 1.8084\n",
            "Epoch 30/50\n",
            "2/2 [==============================] - 48s 28s/step - loss: 31280.9297 - categorical_accuracy: 0.0700 - accuracy: 0.0000e+00 - get_f1: 1.4344 - val_loss: 14645.6514 - val_categorical_accuracy: 0.0400 - val_accuracy: 0.0000e+00 - val_get_f1: 1.8165\n",
            "Epoch 31/50\n",
            "2/2 [==============================] - 49s 28s/step - loss: 31238.0996 - categorical_accuracy: 0.0400 - accuracy: 0.0000e+00 - get_f1: 1.4357 - val_loss: 14693.1123 - val_categorical_accuracy: 0.0400 - val_accuracy: 0.0000e+00 - val_get_f1: 1.8165\n",
            "Epoch 32/50\n",
            "2/2 [==============================] - 47s 28s/step - loss: 31630.3047 - categorical_accuracy: 0.0700 - accuracy: 0.0000e+00 - get_f1: 1.4267 - val_loss: 14978.0449 - val_categorical_accuracy: 0.0400 - val_accuracy: 0.0000e+00 - val_get_f1: 1.7955\n",
            "Epoch 33/50\n",
            "2/2 [==============================] - 47s 28s/step - loss: 32603.6641 - categorical_accuracy: 0.0700 - accuracy: 0.0000e+00 - get_f1: 1.4061 - val_loss: 15073.6953 - val_categorical_accuracy: 0.0400 - val_accuracy: 0.0000e+00 - val_get_f1: 1.7810\n",
            "Epoch 34/50\n",
            "2/2 [==============================] - 48s 27s/step - loss: 32649.2656 - categorical_accuracy: 0.0700 - accuracy: 0.0000e+00 - get_f1: 1.4058 - val_loss: 15276.5723 - val_categorical_accuracy: 0.0400 - val_accuracy: 0.0000e+00 - val_get_f1: 1.7713\n",
            "Epoch 35/50\n",
            "2/2 [==============================] - 48s 28s/step - loss: 33804.3633 - categorical_accuracy: 0.0800 - accuracy: 0.0000e+00 - get_f1: 1.3704 - val_loss: 14835.9014 - val_categorical_accuracy: 0.0400 - val_accuracy: 0.0000e+00 - val_get_f1: 1.8003\n",
            "Epoch 36/50\n",
            "2/2 [==============================] - 47s 28s/step - loss: 32800.5234 - categorical_accuracy: 0.0700 - accuracy: 0.0000e+00 - get_f1: 1.4179 - val_loss: 15326.2324 - val_categorical_accuracy: 0.0400 - val_accuracy: 0.0000e+00 - val_get_f1: 1.7633\n",
            "Epoch 37/50\n",
            "2/2 [==============================] - 49s 29s/step - loss: 33691.8359 - categorical_accuracy: 0.0700 - accuracy: 0.0000e+00 - get_f1: 1.3905 - val_loss: 15447.5537 - val_categorical_accuracy: 0.0400 - val_accuracy: 0.0000e+00 - val_get_f1: 1.7537\n",
            "Epoch 38/50\n",
            "2/2 [==============================] - 47s 28s/step - loss: 34043.1719 - categorical_accuracy: 0.0700 - accuracy: 0.0000e+00 - get_f1: 1.3868 - val_loss: 15202.3477 - val_categorical_accuracy: 0.0400 - val_accuracy: 0.0000e+00 - val_get_f1: 1.7586\n",
            "Epoch 39/50\n",
            "2/2 [==============================] - 47s 28s/step - loss: 34302.6719 - categorical_accuracy: 0.0700 - accuracy: 0.0000e+00 - get_f1: 1.3662 - val_loss: 15368.6562 - val_categorical_accuracy: 0.0400 - val_accuracy: 0.0000e+00 - val_get_f1: 1.7570\n",
            "Epoch 40/50\n",
            "2/2 [==============================] - 48s 29s/step - loss: 35183.8906 - categorical_accuracy: 0.0700 - accuracy: 0.0000e+00 - get_f1: 1.3266 - val_loss: 15468.0752 - val_categorical_accuracy: 0.0300 - val_accuracy: 0.0000e+00 - val_get_f1: 1.7490\n",
            "Epoch 41/50\n",
            "2/2 [==============================] - 49s 29s/step - loss: 35323.2148 - categorical_accuracy: 0.0700 - accuracy: 0.0000e+00 - get_f1: 1.3215 - val_loss: 15589.2490 - val_categorical_accuracy: 0.0400 - val_accuracy: 0.0000e+00 - val_get_f1: 1.7409\n",
            "Epoch 42/50\n",
            "2/2 [==============================] - 52s 31s/step - loss: 36025.0312 - categorical_accuracy: 0.0700 - accuracy: 0.0000e+00 - get_f1: 1.3170 - val_loss: 15675.9951 - val_categorical_accuracy: 0.0300 - val_accuracy: 0.0000e+00 - val_get_f1: 1.7346\n",
            "Epoch 43/50\n",
            "2/2 [==============================] - 52s 29s/step - loss: 35637.0000 - categorical_accuracy: 0.0700 - accuracy: 0.0000e+00 - get_f1: 1.3219 - val_loss: 15697.2100 - val_categorical_accuracy: 0.0400 - val_accuracy: 0.0000e+00 - val_get_f1: 1.7329\n",
            "Epoch 44/50\n",
            "2/2 [==============================] - 49s 29s/step - loss: 36375.1250 - categorical_accuracy: 0.0600 - accuracy: 0.0000e+00 - get_f1: 1.3073 - val_loss: 15979.5371 - val_categorical_accuracy: 0.0300 - val_accuracy: 0.0000e+00 - val_get_f1: 1.7168\n",
            "Epoch 45/50\n",
            "2/2 [==============================] - 49s 29s/step - loss: 36662.9609 - categorical_accuracy: 0.0600 - accuracy: 0.0000e+00 - get_f1: 1.2973 - val_loss: 16119.3809 - val_categorical_accuracy: 0.0400 - val_accuracy: 0.0000e+00 - val_get_f1: 1.7071\n",
            "Epoch 46/50\n",
            "2/2 [==============================] - 49s 29s/step - loss: 36219.4492 - categorical_accuracy: 0.0800 - accuracy: 0.0000e+00 - get_f1: 1.3161 - val_loss: 16194.1504 - val_categorical_accuracy: 0.0400 - val_accuracy: 0.0000e+00 - val_get_f1: 1.7023\n",
            "Epoch 47/50\n",
            "2/2 [==============================] - 49s 28s/step - loss: 36860.5469 - categorical_accuracy: 0.0700 - accuracy: 0.0000e+00 - get_f1: 1.3036 - val_loss: 16323.9629 - val_categorical_accuracy: 0.0400 - val_accuracy: 0.0000e+00 - val_get_f1: 1.6814\n",
            "Epoch 48/50\n",
            "2/2 [==============================] - 48s 28s/step - loss: 37772.2539 - categorical_accuracy: 0.0700 - accuracy: 0.0000e+00 - get_f1: 1.2885 - val_loss: 16309.7549 - val_categorical_accuracy: 0.0400 - val_accuracy: 0.0000e+00 - val_get_f1: 1.6846\n",
            "Epoch 49/50\n",
            "2/2 [==============================] - 48s 28s/step - loss: 38453.0195 - categorical_accuracy: 0.0600 - accuracy: 0.0000e+00 - get_f1: 1.2793 - val_loss: 16321.0400 - val_categorical_accuracy: 0.0400 - val_accuracy: 0.0000e+00 - val_get_f1: 1.6847\n",
            "Epoch 50/50\n",
            "2/2 [==============================] - 48s 28s/step - loss: 37836.9219 - categorical_accuracy: 0.0700 - accuracy: 0.0000e+00 - get_f1: 1.2869 - val_loss: 16412.5371 - val_categorical_accuracy: 0.0500 - val_accuracy: 0.0000e+00 - val_get_f1: 1.6815\n",
            "{'verbose': 1, 'epochs': 50, 'steps': 2}\n"
          ]
        }
      ],
      "source": [
        "print(pad_art_sequences.shape)\n",
        "print(pad_sum_sequences.shape)\n",
        "print(pad_validation_art_sequences.shape)\n",
        "print(pad_validation_sum_sequences.shape)\n",
        "\n",
        "history = model.fit(  [pad_art_sequences,pad_sum_sequences], \n",
        "                      pad_sum_sequences.reshape(pad_sum_sequences.shape[0],pad_sum_sequences.shape[1], 1)  ,\n",
        "                      epochs=50,\n",
        "                      batch_size = 50,\n",
        "                     # callbacks = [keras.callbacks.EarlyStopping(monitor='val_loss', mode='min', verbose=1)],\n",
        "                      validation_data =([pad_validation_art_sequences,pad_validation_sum_sequences], pad_validation_sum_sequences.reshape(pad_validation_sum_sequences.shape[0],pad_validation_sum_sequences.shape[1], 1))\n",
        "                     )\n",
        "print(history.params)\n"
      ]
    },
    {
      "cell_type": "markdown",
      "metadata": {
        "id": "8OCjx-kQuwy4"
      },
      "source": [
        "Visualization of metrics"
      ]
    },
    {
      "cell_type": "code",
      "execution_count": 39,
      "metadata": {
        "id": "ni-bhxk7u0VQ",
        "colab": {
          "base_uri": "https://localhost:8080/",
          "height": 404
        },
        "outputId": "8e9111cb-c062-4426-bf2a-10079c02bfe2"
      },
      "outputs": [
        {
          "output_type": "display_data",
          "data": {
            "text/plain": [
              "<Figure size 720x432 with 1 Axes>"
            ],
            "image/png": "[encoded data removed]"
          },
          "metadata": {
            "needs_background": "light"
          }
        }
      ],
      "source": [
        "import matplotlib.pyplot as plt\n",
        "%matplotlib inline\n",
        "\n",
        "plt.figure(figsize=(10, 6))\n",
        "plt.plot(history.history['accuracy'])\n",
        "plt.plot(history.history['val_accuracy'])\n",
        "plt.title('model accuracy')\n",
        "plt.ylabel('accuracy')\n",
        "plt.xlabel('epoch')\n",
        "plt.legend(['train', 'test'], loc='upper left')\n",
        "plt.show()"
      ]
    },
    {
      "cell_type": "code",
      "source": [
        "plt.figure(figsize=(10, 6))\n",
        "plt.plot(history.history['get_f1'])\n",
        "plt.plot(history.history['val_get_f1'])\n",
        "plt.title('model F1')\n",
        "plt.ylabel('F1')\n",
        "plt.xlabel('epoch')\n",
        "plt.legend(['train', 'test'], loc='upper left')\n",
        "plt.show()"
      ],
      "metadata": {
        "colab": {
          "base_uri": "https://localhost:8080/",
          "height": 404
        },
        "id": "RFRQMA66Wa-p",
        "outputId": "0fb202b0-9f3c-42cc-b852-7ff9db7ed9f4"
      },
      "execution_count": 40,
      "outputs": [
        {
          "output_type": "display_data",
          "data": {
            "text/plain": [
              "<Figure size 720x432 with 1 Axes>"
            ],
            "image/png": "[encoded data removed]"
          },
          "metadata": {
            "needs_background": "light"
          }
        }
      ]
    },
    {
      "cell_type": "code",
      "source": [
        "plt.figure(figsize=(10, 6))\n",
        "plt.plot(history.history['loss'])\n",
        "plt.plot(history.history['val_loss'])\n",
        "plt.title('model loss')\n",
        "plt.ylabel('loss')\n",
        "plt.xlabel('epoch')\n",
        "plt.legend(['train', 'test'], loc='upper left')\n",
        "plt.show()"
      ],
      "metadata": {
        "colab": {
          "base_uri": "https://localhost:8080/",
          "height": 404
        },
        "id": "-Hqm_azKuR9x",
        "outputId": "8fb24df1-d879-418e-e674-d70186d3bd87"
      },
      "execution_count": 41,
      "outputs": [
        {
          "output_type": "display_data",
          "data": {
            "text/plain": [
              "<Figure size 720x432 with 1 Axes>"
            ],
            "image/png": "[encoded data removed]"
          },
          "metadata": {
            "needs_background": "light"
          }
        }
      ]
    },
    {
      "cell_type": "markdown",
      "source": [
        "Evaluate model using Validation dataset"
      ],
      "metadata": {
        "id": "bGcIRZ0r4zyN"
      }
    },
    {
      "cell_type": "code",
      "source": [
        "test_results = model.evaluate((pad_validation_art_sequences,pad_validation_sum_sequences),\n",
        "                              pad_validation_sum_sequences,\n",
        "                              batch_size=50\n",
        "                              )\n",
        "print(test_results)"
      ],
      "metadata": {
        "colab": {
          "base_uri": "https://localhost:8080/"
        },
        "id": "td9XbEUw46q7",
        "outputId": "4409eb3d-bc59-4c75-d581-00ab13ed708a"
      },
      "execution_count": 42,
      "outputs": [
        {
          "output_type": "stream",
          "name": "stdout",
          "text": [
            "2/2 [==============================] - 9s 4s/step - loss: 16412.5371 - categorical_accuracy: 0.0500 - accuracy: 0.0000e+00 - get_f1: 1.6815\n",
            "[16412.537109375, 0.05000000074505806, 0.0, 1.6815342903137207]\n"
          ]
        }
      ]
    },
    {
      "cell_type": "markdown",
      "source": [
        ""
      ],
      "metadata": {
        "id": "hSPH0WSiqhFz"
      }
    },
    {
      "cell_type": "markdown",
      "source": [
        "Model testing and getting summaries for test data"
      ],
      "metadata": {
        "id": "OByiVNQRqhgm"
      }
    },
    {
      "cell_type": "code",
      "source": [
        "reverse_target_word_index= summary_tokenizer.index_word\n",
        "reverse_source_word_index= article_tokenizer.index_word\n",
        "target_word_index=summary_tokenizer.word_index\n",
        "\n",
        "# Encode the input sequence to get the feature vector\n",
        "encoder_model = keras.Model(inputs=encoder_input,outputs=[encode2_output, state_h2, state_c2])\n",
        "\n",
        "# Decoder setup\n",
        "# Below tensors will hold the states of the previous time step\n",
        "decoder_state_input_h = Input(shape=(max_len_summary,))\n",
        "decoder_state_input_c = Input(shape=(max_len_summary,))\n",
        "#decoder_hidden_state_input = Input(shape=(max_text_len,latent_dim))\n",
        "\n",
        "# Get the embeddings of the decoder sequence\n",
        "decoder_embedded = decoder_embedding_layer(decoder_input)\n",
        "# To predict the next word in the sequence, set the initial states to the states from the previous time step\n",
        "decoder_outputs2, state_h3, state_c3 = decoder_LSTM(decoder_embedded, initial_state=[decoder_state_input_h, decoder_state_input_c])\n",
        "\n",
        "# A dense softmax layer to generate prob dist. over the target vocabulary\n",
        "decoder_outputs2 = decoder_dense(decoder_outputs2) \n",
        "\n",
        "# Final decoder model\n",
        "decoder_model = keras.Model(\n",
        "    [decoder_input] + [decoder_state_input_h, decoder_state_input_c],\n",
        "    [decoder_outputs2] + [state_h3, state_c3])\n",
        "\n",
        "\n",
        "def conversion_to_wordsummary(input_seq):\n",
        "    newString=''\n",
        "    for i in input_seq:\n",
        "        if((i!=0 and i!=target_word_index['sostoken']) and i!=target_word_index['eostoken']):\n",
        "            newString=newString+reverse_target_word_index[i]+' '\n",
        "    return newString\n",
        "\n",
        "def conversion_to_articletext(input_seq):\n",
        "    newString=''\n",
        "    for i in input_seq:\n",
        "        if(i!=0):\n",
        "            newString=newString+reverse_source_word_index[i]+' '\n",
        "    return newString\n",
        "\n",
        "def decode_sequence(input_seq):\n",
        "    target_seq = np.zeros((1,1))\n",
        "    target_seq[0, 0] = target_word_index['sostoken']\n",
        "    decoded_sentence = ''\n",
        "    e_out, e_h, e_c = encoder_model.predict(input_seq)\n",
        "    stop_condition = False\n",
        "    while not stop_condition:\n",
        "        output_tokens, h, c = decoder_model.predict([target_seq] + [e_out, e_h, e_c])\n",
        "\n",
        "        sampled_token_index = np.argmax(output_tokens[0, -1, :])\n",
        "        sampled_token = reverse_target_word_index[sampled_token_index]\n",
        "        \n",
        "        if(sampled_token!='eostoken'):\n",
        "            decoded_sentence += ' '+sampled_token\n",
        "\n",
        "        # Exit condition: either hit max length or find stop word.\n",
        "        if (sampled_token == 'eostoken'  or len(decoded_sentence.split()) >= (max_len_summary-1)):\n",
        "            stop_condition = True\n",
        "\n",
        "        # Update the target sequence (of length 1).\n",
        "        target_seq = np.zeros((1,1))\n",
        "        target_seq[0, 0] = sampled_token_index\n",
        "\n",
        "        # Update internal states\n",
        "        e_h, e_c = h, c\n",
        "\n",
        "    return decoded_sentence\n",
        "\n",
        "for i in range(0,10):\n",
        "    print(\"Article:\",conversion_to_articletext(pad_art_sequences[i]))\n",
        "    print(\"Original summary:\",conversion_to_wordsummary(pad_sum_sequences[i]))\n",
        "    print(\"Predicted summary:\",decode_sequence(pad_art_sequences[i].reshape(1,max_len_arcticles)))\n",
        "    print(\"\\n\")"
      ],
      "metadata": {
        "colab": {
          "base_uri": "https://localhost:8080/",
          "height": 519
        },
        "id": "nkmrQUE0qnbd",
        "outputId": "95d7c8d4-ae4d-495f-9ab9-32d48ce3d1ca"
      },
      "execution_count": 44,
      "outputs": [
        {
          "output_type": "error",
          "ename": "ValueError",
          "evalue": "ignored",
          "traceback": [
            "\u001b[0;31m---------------------------------------------------------------------------\u001b[0m",
            "\u001b[0;31mValueError\u001b[0m                                Traceback (most recent call last)",
            "\u001b[0;32m<ipython-input-44-b9386cb90805>\u001b[0m in \u001b[0;36m<module>\u001b[0;34m()\u001b[0m\n\u001b[1;32m     15\u001b[0m \u001b[0mdecoder_embedded\u001b[0m \u001b[0;34m=\u001b[0m \u001b[0mdecoder_embedding_layer\u001b[0m\u001b[0;34m(\u001b[0m\u001b[0mdecoder_input\u001b[0m\u001b[0;34m)\u001b[0m\u001b[0;34m\u001b[0m\u001b[0;34m\u001b[0m\u001b[0m\n\u001b[1;32m     16\u001b[0m \u001b[0;31m# To predict the next word in the sequence, set the initial states to the states from the previous time step\u001b[0m\u001b[0;34m\u001b[0m\u001b[0;34m\u001b[0m\u001b[0;34m\u001b[0m\u001b[0m\n\u001b[0;32m---> 17\u001b[0;31m \u001b[0mdecoder_outputs2\u001b[0m\u001b[0;34m,\u001b[0m \u001b[0mstate_h3\u001b[0m\u001b[0;34m,\u001b[0m \u001b[0mstate_c3\u001b[0m \u001b[0;34m=\u001b[0m \u001b[0mdecoder_LSTM\u001b[0m\u001b[0;34m(\u001b[0m\u001b[0mdecoder_embedded\u001b[0m\u001b[0;34m,\u001b[0m \u001b[0minitial_state\u001b[0m\u001b[0;34m=\u001b[0m\u001b[0;34m[\u001b[0m\u001b[0mdecoder_state_input_h\u001b[0m\u001b[0;34m,\u001b[0m \u001b[0mdecoder_state_input_c\u001b[0m\u001b[0;34m]\u001b[0m\u001b[0;34m)\u001b[0m\u001b[0;34m\u001b[0m\u001b[0;34m\u001b[0m\u001b[0m\n\u001b[0m\u001b[1;32m     18\u001b[0m \u001b[0;34m\u001b[0m\u001b[0m\n\u001b[1;32m     19\u001b[0m \u001b[0;31m# A dense softmax layer to generate prob dist. over the target vocabulary\u001b[0m\u001b[0;34m\u001b[0m\u001b[0;34m\u001b[0m\u001b[0;34m\u001b[0m\u001b[0m\n",
            "\u001b[0;32m/usr/local/lib/python3.7/dist-packages/keras/layers/recurrent.py\u001b[0m in \u001b[0;36m__call__\u001b[0;34m(self, inputs, initial_state, constants, **kwargs)\u001b[0m\n\u001b[1;32m    724\u001b[0m       \u001b[0;31m# Perform the call with temporarily replaced input_spec\u001b[0m\u001b[0;34m\u001b[0m\u001b[0;34m\u001b[0m\u001b[0;34m\u001b[0m\u001b[0m\n\u001b[1;32m    725\u001b[0m       \u001b[0mself\u001b[0m\u001b[0;34m.\u001b[0m\u001b[0minput_spec\u001b[0m \u001b[0;34m=\u001b[0m \u001b[0mfull_input_spec\u001b[0m\u001b[0;34m\u001b[0m\u001b[0;34m\u001b[0m\u001b[0m\n\u001b[0;32m--> 726\u001b[0;31m       \u001b[0moutput\u001b[0m \u001b[0;34m=\u001b[0m \u001b[0msuper\u001b[0m\u001b[0;34m(\u001b[0m\u001b[0mRNN\u001b[0m\u001b[0;34m,\u001b[0m \u001b[0mself\u001b[0m\u001b[0;34m)\u001b[0m\u001b[0;34m.\u001b[0m\u001b[0m__call__\u001b[0m\u001b[0;34m(\u001b[0m\u001b[0mfull_input\u001b[0m\u001b[0;34m,\u001b[0m \u001b[0;34m**\u001b[0m\u001b[0mkwargs\u001b[0m\u001b[0;34m)\u001b[0m\u001b[0;34m\u001b[0m\u001b[0;34m\u001b[0m\u001b[0m\n\u001b[0m\u001b[1;32m    727\u001b[0m       \u001b[0;31m# Remove the additional_specs from input spec and keep the rest. It is\u001b[0m\u001b[0;34m\u001b[0m\u001b[0;34m\u001b[0m\u001b[0;34m\u001b[0m\u001b[0m\n\u001b[1;32m    728\u001b[0m       \u001b[0;31m# important to keep since the input spec was populated by build(), and\u001b[0m\u001b[0;34m\u001b[0m\u001b[0;34m\u001b[0m\u001b[0;34m\u001b[0m\u001b[0m\n",
            "\u001b[0;32m/usr/local/lib/python3.7/dist-packages/keras/utils/traceback_utils.py\u001b[0m in \u001b[0;36merror_handler\u001b[0;34m(*args, **kwargs)\u001b[0m\n\u001b[1;32m     65\u001b[0m     \u001b[0;32mexcept\u001b[0m \u001b[0mException\u001b[0m \u001b[0;32mas\u001b[0m \u001b[0me\u001b[0m\u001b[0;34m:\u001b[0m  \u001b[0;31m# pylint: disable=broad-except\u001b[0m\u001b[0;34m\u001b[0m\u001b[0;34m\u001b[0m\u001b[0m\n\u001b[1;32m     66\u001b[0m       \u001b[0mfiltered_tb\u001b[0m \u001b[0;34m=\u001b[0m \u001b[0m_process_traceback_frames\u001b[0m\u001b[0;34m(\u001b[0m\u001b[0me\u001b[0m\u001b[0;34m.\u001b[0m\u001b[0m__traceback__\u001b[0m\u001b[0;34m)\u001b[0m\u001b[0;34m\u001b[0m\u001b[0;34m\u001b[0m\u001b[0m\n\u001b[0;32m---> 67\u001b[0;31m       \u001b[0;32mraise\u001b[0m \u001b[0me\u001b[0m\u001b[0;34m.\u001b[0m\u001b[0mwith_traceback\u001b[0m\u001b[0;34m(\u001b[0m\u001b[0mfiltered_tb\u001b[0m\u001b[0;34m)\u001b[0m \u001b[0;32mfrom\u001b[0m \u001b[0;32mNone\u001b[0m\u001b[0;34m\u001b[0m\u001b[0;34m\u001b[0m\u001b[0m\n\u001b[0m\u001b[1;32m     68\u001b[0m     \u001b[0;32mfinally\u001b[0m\u001b[0;34m:\u001b[0m\u001b[0;34m\u001b[0m\u001b[0;34m\u001b[0m\u001b[0m\n\u001b[1;32m     69\u001b[0m       \u001b[0;32mdel\u001b[0m \u001b[0mfiltered_tb\u001b[0m\u001b[0;34m\u001b[0m\u001b[0;34m\u001b[0m\u001b[0m\n",
            "\u001b[0;32m/usr/local/lib/python3.7/dist-packages/keras/backend.py\u001b[0m in \u001b[0;36mdot\u001b[0;34m(x, y)\u001b[0m\n\u001b[1;32m   2221\u001b[0m     \u001b[0mout\u001b[0m \u001b[0;34m=\u001b[0m \u001b[0mtf\u001b[0m\u001b[0;34m.\u001b[0m\u001b[0msparse\u001b[0m\u001b[0;34m.\u001b[0m\u001b[0msparse_dense_matmul\u001b[0m\u001b[0;34m(\u001b[0m\u001b[0mx\u001b[0m\u001b[0;34m,\u001b[0m \u001b[0my\u001b[0m\u001b[0;34m)\u001b[0m\u001b[0;34m\u001b[0m\u001b[0;34m\u001b[0m\u001b[0m\n\u001b[1;32m   2222\u001b[0m   \u001b[0;32melse\u001b[0m\u001b[0;34m:\u001b[0m\u001b[0;34m\u001b[0m\u001b[0;34m\u001b[0m\u001b[0m\n\u001b[0;32m-> 2223\u001b[0;31m     \u001b[0mout\u001b[0m \u001b[0;34m=\u001b[0m \u001b[0mtf\u001b[0m\u001b[0;34m.\u001b[0m\u001b[0mmatmul\u001b[0m\u001b[0;34m(\u001b[0m\u001b[0mx\u001b[0m\u001b[0;34m,\u001b[0m \u001b[0my\u001b[0m\u001b[0;34m)\u001b[0m\u001b[0;34m\u001b[0m\u001b[0;34m\u001b[0m\u001b[0m\n\u001b[0m\u001b[1;32m   2224\u001b[0m   \u001b[0;32mreturn\u001b[0m \u001b[0mout\u001b[0m\u001b[0;34m\u001b[0m\u001b[0;34m\u001b[0m\u001b[0m\n\u001b[1;32m   2225\u001b[0m \u001b[0;34m\u001b[0m\u001b[0m\n",
            "\u001b[0;31mValueError\u001b[0m: Exception encountered when calling layer \"lstm_cell_13\" (type LSTMCell).\n\nDimensions must be equal, but are 50 and 400 for '{{node decoder/lstm_cell_13/MatMul_4}} = MatMul[T=DT_FLOAT, transpose_a=false, transpose_b=false](decoder/lstm_cell_13/mul_4, decoder/lstm_cell_13/strided_slice)' with input shapes: [?,50], [400,400].\n\nCall arguments received:\n  • inputs=tf.Tensor(shape=(None, 200), dtype=float32)\n  • states=('tf.Tensor(shape=(None, 50), dtype=float32)', 'tf.Tensor(shape=(None, 50), dtype=float32)')\n  • training=False"
          ]
        }
      ]
    },
    {
      "cell_type": "code",
      "source": [
        "target_seq = np.zeros((1,1))\n",
        "    \n",
        "    # Populate the first word of target sequence with the start word.\n",
        "target_seq[0, 0] = target_word_index['sostoken']\n",
        "print(target_seq)"
      ],
      "metadata": {
        "id": "9ew9j0ai-qPH",
        "outputId": "26e49eda-8f39-4e67-8cb6-081f565b9e2f",
        "colab": {
          "base_uri": "https://localhost:8080/"
        }
      },
      "execution_count": 33,
      "outputs": [
        {
          "output_type": "stream",
          "name": "stdout",
          "text": [
            "[[2.]]\n"
          ]
        }
      ]
    },
    {
      "cell_type": "markdown",
      "source": [
        ""
      ],
      "metadata": {
        "id": "C4f0mvBX5lrs"
      }
    }
  ],
  "metadata": {
    "accelerator": "TPU",
    "colab": {
      "collapsed_sections": [],
      "machine_shape": "hm",
      "name": "model_implementation.ipynb",
      "provenance": [],
      "mount_file_id": "1XI9xPdltPVdWOU8KnArmTXFg1_LT1LBp",
      "authorship_tag": "ABX9TyPyZ+krsNDxdbgv31kH2aJ/",
      "include_colab_link": true
    },
    "kernelspec": {
      "display_name": "Python 3",
      "name": "python3"
    },
    "language_info": {
      "name": "python"
    },
    "widgets": {
      "application/vnd.jupyter.widget-state+json": {
        "0a919f73809f4f0dadde8e06408dae4e": {
          "model_module": "@jupyter-widgets/controls",
          "model_name": "HBoxModel",
          "model_module_version": "1.5.0",
          "state": {
            "_dom_classes": [],
            "_model_module": "@jupyter-widgets/controls",
            "_model_module_version": "1.5.0",
            "_model_name": "HBoxModel",
            "_view_count": null,
            "_view_module": "@jupyter-widgets/controls",
            "_view_module_version": "1.5.0",
            "_view_name": "HBoxView",
            "box_style": "",
            "children": [
              "IPY_MODEL_09b118b983e04caebd48338d33e91a2d",
              "IPY_MODEL_c75d80ec4f1242288664b970dcebfcd3",
              "IPY_MODEL_4a41319a853e42aaa8de8787a1c94c05"
            ],
            "layout": "IPY_MODEL_b3397616ca3b412681315a238fc6c490"
          }
        },
        "09b118b983e04caebd48338d33e91a2d": {
          "model_module": "@jupyter-widgets/controls",
          "model_name": "HTMLModel",
          "model_module_version": "1.5.0",
          "state": {
            "_dom_classes": [],
            "_model_module": "@jupyter-widgets/controls",
            "_model_module_version": "1.5.0",
            "_model_name": "HTMLModel",
            "_view_count": null,
            "_view_module": "@jupyter-widgets/controls",
            "_view_module_version": "1.5.0",
            "_view_name": "HTMLView",
            "description": "",
            "description_tooltip": null,
            "layout": "IPY_MODEL_f7bf47a16aac4a808cbeb5f448a62683",
            "placeholder": "​",
            "style": "IPY_MODEL_9c9c49589aa7470880e71f9e947bd344",
            "value": "100%"
          }
        },
        "c75d80ec4f1242288664b970dcebfcd3": {
          "model_module": "@jupyter-widgets/controls",
          "model_name": "FloatProgressModel",
          "model_module_version": "1.5.0",
          "state": {
            "_dom_classes": [],
            "_model_module": "@jupyter-widgets/controls",
            "_model_module_version": "1.5.0",
            "_model_name": "FloatProgressModel",
            "_view_count": null,
            "_view_module": "@jupyter-widgets/controls",
            "_view_module_version": "1.5.0",
            "_view_name": "ProgressView",
            "bar_style": "success",
            "description": "",
            "description_tooltip": null,
            "layout": "IPY_MODEL_e9cd7655344b442a8cd712cecb6a0447",
            "max": 3,
            "min": 0,
            "orientation": "horizontal",
            "style": "IPY_MODEL_201698a7a3a949d29aed9cd9fdfcf0a9",
            "value": 3
          }
        },
        "4a41319a853e42aaa8de8787a1c94c05": {
          "model_module": "@jupyter-widgets/controls",
          "model_name": "HTMLModel",
          "model_module_version": "1.5.0",
          "state": {
            "_dom_classes": [],
            "_model_module": "@jupyter-widgets/controls",
            "_model_module_version": "1.5.0",
            "_model_name": "HTMLModel",
            "_view_count": null,
            "_view_module": "@jupyter-widgets/controls",
            "_view_module_version": "1.5.0",
            "_view_name": "HTMLView",
            "description": "",
            "description_tooltip": null,
            "layout": "IPY_MODEL_948429e63e054de19ac494788277158f",
            "placeholder": "​",
            "style": "IPY_MODEL_afee79fcf3964331b8db09f697619cc5",
            "value": " 3/3 [00:00&lt;00:00, 89.06it/s]"
          }
        },
        "b3397616ca3b412681315a238fc6c490": {
          "model_module": "@jupyter-widgets/base",
          "model_name": "LayoutModel",
          "model_module_version": "1.2.0",
          "state": {
            "_model_module": "@jupyter-widgets/base",
            "_model_module_version": "1.2.0",
            "_model_name": "LayoutModel",
            "_view_count": null,
            "_view_module": "@jupyter-widgets/base",
            "_view_module_version": "1.2.0",
            "_view_name": "LayoutView",
            "align_content": null,
            "align_items": null,
            "align_self": null,
            "border": null,
            "bottom": null,
            "display": null,
            "flex": null,
            "flex_flow": null,
            "grid_area": null,
            "grid_auto_columns": null,
            "grid_auto_flow": null,
            "grid_auto_rows": null,
            "grid_column": null,
            "grid_gap": null,
            "grid_row": null,
            "grid_template_areas": null,
            "grid_template_columns": null,
            "grid_template_rows": null,
            "height": null,
            "justify_content": null,
            "justify_items": null,
            "left": null,
            "margin": null,
            "max_height": null,
            "max_width": null,
            "min_height": null,
            "min_width": null,
            "object_fit": null,
            "object_position": null,
            "order": null,
            "overflow": null,
            "overflow_x": null,
            "overflow_y": null,
            "padding": null,
            "right": null,
            "top": null,
            "visibility": null,
            "width": null
          }
        },
        "f7bf47a16aac4a808cbeb5f448a62683": {
          "model_module": "@jupyter-widgets/base",
          "model_name": "LayoutModel",
          "model_module_version": "1.2.0",
          "state": {
            "_model_module": "@jupyter-widgets/base",
            "_model_module_version": "1.2.0",
            "_model_name": "LayoutModel",
            "_view_count": null,
            "_view_module": "@jupyter-widgets/base",
            "_view_module_version": "1.2.0",
            "_view_name": "LayoutView",
            "align_content": null,
            "align_items": null,
            "align_self": null,
            "border": null,
            "bottom": null,
            "display": null,
            "flex": null,
            "flex_flow": null,
            "grid_area": null,
            "grid_auto_columns": null,
            "grid_auto_flow": null,
            "grid_auto_rows": null,
            "grid_column": null,
            "grid_gap": null,
            "grid_row": null,
            "grid_template_areas": null,
            "grid_template_columns": null,
            "grid_template_rows": null,
            "height": null,
            "justify_content": null,
            "justify_items": null,
            "left": null,
            "margin": null,
            "max_height": null,
            "max_width": null,
            "min_height": null,
            "min_width": null,
            "object_fit": null,
            "object_position": null,
            "order": null,
            "overflow": null,
            "overflow_x": null,
            "overflow_y": null,
            "padding": null,
            "right": null,
            "top": null,
            "visibility": null,
            "width": null
          }
        },
        "9c9c49589aa7470880e71f9e947bd344": {
          "model_module": "@jupyter-widgets/controls",
          "model_name": "DescriptionStyleModel",
          "model_module_version": "1.5.0",
          "state": {
            "_model_module": "@jupyter-widgets/controls",
            "_model_module_version": "1.5.0",
            "_model_name": "DescriptionStyleModel",
            "_view_count": null,
            "_view_module": "@jupyter-widgets/base",
            "_view_module_version": "1.2.0",
            "_view_name": "StyleView",
            "description_width": ""
          }
        },
        "e9cd7655344b442a8cd712cecb6a0447": {
          "model_module": "@jupyter-widgets/base",
          "model_name": "LayoutModel",
          "model_module_version": "1.2.0",
          "state": {
            "_model_module": "@jupyter-widgets/base",
            "_model_module_version": "1.2.0",
            "_model_name": "LayoutModel",
            "_view_count": null,
            "_view_module": "@jupyter-widgets/base",
            "_view_module_version": "1.2.0",
            "_view_name": "LayoutView",
            "align_content": null,
            "align_items": null,
            "align_self": null,
            "border": null,
            "bottom": null,
            "display": null,
            "flex": null,
            "flex_flow": null,
            "grid_area": null,
            "grid_auto_columns": null,
            "grid_auto_flow": null,
            "grid_auto_rows": null,
            "grid_column": null,
            "grid_gap": null,
            "grid_row": null,
            "grid_template_areas": null,
            "grid_template_columns": null,
            "grid_template_rows": null,
            "height": null,
            "justify_content": null,
            "justify_items": null,
            "left": null,
            "margin": null,
            "max_height": null,
            "max_width": null,
            "min_height": null,
            "min_width": null,
            "object_fit": null,
            "object_position": null,
            "order": null,
            "overflow": null,
            "overflow_x": null,
            "overflow_y": null,
            "padding": null,
            "right": null,
            "top": null,
            "visibility": null,
            "width": null
          }
        },
        "201698a7a3a949d29aed9cd9fdfcf0a9": {
          "model_module": "@jupyter-widgets/controls",
          "model_name": "ProgressStyleModel",
          "model_module_version": "1.5.0",
          "state": {
            "_model_module": "@jupyter-widgets/controls",
            "_model_module_version": "1.5.0",
            "_model_name": "ProgressStyleModel",
            "_view_count": null,
            "_view_module": "@jupyter-widgets/base",
            "_view_module_version": "1.2.0",
            "_view_name": "StyleView",
            "bar_color": null,
            "description_width": ""
          }
        },
        "948429e63e054de19ac494788277158f": {
          "model_module": "@jupyter-widgets/base",
          "model_name": "LayoutModel",
          "model_module_version": "1.2.0",
          "state": {
            "_model_module": "@jupyter-widgets/base",
            "_model_module_version": "1.2.0",
            "_model_name": "LayoutModel",
            "_view_count": null,
            "_view_module": "@jupyter-widgets/base",
            "_view_module_version": "1.2.0",
            "_view_name": "LayoutView",
            "align_content": null,
            "align_items": null,
            "align_self": null,
            "border": null,
            "bottom": null,
            "display": null,
            "flex": null,
            "flex_flow": null,
            "grid_area": null,
            "grid_auto_columns": null,
            "grid_auto_flow": null,
            "grid_auto_rows": null,
            "grid_column": null,
            "grid_gap": null,
            "grid_row": null,
            "grid_template_areas": null,
            "grid_template_columns": null,
            "grid_template_rows": null,
            "height": null,
            "justify_content": null,
            "justify_items": null,
            "left": null,
            "margin": null,
            "max_height": null,
            "max_width": null,
            "min_height": null,
            "min_width": null,
            "object_fit": null,
            "object_position": null,
            "order": null,
            "overflow": null,
            "overflow_x": null,
            "overflow_y": null,
            "padding": null,
            "right": null,
            "top": null,
            "visibility": null,
            "width": null
          }
        },
        "afee79fcf3964331b8db09f697619cc5": {
          "model_module": "@jupyter-widgets/controls",
          "model_name": "DescriptionStyleModel",
          "model_module_version": "1.5.0",
          "state": {
            "_model_module": "@jupyter-widgets/controls",
            "_model_module_version": "1.5.0",
            "_model_name": "DescriptionStyleModel",
            "_view_count": null,
            "_view_module": "@jupyter-widgets/base",
            "_view_module_version": "1.2.0",
            "_view_name": "StyleView",
            "description_width": ""
          }
        }
      }
    }
  },
  "nbformat": 4,
  "nbformat_minor": 0
}