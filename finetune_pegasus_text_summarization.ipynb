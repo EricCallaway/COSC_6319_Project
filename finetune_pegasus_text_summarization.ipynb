{
  "nbformat": 4,
  "nbformat_minor": 0,
  "metadata": {
    "colab": {
      "name": "finetune_pegasus_text_summarization.ipynb",
      "provenance": [],
      "machine_shape": "hm",
      "collapsed_sections": [],
      "mount_file_id": "1lZ4gVOkoMNaS8vj5Mjgz5-F0-nt7xqbx",
      "authorship_tag": "ABX9TyOmPJhHDc2Vsc7A/UwhUNhY",
      "include_colab_link": true
    },
    "kernelspec": {
      "name": "python3",
      "display_name": "Python 3"
    },
    "language_info": {
      "name": "python"
    },
    "accelerator": "TPU",
    "widgets": {
      "application/vnd.jupyter.widget-state+json": {
        "cdcec52f2c434a5ca52f66b359ab07eb": {
          "model_module": "@jupyter-widgets/controls",
          "model_name": "HBoxModel",
          "model_module_version": "1.5.0",
          "state": {
            "_dom_classes": [],
            "_model_module": "@jupyter-widgets/controls",
            "_model_module_version": "1.5.0",
            "_model_name": "HBoxModel",
            "_view_count": null,
            "_view_module": "@jupyter-widgets/controls",
            "_view_module_version": "1.5.0",
            "_view_name": "HBoxView",
            "box_style": "",
            "children": [
              "IPY_MODEL_42cb5cdbcf9c49a28c4bc01fefa7fbf1",
              "IPY_MODEL_eadb64cf21a140e5b911606b6ea93015",
              "IPY_MODEL_c481f81783894cb281041bf104f12298"
            ],
            "layout": "IPY_MODEL_3a0ce3ccaac345b7819185b05b78005a"
          }
        },
        "42cb5cdbcf9c49a28c4bc01fefa7fbf1": {
          "model_module": "@jupyter-widgets/controls",
          "model_name": "HTMLModel",
          "model_module_version": "1.5.0",
          "state": {
            "_dom_classes": [],
            "_model_module": "@jupyter-widgets/controls",
            "_model_module_version": "1.5.0",
            "_model_name": "HTMLModel",
            "_view_count": null,
            "_view_module": "@jupyter-widgets/controls",
            "_view_module_version": "1.5.0",
            "_view_name": "HTMLView",
            "description": "",
            "description_tooltip": null,
            "layout": "IPY_MODEL_2edc3e98fe604df28b5c9352cdb1d815",
            "placeholder": "​",
            "style": "IPY_MODEL_dbde863a7791429caf5df4424ce8b36f",
            "value": "100%"
          }
        },
        "eadb64cf21a140e5b911606b6ea93015": {
          "model_module": "@jupyter-widgets/controls",
          "model_name": "FloatProgressModel",
          "model_module_version": "1.5.0",
          "state": {
            "_dom_classes": [],
            "_model_module": "@jupyter-widgets/controls",
            "_model_module_version": "1.5.0",
            "_model_name": "FloatProgressModel",
            "_view_count": null,
            "_view_module": "@jupyter-widgets/controls",
            "_view_module_version": "1.5.0",
            "_view_name": "ProgressView",
            "bar_style": "success",
            "description": "",
            "description_tooltip": null,
            "layout": "IPY_MODEL_194741e1d0f4489c9f10242f436533b7",
            "max": 3,
            "min": 0,
            "orientation": "horizontal",
            "style": "IPY_MODEL_485394a183944e97b6f0639da5df777e",
            "value": 3
          }
        },
        "c481f81783894cb281041bf104f12298": {
          "model_module": "@jupyter-widgets/controls",
          "model_name": "HTMLModel",
          "model_module_version": "1.5.0",
          "state": {
            "_dom_classes": [],
            "_model_module": "@jupyter-widgets/controls",
            "_model_module_version": "1.5.0",
            "_model_name": "HTMLModel",
            "_view_count": null,
            "_view_module": "@jupyter-widgets/controls",
            "_view_module_version": "1.5.0",
            "_view_name": "HTMLView",
            "description": "",
            "description_tooltip": null,
            "layout": "IPY_MODEL_da65fe6f51b44132bc542331433364d1",
            "placeholder": "​",
            "style": "IPY_MODEL_ffdd09be0357430cb33fe37a0cf698f2",
            "value": " 3/3 [00:00&lt;00:00,  2.63it/s]"
          }
        },
        "3a0ce3ccaac345b7819185b05b78005a": {
          "model_module": "@jupyter-widgets/base",
          "model_name": "LayoutModel",
          "model_module_version": "1.2.0",
          "state": {
            "_model_module": "@jupyter-widgets/base",
            "_model_module_version": "1.2.0",
            "_model_name": "LayoutModel",
            "_view_count": null,
            "_view_module": "@jupyter-widgets/base",
            "_view_module_version": "1.2.0",
            "_view_name": "LayoutView",
            "align_content": null,
            "align_items": null,
            "align_self": null,
            "border": null,
            "bottom": null,
            "display": null,
            "flex": null,
            "flex_flow": null,
            "grid_area": null,
            "grid_auto_columns": null,
            "grid_auto_flow": null,
            "grid_auto_rows": null,
            "grid_column": null,
            "grid_gap": null,
            "grid_row": null,
            "grid_template_areas": null,
            "grid_template_columns": null,
            "grid_template_rows": null,
            "height": null,
            "justify_content": null,
            "justify_items": null,
            "left": null,
            "margin": null,
            "max_height": null,
            "max_width": null,
            "min_height": null,
            "min_width": null,
            "object_fit": null,
            "object_position": null,
            "order": null,
            "overflow": null,
            "overflow_x": null,
            "overflow_y": null,
            "padding": null,
            "right": null,
            "top": null,
            "visibility": null,
            "width": null
          }
        },
        "2edc3e98fe604df28b5c9352cdb1d815": {
          "model_module": "@jupyter-widgets/base",
          "model_name": "LayoutModel",
          "model_module_version": "1.2.0",
          "state": {
            "_model_module": "@jupyter-widgets/base",
            "_model_module_version": "1.2.0",
            "_model_name": "LayoutModel",
            "_view_count": null,
            "_view_module": "@jupyter-widgets/base",
            "_view_module_version": "1.2.0",
            "_view_name": "LayoutView",
            "align_content": null,
            "align_items": null,
            "align_self": null,
            "border": null,
            "bottom": null,
            "display": null,
            "flex": null,
            "flex_flow": null,
            "grid_area": null,
            "grid_auto_columns": null,
            "grid_auto_flow": null,
            "grid_auto_rows": null,
            "grid_column": null,
            "grid_gap": null,
            "grid_row": null,
            "grid_template_areas": null,
            "grid_template_columns": null,
            "grid_template_rows": null,
            "height": null,
            "justify_content": null,
            "justify_items": null,
            "left": null,
            "margin": null,
            "max_height": null,
            "max_width": null,
            "min_height": null,
            "min_width": null,
            "object_fit": null,
            "object_position": null,
            "order": null,
            "overflow": null,
            "overflow_x": null,
            "overflow_y": null,
            "padding": null,
            "right": null,
            "top": null,
            "visibility": null,
            "width": null
          }
        },
        "dbde863a7791429caf5df4424ce8b36f": {
          "model_module": "@jupyter-widgets/controls",
          "model_name": "DescriptionStyleModel",
          "model_module_version": "1.5.0",
          "state": {
            "_model_module": "@jupyter-widgets/controls",
            "_model_module_version": "1.5.0",
            "_model_name": "DescriptionStyleModel",
            "_view_count": null,
            "_view_module": "@jupyter-widgets/base",
            "_view_module_version": "1.2.0",
            "_view_name": "StyleView",
            "description_width": ""
          }
        },
        "194741e1d0f4489c9f10242f436533b7": {
          "model_module": "@jupyter-widgets/base",
          "model_name": "LayoutModel",
          "model_module_version": "1.2.0",
          "state": {
            "_model_module": "@jupyter-widgets/base",
            "_model_module_version": "1.2.0",
            "_model_name": "LayoutModel",
            "_view_count": null,
            "_view_module": "@jupyter-widgets/base",
            "_view_module_version": "1.2.0",
            "_view_name": "LayoutView",
            "align_content": null,
            "align_items": null,
            "align_self": null,
            "border": null,
            "bottom": null,
            "display": null,
            "flex": null,
            "flex_flow": null,
            "grid_area": null,
            "grid_auto_columns": null,
            "grid_auto_flow": null,
            "grid_auto_rows": null,
            "grid_column": null,
            "grid_gap": null,
            "grid_row": null,
            "grid_template_areas": null,
            "grid_template_columns": null,
            "grid_template_rows": null,
            "height": null,
            "justify_content": null,
            "justify_items": null,
            "left": null,
            "margin": null,
            "max_height": null,
            "max_width": null,
            "min_height": null,
            "min_width": null,
            "object_fit": null,
            "object_position": null,
            "order": null,
            "overflow": null,
            "overflow_x": null,
            "overflow_y": null,
            "padding": null,
            "right": null,
            "top": null,
            "visibility": null,
            "width": null
          }
        },
        "485394a183944e97b6f0639da5df777e": {
          "model_module": "@jupyter-widgets/controls",
          "model_name": "ProgressStyleModel",
          "model_module_version": "1.5.0",
          "state": {
            "_model_module": "@jupyter-widgets/controls",
            "_model_module_version": "1.5.0",
            "_model_name": "ProgressStyleModel",
            "_view_count": null,
            "_view_module": "@jupyter-widgets/base",
            "_view_module_version": "1.2.0",
            "_view_name": "StyleView",
            "bar_color": null,
            "description_width": ""
          }
        },
        "da65fe6f51b44132bc542331433364d1": {
          "model_module": "@jupyter-widgets/base",
          "model_name": "LayoutModel",
          "model_module_version": "1.2.0",
          "state": {
            "_model_module": "@jupyter-widgets/base",
            "_model_module_version": "1.2.0",
            "_model_name": "LayoutModel",
            "_view_count": null,
            "_view_module": "@jupyter-widgets/base",
            "_view_module_version": "1.2.0",
            "_view_name": "LayoutView",
            "align_content": null,
            "align_items": null,
            "align_self": null,
            "border": null,
            "bottom": null,
            "display": null,
            "flex": null,
            "flex_flow": null,
            "grid_area": null,
            "grid_auto_columns": null,
            "grid_auto_flow": null,
            "grid_auto_rows": null,
            "grid_column": null,
            "grid_gap": null,
            "grid_row": null,
            "grid_template_areas": null,
            "grid_template_columns": null,
            "grid_template_rows": null,
            "height": null,
            "justify_content": null,
            "justify_items": null,
            "left": null,
            "margin": null,
            "max_height": null,
            "max_width": null,
            "min_height": null,
            "min_width": null,
            "object_fit": null,
            "object_position": null,
            "order": null,
            "overflow": null,
            "overflow_x": null,
            "overflow_y": null,
            "padding": null,
            "right": null,
            "top": null,
            "visibility": null,
            "width": null
          }
        },
        "ffdd09be0357430cb33fe37a0cf698f2": {
          "model_module": "@jupyter-widgets/controls",
          "model_name": "DescriptionStyleModel",
          "model_module_version": "1.5.0",
          "state": {
            "_model_module": "@jupyter-widgets/controls",
            "_model_module_version": "1.5.0",
            "_model_name": "DescriptionStyleModel",
            "_view_count": null,
            "_view_module": "@jupyter-widgets/base",
            "_view_module_version": "1.2.0",
            "_view_name": "StyleView",
            "description_width": ""
          }
        }
      }
    }
  },
  "cells": [
    {
      "cell_type": "markdown",
      "metadata": {
        "id": "view-in-github",
        "colab_type": "text"
      },
      "source": [
        "<a href=\"https://colab.research.google.com/github/EricCallaway/COSC_6319_Project/blob/NavyaMakkena_COSC_6319_Project/finetune_pegasus_text_summarization.ipynb\" target=\"_parent\"><img src=\"https://colab.research.google.com/assets/colab-badge.svg\" alt=\"Open In Colab\"/></a>"
      ]
    },
    {
      "cell_type": "code",
      "execution_count": null,
      "metadata": {
        "colab": {
          "base_uri": "https://localhost:8080/"
        },
        "id": "42xItC7TjoWL",
        "outputId": "15f38eaa-9aff-4ac8-cb97-c6ba894121b0"
      },
      "outputs": [
        {
          "output_type": "stream",
          "name": "stdout",
          "text": [
            "Requirement already satisfied: transformers in /usr/local/lib/python3.7/dist-packages (4.18.0)\n",
            "Requirement already satisfied: regex!=2019.12.17 in /usr/local/lib/python3.7/dist-packages (from transformers) (2019.12.20)\n",
            "Requirement already satisfied: importlib-metadata in /usr/local/lib/python3.7/dist-packages (from transformers) (4.11.3)\n",
            "Requirement already satisfied: filelock in /usr/local/lib/python3.7/dist-packages (from transformers) (3.6.0)\n",
            "Requirement already satisfied: packaging>=20.0 in /usr/local/lib/python3.7/dist-packages (from transformers) (21.3)\n",
            "Requirement already satisfied: tqdm>=4.27 in /usr/local/lib/python3.7/dist-packages (from transformers) (4.64.0)\n",
            "Requirement already satisfied: sacremoses in /usr/local/lib/python3.7/dist-packages (from transformers) (0.0.53)\n",
            "Requirement already satisfied: numpy>=1.17 in /usr/local/lib/python3.7/dist-packages (from transformers) (1.21.6)\n",
            "Requirement already satisfied: huggingface-hub<1.0,>=0.1.0 in /usr/local/lib/python3.7/dist-packages (from transformers) (0.5.1)\n",
            "Requirement already satisfied: tokenizers!=0.11.3,<0.13,>=0.11.1 in /usr/local/lib/python3.7/dist-packages (from transformers) (0.12.1)\n",
            "Requirement already satisfied: pyyaml>=5.1 in /usr/local/lib/python3.7/dist-packages (from transformers) (6.0)\n",
            "Requirement already satisfied: requests in /usr/local/lib/python3.7/dist-packages (from transformers) (2.23.0)\n",
            "Requirement already satisfied: typing-extensions>=3.7.4.3 in /usr/local/lib/python3.7/dist-packages (from huggingface-hub<1.0,>=0.1.0->transformers) (4.2.0)\n",
            "Requirement already satisfied: pyparsing!=3.0.5,>=2.0.2 in /usr/local/lib/python3.7/dist-packages (from packaging>=20.0->transformers) (3.0.8)\n",
            "Requirement already satisfied: zipp>=0.5 in /usr/local/lib/python3.7/dist-packages (from importlib-metadata->transformers) (3.8.0)\n",
            "Requirement already satisfied: certifi>=2017.4.17 in /usr/local/lib/python3.7/dist-packages (from requests->transformers) (2021.10.8)\n",
            "Requirement already satisfied: idna<3,>=2.5 in /usr/local/lib/python3.7/dist-packages (from requests->transformers) (2.10)\n",
            "Requirement already satisfied: chardet<4,>=3.0.2 in /usr/local/lib/python3.7/dist-packages (from requests->transformers) (3.0.4)\n",
            "Requirement already satisfied: urllib3!=1.25.0,!=1.25.1,<1.26,>=1.21.1 in /usr/local/lib/python3.7/dist-packages (from requests->transformers) (1.25.11)\n",
            "Requirement already satisfied: six in /usr/local/lib/python3.7/dist-packages (from sacremoses->transformers) (1.15.0)\n",
            "Requirement already satisfied: joblib in /usr/local/lib/python3.7/dist-packages (from sacremoses->transformers) (1.1.0)\n",
            "Requirement already satisfied: click in /usr/local/lib/python3.7/dist-packages (from sacremoses->transformers) (7.1.2)\n"
          ]
        }
      ],
      "source": [
        "!pip install transformers"
      ]
    },
    {
      "cell_type": "code",
      "source": [
        "!pip install datasets"
      ],
      "metadata": {
        "colab": {
          "base_uri": "https://localhost:8080/"
        },
        "id": "RjE4A0E9nRL2",
        "outputId": "e7ea6f5b-3e12-4728-dd6a-4ca106e02a15"
      },
      "execution_count": null,
      "outputs": [
        {
          "output_type": "stream",
          "name": "stdout",
          "text": [
            "Requirement already satisfied: datasets in /usr/local/lib/python3.7/dist-packages (2.1.0)\n",
            "Requirement already satisfied: fsspec[http]>=2021.05.0 in /usr/local/lib/python3.7/dist-packages (from datasets) (2022.3.0)\n",
            "Requirement already satisfied: aiohttp in /usr/local/lib/python3.7/dist-packages (from datasets) (3.8.1)\n",
            "Requirement already satisfied: pandas in /usr/local/lib/python3.7/dist-packages (from datasets) (1.3.5)\n",
            "Requirement already satisfied: packaging in /usr/local/lib/python3.7/dist-packages (from datasets) (21.3)\n",
            "Requirement already satisfied: importlib-metadata in /usr/local/lib/python3.7/dist-packages (from datasets) (4.11.3)\n",
            "Requirement already satisfied: pyarrow>=5.0.0 in /usr/local/lib/python3.7/dist-packages (from datasets) (6.0.1)\n",
            "Requirement already satisfied: requests>=2.19.0 in /usr/local/lib/python3.7/dist-packages (from datasets) (2.23.0)\n",
            "Requirement already satisfied: xxhash in /usr/local/lib/python3.7/dist-packages (from datasets) (3.0.0)\n",
            "Requirement already satisfied: responses<0.19 in /usr/local/lib/python3.7/dist-packages (from datasets) (0.18.0)\n",
            "Requirement already satisfied: numpy>=1.17 in /usr/local/lib/python3.7/dist-packages (from datasets) (1.21.6)\n",
            "Requirement already satisfied: multiprocess in /usr/local/lib/python3.7/dist-packages (from datasets) (0.70.12.2)\n",
            "Requirement already satisfied: huggingface-hub<1.0.0,>=0.1.0 in /usr/local/lib/python3.7/dist-packages (from datasets) (0.5.1)\n",
            "Requirement already satisfied: tqdm>=4.62.1 in /usr/local/lib/python3.7/dist-packages (from datasets) (4.64.0)\n",
            "Requirement already satisfied: dill in /usr/local/lib/python3.7/dist-packages (from datasets) (0.3.4)\n",
            "Requirement already satisfied: pyyaml in /usr/local/lib/python3.7/dist-packages (from huggingface-hub<1.0.0,>=0.1.0->datasets) (6.0)\n",
            "Requirement already satisfied: filelock in /usr/local/lib/python3.7/dist-packages (from huggingface-hub<1.0.0,>=0.1.0->datasets) (3.6.0)\n",
            "Requirement already satisfied: typing-extensions>=3.7.4.3 in /usr/local/lib/python3.7/dist-packages (from huggingface-hub<1.0.0,>=0.1.0->datasets) (4.2.0)\n",
            "Requirement already satisfied: pyparsing!=3.0.5,>=2.0.2 in /usr/local/lib/python3.7/dist-packages (from packaging->datasets) (3.0.8)\n",
            "Requirement already satisfied: urllib3!=1.25.0,!=1.25.1,<1.26,>=1.21.1 in /usr/local/lib/python3.7/dist-packages (from requests>=2.19.0->datasets) (1.25.11)\n",
            "Requirement already satisfied: chardet<4,>=3.0.2 in /usr/local/lib/python3.7/dist-packages (from requests>=2.19.0->datasets) (3.0.4)\n",
            "Requirement already satisfied: idna<3,>=2.5 in /usr/local/lib/python3.7/dist-packages (from requests>=2.19.0->datasets) (2.10)\n",
            "Requirement already satisfied: certifi>=2017.4.17 in /usr/local/lib/python3.7/dist-packages (from requests>=2.19.0->datasets) (2021.10.8)\n",
            "Requirement already satisfied: charset-normalizer<3.0,>=2.0 in /usr/local/lib/python3.7/dist-packages (from aiohttp->datasets) (2.0.12)\n",
            "Requirement already satisfied: asynctest==0.13.0 in /usr/local/lib/python3.7/dist-packages (from aiohttp->datasets) (0.13.0)\n",
            "Requirement already satisfied: aiosignal>=1.1.2 in /usr/local/lib/python3.7/dist-packages (from aiohttp->datasets) (1.2.0)\n",
            "Requirement already satisfied: yarl<2.0,>=1.0 in /usr/local/lib/python3.7/dist-packages (from aiohttp->datasets) (1.7.2)\n",
            "Requirement already satisfied: async-timeout<5.0,>=4.0.0a3 in /usr/local/lib/python3.7/dist-packages (from aiohttp->datasets) (4.0.2)\n",
            "Requirement already satisfied: attrs>=17.3.0 in /usr/local/lib/python3.7/dist-packages (from aiohttp->datasets) (21.4.0)\n",
            "Requirement already satisfied: frozenlist>=1.1.1 in /usr/local/lib/python3.7/dist-packages (from aiohttp->datasets) (1.3.0)\n",
            "Requirement already satisfied: multidict<7.0,>=4.5 in /usr/local/lib/python3.7/dist-packages (from aiohttp->datasets) (6.0.2)\n",
            "Requirement already satisfied: zipp>=0.5 in /usr/local/lib/python3.7/dist-packages (from importlib-metadata->datasets) (3.8.0)\n",
            "Requirement already satisfied: python-dateutil>=2.7.3 in /usr/local/lib/python3.7/dist-packages (from pandas->datasets) (2.8.2)\n",
            "Requirement already satisfied: pytz>=2017.3 in /usr/local/lib/python3.7/dist-packages (from pandas->datasets) (2022.1)\n",
            "Requirement already satisfied: six>=1.5 in /usr/local/lib/python3.7/dist-packages (from python-dateutil>=2.7.3->pandas->datasets) (1.15.0)\n"
          ]
        }
      ]
    },
    {
      "cell_type": "code",
      "source": [
        "!pip install rouge_score"
      ],
      "metadata": {
        "colab": {
          "base_uri": "https://localhost:8080/"
        },
        "id": "VLFKTQAfndqE",
        "outputId": "0b6cd342-3c0b-444d-ef04-673d66e4d50c"
      },
      "execution_count": null,
      "outputs": [
        {
          "output_type": "stream",
          "name": "stdout",
          "text": [
            "Requirement already satisfied: rouge_score in /usr/local/lib/python3.7/dist-packages (0.0.4)\n",
            "Requirement already satisfied: six>=1.14.0 in /usr/local/lib/python3.7/dist-packages (from rouge_score) (1.15.0)\n",
            "Requirement already satisfied: nltk in /usr/local/lib/python3.7/dist-packages (from rouge_score) (3.2.5)\n",
            "Requirement already satisfied: absl-py in /usr/local/lib/python3.7/dist-packages (from rouge_score) (1.0.0)\n",
            "Requirement already satisfied: numpy in /usr/local/lib/python3.7/dist-packages (from rouge_score) (1.21.6)\n"
          ]
        }
      ]
    },
    {
      "cell_type": "code",
      "source": [
        "!pip install sentencepiece"
      ],
      "metadata": {
        "colab": {
          "base_uri": "https://localhost:8080/"
        },
        "id": "rAX26QilnhZF",
        "outputId": "1f343bdd-f075-41b7-d884-81c09bcd3d93"
      },
      "execution_count": null,
      "outputs": [
        {
          "output_type": "stream",
          "name": "stdout",
          "text": [
            "Requirement already satisfied: sentencepiece in /usr/local/lib/python3.7/dist-packages (0.1.96)\n"
          ]
        }
      ]
    },
    {
      "cell_type": "code",
      "source": [
        "import torch\n",
        "from transformers import PegasusForConditionalGeneration, PegasusConfig, PegasusTokenizer, Seq2SeqTrainer , Seq2SeqTrainingArguments\n",
        "from datasets import load_dataset,load_metric\n",
        "import nltk\n",
        "import os\n",
        "import numpy as np\n",
        "nltk.download('punkt')\n",
        "\n",
        "class dataset_pegasus(torch.utils.data.Dataset):\n",
        "    def __init__(self, encodings, labels):\n",
        "        self.encodings = encodings\n",
        "        self.labels = labels\n",
        "    def __getitem__(self, idx):\n",
        "        item = {key: torch.tensor(val[idx]) for key, val in self.encodings.items()}\n",
        "        item['labels'] = torch.tensor(self.labels['input_ids'][idx])  # torch.tensor(self.labels[idx])\n",
        "        return item\n",
        "    def __len__(self):\n",
        "        return len(self.labels['input_ids'])  # len(self.labels)\n",
        "      \n",
        "def prepare_data(model_name, \n",
        "                 train_texts, train_labels, \n",
        "                 val_texts=None, val_labels=None, \n",
        "                 test_texts=None, test_labels=None):\n",
        "  # Prepare input data for model fine-tuning\n",
        "  tokenizer = torch.hub.load('huggingface/pytorch-transformers', 'tokenizer', model_name) \n",
        "\n",
        "  prepare_val = False if val_texts is None or val_labels is None else True\n",
        "  prepare_test = False if test_texts is None or test_labels is None else True\n",
        "\n",
        "  def tokenize_data(texts, labels):\n",
        "    encodings = tokenizer(texts, truncation=True, padding=True)\n",
        "    decodings = tokenizer(labels, truncation=True, padding=True)\n",
        "    dataset_tokenized = dataset_pegasus(encodings, decodings)\n",
        "    return dataset_tokenized\n",
        "\n",
        "  train_dataset = tokenize_data(train_texts, train_labels)\n",
        "  val_dataset = tokenize_data(val_texts, val_labels) if prepare_val else None\n",
        "  test_dataset = tokenize_data(test_texts, test_labels) if prepare_test else None\n",
        "\n",
        "  return train_dataset, val_dataset, test_dataset, tokenizer\n",
        "\n",
        "# Metric\n",
        "metric = load_metric(\"rouge\")\n",
        "\n",
        "def postprocess_text(preds, labels):\n",
        "    preds = [pred.strip() for pred in preds]\n",
        "    labels = [label.strip() for label in labels]\n",
        "\n",
        "    # rougeLSum expects newline after each sentence\n",
        "    preds = [\"\\n\".join(nltk.sent_tokenize(pred)) for pred in preds]\n",
        "    labels = [\"\\n\".join(nltk.sent_tokenize(label)) for label in labels]\n",
        "\n",
        "    return preds, labels\n",
        "\n",
        "def compute_metrics(eval_preds):\n",
        "    preds, labels = eval_preds\n",
        "    if isinstance(preds, tuple):\n",
        "      preds = preds[0]\n",
        "    \n",
        "    decoded_preds = tokenizer.batch_decode(preds, skip_special_tokens=True)\n",
        "    decoded_labels = tokenizer.batch_decode(labels, skip_special_tokens=True)\n",
        "\n",
        "    # Some simple post-processing\n",
        "    decoded_preds, decoded_labels = postprocess_text(decoded_preds, decoded_labels)\n",
        "\n",
        "    result = metric.compute(predictions=decoded_preds, references=decoded_labels, use_stemmer=True)\n",
        "    # Extract a few results from ROUGE\n",
        "    result = {key: value.mid.fmeasure * 100 for key, value in result.items()}\n",
        "\n",
        "    prediction_lens = [np.count_nonzero(pred != tokenizer.pad_token_id) for pred in preds]\n",
        "    result[\"gen_len\"] = np.mean(prediction_lens)\n",
        "    result = {k: round(v, 4) for k, v in result.items()}\n",
        "    return result\n",
        "\n",
        "\n",
        "def prepare_fine_tuning(model_name, tokenizer, train_dataset, val_dataset=None, output_dir='./results', freeze_encoder=False):\n",
        "  # Prepare configurations and base model for fine-tuning\n",
        "  torch_device = 'cuda' if torch.cuda.is_available() else 'cpu'\n",
        "  configuration = PegasusConfig(vocab_size=96103, encoder_layers=8, encoder_attention_heads=8, decoder_layers=8, decoder_attention_heads=8)\n",
        "  model = PegasusForConditionalGeneration.from_pretrained(model_name,config = configuration).to(torch_device)\n",
        "  configuration = model.config\n",
        "\n",
        "  if freeze_encoder:\n",
        "   for param in model.model.encoder.parameters():\n",
        "    param.requires_grad = False\n",
        "\n",
        "  if val_dataset is not None:\n",
        "    training_args = Seq2SeqTrainingArguments(\n",
        "      output_dir=output_dir,           # output directory\n",
        "      num_train_epochs=10,           # total number of training epochs\n",
        "      per_device_train_batch_size=50,   # batch size per device during training, can increase if memory allows\n",
        "      per_device_eval_batch_size=50,    # batch size for evaluation, can increase if memory allows\n",
        "      save_steps=100,                  # number of updates steps before checkpoint saves\n",
        "      save_total_limit=5,              # limit the total amount of checkpoints and deletes the older checkpoints\n",
        "      evaluation_strategy='steps',     # evaluation strategy to adopt during training\n",
        "      eval_steps=5000,                  # number of update steps before evaluation\n",
        "      warmup_steps=500,                # number of warmup steps for learning rate scheduler\n",
        "      weight_decay=0.01,               # strength of weight decay\n",
        "      logging_dir='./logs',            # directory for storing logs\n",
        "      logging_steps=10,\n",
        "      predict_with_generate =True\n",
        "    )\n",
        "\n",
        "    trainer = Seq2SeqTrainer(\n",
        "      model=model,                         # the instantiated 🤗 Transformers model to be trained\n",
        "      args=training_args,                  # training arguments, defined above\n",
        "      train_dataset=train_dataset,         # training dataset\n",
        "      eval_dataset=val_dataset,            # evaluation dataset\n",
        "      tokenizer=tokenizer,\n",
        "      compute_metrics=compute_metrics\n",
        "    )\n",
        "\n",
        "  return trainer\n",
        "\n",
        "if __name__=='__main__':\n",
        "\n",
        "  dataset = load_dataset(\"csebuetnlp/xlsum\",'english')\n",
        "\n",
        "  train_report, train_summary, val_report, val_summary, test_report, test_summary = dataset['train']['text'][:100], dataset['train']['summary'][:100],dataset['validation']['text'][:100], dataset['validation']['summary'][:100],dataset['test']['text'][:100], dataset['test']['summary'][:100]\n",
        "  \n",
        "  model_name = 'google/pegasus-large'\n",
        "  train_dataset,val_dataset, test_dataset, tokenizer = prepare_data(model_name, train_report, train_summary, val_report, val_summary, test_report, test_summary)\n",
        "  \n",
        "  # Training\n",
        "  trainer = prepare_fine_tuning(model_name, tokenizer, train_dataset,val_dataset, freeze_encoder=True)\n",
        "  train_result = trainer.train()\n",
        "  trainer.save_model()  # Saves the tokenizer too for easy upload\n",
        "\n",
        "  metrics = train_result.metrics\n",
        "  trainer.log_metrics(\"train\", metrics)\n",
        "  trainer.save_metrics(\"train\", metrics)\n",
        "  trainer.save_state()\n",
        "\n",
        "   # Evaluation\n",
        "  metrics = trainer.evaluate( metric_key_prefix=\"eval\")\n",
        "  trainer.log_metrics(\"eval\", metrics)\n",
        "  trainer.save_metrics(\"eval\", metrics)\n",
        "\n",
        "     # prediction\n",
        "  predict_results = trainer.predict( test_dataset,metric_key_prefix=\"predict\")\n",
        "  metrics = predict_results.metrics\n",
        "  trainer.log_metrics(\"predict\", metrics)\n",
        "  trainer.save_metrics(\"predict\", metrics)\n",
        "  if trainer.is_world_process_zero():\n",
        "    predictions = tokenizer.batch_decode(\n",
        "        predict_results.predictions, skip_special_tokens=True, clean_up_tokenization_spaces=True\n",
        "    )\n",
        "    predictions = [pred.strip() for pred in predictions]\n",
        "    output_prediction_file =  \"/content/drive/My Drive/Colab Notebooks/Transformer_Predictions/generated_predictions.txt\"\n",
        "    with open(output_prediction_file, \"w\") as writer:\n",
        "        writer.write(\"\\n\".join(predictions))\n"
      ],
      "metadata": {
        "colab": {
          "base_uri": "https://localhost:8080/",
          "height": 1000,
          "referenced_widgets": [
            "cdcec52f2c434a5ca52f66b359ab07eb",
            "42cb5cdbcf9c49a28c4bc01fefa7fbf1",
            "eadb64cf21a140e5b911606b6ea93015",
            "c481f81783894cb281041bf104f12298",
            "3a0ce3ccaac345b7819185b05b78005a",
            "2edc3e98fe604df28b5c9352cdb1d815",
            "dbde863a7791429caf5df4424ce8b36f",
            "194741e1d0f4489c9f10242f436533b7",
            "485394a183944e97b6f0639da5df777e",
            "da65fe6f51b44132bc542331433364d1",
            "ffdd09be0357430cb33fe37a0cf698f2"
          ]
        },
        "id": "XB3iiEMWnko4",
        "outputId": "029b3108-92b2-4437-e02d-4ab03fbed0f7"
      },
      "execution_count": null,
      "outputs": [
        {
          "output_type": "stream",
          "name": "stdout",
          "text": [
            "[nltk_data] Downloading package punkt to /root/nltk_data...\n",
            "[nltk_data]   Package punkt is already up-to-date!\n"
          ]
        },
        {
          "output_type": "stream",
          "name": "stderr",
          "text": [
            "Reusing dataset xlsum (/root/.cache/huggingface/datasets/csebuetnlp___xlsum/english/2.0.0/518ab0af76048660bcc2240ca6e8692a977c80e384ffb18fdddebaca6daebdce)\n"
          ]
        },
        {
          "output_type": "display_data",
          "data": {
            "text/plain": [
              "  0%|          | 0/3 [00:00<?, ?it/s]"
            ],
            "application/vnd.jupyter.widget-view+json": {
              "version_major": 2,
              "version_minor": 0,
              "model_id": "cdcec52f2c434a5ca52f66b359ab07eb"
            }
          },
          "metadata": {}
        },
        {
          "output_type": "stream",
          "name": "stderr",
          "text": [
            "Using cache found in /root/.cache/torch/hub/huggingface_pytorch-transformers_main\n",
            "Some weights of the model checkpoint at google/pegasus-large were not used when initializing PegasusForConditionalGeneration: ['model.decoder.layers.15.self_attn.k_proj.weight', 'model.decoder.layers.13.encoder_attn.out_proj.weight', 'model.encoder.layers.14.self_attn.out_proj.weight', 'model.encoder.layers.8.self_attn.v_proj.weight', 'model.decoder.layers.14.encoder_attn.q_proj.bias', 'model.decoder.layers.8.fc1.weight', 'model.decoder.layers.14.encoder_attn.q_proj.weight', 'model.decoder.layers.11.self_attn.q_proj.weight', 'model.decoder.layers.14.self_attn.k_proj.bias', 'model.encoder.layers.12.self_attn.k_proj.weight', 'model.decoder.layers.15.self_attn.k_proj.bias', 'model.encoder.layers.12.final_layer_norm.weight', 'model.decoder.layers.14.encoder_attn_layer_norm.bias', 'model.encoder.layers.15.final_layer_norm.weight', 'model.decoder.layers.14.self_attn.v_proj.bias', 'model.encoder.layers.8.fc1.bias', 'model.decoder.layers.14.fc2.bias', 'model.encoder.layers.12.fc2.weight', 'model.encoder.layers.10.fc1.bias', 'model.encoder.layers.12.self_attn.q_proj.bias', 'model.decoder.layers.11.encoder_attn.out_proj.weight', 'model.decoder.layers.12.self_attn_layer_norm.weight', 'model.decoder.layers.10.self_attn_layer_norm.bias', 'model.decoder.layers.15.self_attn.q_proj.weight', 'model.encoder.layers.9.self_attn.k_proj.bias', 'model.encoder.layers.9.final_layer_norm.bias', 'model.decoder.layers.13.self_attn.q_proj.bias', 'model.decoder.layers.12.self_attn.out_proj.bias', 'model.decoder.layers.11.encoder_attn_layer_norm.bias', 'model.decoder.layers.9.self_attn.q_proj.weight', 'model.encoder.layers.12.final_layer_norm.bias', 'model.encoder.layers.14.self_attn.v_proj.weight', 'model.decoder.layers.9.encoder_attn_layer_norm.bias', 'model.decoder.layers.12.self_attn.k_proj.bias', 'model.decoder.layers.8.encoder_attn_layer_norm.weight', 'model.encoder.layers.13.fc2.weight', 'model.decoder.layers.13.self_attn_layer_norm.weight', 'model.decoder.layers.10.encoder_attn.out_proj.weight', 'model.encoder.layers.12.fc2.bias', 'model.decoder.layers.15.fc1.weight', 'model.decoder.layers.10.encoder_attn.k_proj.weight', 'model.encoder.layers.8.final_layer_norm.bias', 'model.decoder.layers.13.fc2.bias', 'model.encoder.layers.13.fc1.weight', 'model.decoder.layers.14.self_attn_layer_norm.weight', 'model.encoder.layers.15.fc1.bias', 'model.decoder.layers.9.self_attn.v_proj.bias', 'model.encoder.layers.12.self_attn_layer_norm.bias', 'model.decoder.layers.8.fc2.weight', 'model.encoder.layers.10.self_attn.k_proj.weight', 'model.encoder.layers.8.self_attn.q_proj.bias', 'model.decoder.layers.11.self_attn.k_proj.weight', 'model.decoder.layers.14.fc2.weight', 'model.decoder.layers.11.final_layer_norm.weight', 'model.decoder.layers.10.self_attn_layer_norm.weight', 'model.encoder.layers.11.self_attn_layer_norm.bias', 'model.encoder.layers.12.self_attn.out_proj.bias', 'model.decoder.layers.12.encoder_attn.out_proj.weight', 'model.decoder.layers.8.self_attn.q_proj.bias', 'model.encoder.layers.9.fc1.weight', 'model.decoder.layers.8.encoder_attn.v_proj.weight', 'model.decoder.layers.11.fc2.bias', 'model.decoder.layers.13.encoder_attn.k_proj.bias', 'model.decoder.layers.12.encoder_attn.q_proj.bias', 'model.decoder.layers.11.encoder_attn_layer_norm.weight', 'model.encoder.layers.10.self_attn_layer_norm.weight', 'model.decoder.layers.10.fc2.weight', 'model.encoder.layers.10.fc2.weight', 'model.decoder.layers.11.encoder_attn.k_proj.weight', 'model.decoder.layers.13.encoder_attn.q_proj.bias', 'model.decoder.layers.12.encoder_attn.out_proj.bias', 'model.encoder.layers.14.self_attn.q_proj.weight', 'model.decoder.layers.10.self_attn.out_proj.weight', 'model.encoder.layers.10.fc1.weight', 'model.decoder.layers.15.encoder_attn.k_proj.weight', 'model.decoder.layers.15.fc2.weight', 'model.decoder.layers.13.fc1.bias', 'model.encoder.layers.8.self_attn_layer_norm.bias', 'model.encoder.layers.9.self_attn.v_proj.bias', 'model.decoder.layers.10.final_layer_norm.weight', 'model.decoder.layers.14.encoder_attn.k_proj.bias', 'model.encoder.layers.15.self_attn.k_proj.weight', 'model.decoder.layers.12.self_attn.out_proj.weight', 'model.encoder.layers.13.self_attn.v_proj.weight', 'model.decoder.layers.8.encoder_attn_layer_norm.bias', 'model.decoder.layers.11.self_attn.out_proj.weight', 'model.decoder.layers.14.encoder_attn.v_proj.bias', 'model.decoder.layers.10.fc1.bias', 'model.encoder.layers.9.final_layer_norm.weight', 'model.encoder.layers.11.self_attn_layer_norm.weight', 'model.encoder.layers.9.fc2.weight', 'model.decoder.layers.13.self_attn_layer_norm.bias', 'model.decoder.layers.14.encoder_attn.k_proj.weight', 'model.decoder.layers.9.fc1.weight', 'model.decoder.layers.15.self_attn_layer_norm.weight', 'model.decoder.layers.15.self_attn_layer_norm.bias', 'model.encoder.layers.11.self_attn.k_proj.bias', 'model.decoder.layers.13.final_layer_norm.bias', 'model.encoder.layers.14.self_attn_layer_norm.bias', 'model.decoder.layers.12.self_attn.v_proj.weight', 'model.decoder.layers.15.fc1.bias', 'model.decoder.layers.13.self_attn.v_proj.weight', 'model.encoder.layers.14.fc1.bias', 'model.encoder.layers.11.fc2.bias', 'model.decoder.layers.10.encoder_attn.q_proj.weight', 'model.decoder.layers.10.self_attn.out_proj.bias', 'model.decoder.layers.12.encoder_attn_layer_norm.weight', 'model.decoder.layers.15.final_layer_norm.bias', 'model.encoder.layers.9.self_attn_layer_norm.bias', 'model.decoder.layers.15.final_layer_norm.weight', 'model.encoder.layers.15.fc1.weight', 'model.decoder.layers.12.self_attn.q_proj.bias', 'model.encoder.layers.10.self_attn.v_proj.weight', 'model.encoder.layers.14.final_layer_norm.weight', 'model.encoder.layers.9.self_attn.out_proj.weight', 'model.decoder.layers.12.encoder_attn.v_proj.bias', 'model.decoder.layers.9.self_attn.out_proj.bias', 'model.decoder.layers.15.self_attn.v_proj.bias', 'model.encoder.layers.11.self_attn.q_proj.weight', 'model.encoder.layers.8.self_attn.out_proj.bias', 'model.encoder.layers.10.self_attn.out_proj.weight', 'model.decoder.layers.13.encoder_attn.v_proj.bias', 'model.decoder.layers.8.encoder_attn.q_proj.bias', 'model.encoder.layers.8.self_attn.k_proj.bias', 'model.decoder.layers.8.fc1.bias', 'model.decoder.layers.13.fc2.weight', 'model.decoder.layers.8.final_layer_norm.weight', 'model.encoder.layers.9.self_attn.out_proj.bias', 'model.decoder.layers.15.encoder_attn_layer_norm.weight', 'model.encoder.layers.10.fc2.bias', 'model.decoder.layers.12.final_layer_norm.bias', 'model.decoder.layers.8.self_attn.out_proj.weight', 'model.encoder.layers.10.final_layer_norm.weight', 'model.decoder.layers.15.encoder_attn.v_proj.weight', 'model.encoder.layers.12.self_attn.q_proj.weight', 'model.encoder.layers.13.final_layer_norm.bias', 'model.encoder.layers.11.self_attn.q_proj.bias', 'model.decoder.layers.15.self_attn.q_proj.bias', 'model.decoder.layers.11.encoder_attn.v_proj.weight', 'model.decoder.layers.12.fc1.bias', 'model.decoder.layers.11.self_attn.k_proj.bias', 'model.decoder.layers.8.self_attn.k_proj.weight', 'model.encoder.layers.14.fc1.weight', 'model.decoder.layers.13.self_attn.out_proj.bias', 'model.encoder.layers.13.fc2.bias', 'model.decoder.layers.11.self_attn.out_proj.bias', 'model.encoder.layers.8.fc2.weight', 'model.decoder.layers.9.self_attn.out_proj.weight', 'model.encoder.layers.9.fc1.bias', 'model.decoder.layers.10.encoder_attn.v_proj.weight', 'model.encoder.layers.10.self_attn.q_proj.weight', 'model.encoder.layers.11.self_attn.out_proj.bias', 'model.decoder.layers.13.encoder_attn.v_proj.weight', 'model.encoder.layers.8.fc1.weight', 'model.decoder.layers.11.fc2.weight', 'model.encoder.layers.9.self_attn.q_proj.bias', 'model.encoder.layers.11.fc1.bias', 'model.encoder.layers.10.final_layer_norm.bias', 'model.decoder.layers.9.encoder_attn.v_proj.bias', 'model.decoder.layers.9.self_attn.q_proj.bias', 'model.decoder.layers.12.encoder_attn.v_proj.weight', 'model.encoder.layers.13.self_attn.v_proj.bias', 'model.decoder.layers.10.final_layer_norm.bias', 'model.decoder.layers.11.self_attn_layer_norm.weight', 'model.decoder.layers.12.final_layer_norm.weight', 'model.decoder.layers.13.encoder_attn.out_proj.bias', 'model.decoder.layers.10.encoder_attn.v_proj.bias', 'model.decoder.layers.15.encoder_attn.k_proj.bias', 'model.decoder.layers.8.self_attn.v_proj.bias', 'model.decoder.layers.12.fc1.weight', 'model.decoder.layers.9.self_attn_layer_norm.bias', 'model.decoder.layers.13.encoder_attn.k_proj.weight', 'model.decoder.layers.14.self_attn.out_proj.weight', 'model.decoder.layers.9.self_attn.k_proj.weight', 'model.encoder.layers.14.self_attn.q_proj.bias', 'model.decoder.layers.15.encoder_attn.q_proj.bias', 'model.decoder.layers.11.final_layer_norm.bias', 'model.decoder.layers.14.self_attn_layer_norm.bias', 'model.encoder.layers.13.self_attn.out_proj.weight', 'model.encoder.layers.9.self_attn.k_proj.weight', 'model.encoder.layers.13.self_attn_layer_norm.weight', 'model.decoder.layers.11.encoder_attn.q_proj.weight', 'model.decoder.layers.11.encoder_attn.v_proj.bias', 'model.decoder.layers.9.fc2.bias', 'model.encoder.layers.10.self_attn.v_proj.bias', 'model.encoder.layers.14.fc2.bias', 'model.decoder.layers.10.self_attn.k_proj.weight', 'model.decoder.layers.14.encoder_attn.out_proj.weight', 'model.decoder.layers.9.self_attn.k_proj.bias', 'model.decoder.layers.15.self_attn.v_proj.weight', 'model.encoder.layers.15.self_attn.q_proj.weight', 'model.encoder.layers.9.fc2.bias', 'model.decoder.layers.11.self_attn_layer_norm.bias', 'model.decoder.layers.9.encoder_attn.k_proj.bias', 'model.decoder.layers.15.encoder_attn.q_proj.weight', 'model.encoder.layers.8.self_attn.out_proj.weight', 'model.encoder.layers.8.self_attn_layer_norm.weight', 'model.encoder.layers.12.fc1.bias', 'model.decoder.layers.15.encoder_attn_layer_norm.bias', 'model.encoder.layers.8.final_layer_norm.weight', 'model.encoder.layers.10.self_attn.q_proj.bias', 'model.encoder.layers.11.fc2.weight', 'model.encoder.layers.12.self_attn.out_proj.weight', 'model.decoder.layers.8.encoder_attn.k_proj.weight', 'model.encoder.layers.9.self_attn_layer_norm.weight', 'model.decoder.layers.10.fc2.bias', 'model.decoder.layers.10.encoder_attn_layer_norm.bias', 'model.decoder.layers.9.encoder_attn.out_proj.weight', 'model.decoder.layers.11.self_attn.v_proj.weight', 'model.decoder.layers.15.fc2.bias', 'model.decoder.layers.8.encoder_attn.q_proj.weight', 'model.encoder.layers.11.self_attn.k_proj.weight', 'model.decoder.layers.10.self_attn.v_proj.weight', 'model.decoder.layers.10.encoder_attn_layer_norm.weight', 'model.decoder.layers.13.self_attn.k_proj.bias', 'model.encoder.layers.10.self_attn.out_proj.bias', 'model.encoder.layers.11.self_attn.v_proj.bias', 'model.decoder.layers.11.encoder_attn.k_proj.bias', 'model.encoder.layers.12.self_attn.k_proj.bias', 'model.decoder.layers.12.encoder_attn_layer_norm.bias', 'model.decoder.layers.12.fc2.bias', 'model.decoder.layers.13.self_attn.v_proj.bias', 'model.decoder.layers.8.self_attn_layer_norm.weight', 'model.encoder.layers.12.fc1.weight', 'model.encoder.layers.13.self_attn.k_proj.weight', 'model.decoder.layers.14.self_attn.q_proj.bias', 'model.encoder.layers.12.self_attn_layer_norm.weight', 'model.decoder.layers.9.self_attn_layer_norm.weight', 'model.decoder.layers.14.encoder_attn_layer_norm.weight', 'model.decoder.layers.12.self_attn.v_proj.bias', 'model.encoder.layers.10.self_attn.k_proj.bias', 'model.encoder.layers.13.self_attn.out_proj.bias', 'model.decoder.layers.14.fc1.weight', 'model.decoder.layers.12.self_attn.q_proj.weight', 'model.decoder.layers.11.encoder_attn.q_proj.bias', 'model.encoder.layers.8.self_attn.k_proj.weight', 'model.encoder.layers.13.self_attn.q_proj.weight', 'model.decoder.layers.14.encoder_attn.v_proj.weight', 'model.decoder.layers.13.encoder_attn.q_proj.weight', 'model.encoder.layers.11.fc1.weight', 'model.encoder.layers.11.self_attn.v_proj.weight', 'model.decoder.layers.13.self_attn.k_proj.weight', 'model.decoder.layers.9.encoder_attn.q_proj.bias', 'model.encoder.layers.13.self_attn.k_proj.bias', 'model.encoder.layers.9.self_attn.v_proj.weight', 'model.decoder.layers.13.self_attn.q_proj.weight', 'model.encoder.layers.14.final_layer_norm.bias', 'model.encoder.layers.15.fc2.bias', 'model.decoder.layers.9.encoder_attn_layer_norm.weight', 'model.decoder.layers.8.self_attn_layer_norm.bias', 'model.encoder.layers.14.self_attn_layer_norm.weight', 'model.decoder.layers.8.self_attn.v_proj.weight', 'model.encoder.layers.12.self_attn.v_proj.weight', 'model.encoder.layers.15.self_attn.q_proj.bias', 'model.encoder.layers.15.self_attn.out_proj.weight', 'model.decoder.layers.15.encoder_attn.out_proj.bias', 'model.decoder.layers.10.self_attn.q_proj.bias', 'model.decoder.layers.9.final_layer_norm.bias', 'model.encoder.layers.11.final_layer_norm.weight', 'model.encoder.layers.14.fc2.weight', 'model.decoder.layers.14.self_attn.k_proj.weight', 'model.decoder.layers.9.encoder_attn.q_proj.weight', 'model.decoder.layers.9.fc1.bias', 'model.decoder.layers.10.self_attn.q_proj.weight', 'model.decoder.layers.9.fc2.weight', 'model.decoder.layers.12.encoder_attn.q_proj.weight', 'model.encoder.layers.14.self_attn.out_proj.bias', 'model.decoder.layers.9.final_layer_norm.weight', 'model.encoder.layers.14.self_attn.k_proj.weight', 'model.decoder.layers.13.self_attn.out_proj.weight', 'model.decoder.layers.15.encoder_attn.v_proj.bias', 'model.decoder.layers.8.final_layer_norm.bias', 'model.decoder.layers.9.encoder_attn.out_proj.bias', 'model.encoder.layers.14.self_attn.v_proj.bias', 'model.encoder.layers.9.self_attn.q_proj.weight', 'model.decoder.layers.14.fc1.bias', 'model.decoder.layers.15.self_attn.out_proj.weight', 'model.decoder.layers.15.encoder_attn.out_proj.weight', 'model.decoder.layers.8.encoder_attn.v_proj.bias', 'model.decoder.layers.13.encoder_attn_layer_norm.bias', 'model.decoder.layers.9.encoder_attn.v_proj.weight', 'model.decoder.layers.12.fc2.weight', 'model.decoder.layers.10.self_attn.k_proj.bias', 'model.decoder.layers.14.final_layer_norm.weight', 'model.encoder.layers.8.self_attn.q_proj.weight', 'model.decoder.layers.11.self_attn.v_proj.bias', 'model.decoder.layers.11.self_attn.q_proj.bias', 'model.decoder.layers.11.fc1.weight', 'model.decoder.layers.14.encoder_attn.out_proj.bias', 'model.decoder.layers.8.self_attn.q_proj.weight', 'model.encoder.layers.13.self_attn_layer_norm.bias', 'model.encoder.layers.8.self_attn.v_proj.bias', 'model.decoder.layers.14.self_attn.out_proj.bias', 'model.decoder.layers.10.encoder_attn.q_proj.bias', 'model.encoder.layers.15.self_attn.out_proj.bias', 'model.decoder.layers.8.encoder_attn.k_proj.bias', 'model.encoder.layers.11.self_attn.out_proj.weight', 'model.encoder.layers.15.self_attn_layer_norm.bias', 'model.decoder.layers.10.self_attn.v_proj.bias', 'model.decoder.layers.12.encoder_attn.k_proj.bias', 'model.encoder.layers.11.final_layer_norm.bias', 'model.decoder.layers.8.fc2.bias', 'model.decoder.layers.9.encoder_attn.k_proj.weight', 'model.decoder.layers.10.fc1.weight', 'model.decoder.layers.12.self_attn_layer_norm.bias', 'model.encoder.layers.14.self_attn.k_proj.bias', 'model.encoder.layers.15.self_attn.k_proj.bias', 'model.decoder.layers.14.final_layer_norm.bias', 'model.encoder.layers.15.fc2.weight', 'model.encoder.layers.12.self_attn.v_proj.bias', 'model.decoder.layers.8.encoder_attn.out_proj.weight', 'model.decoder.layers.12.self_attn.k_proj.weight', 'model.encoder.layers.8.fc2.bias', 'model.decoder.layers.12.encoder_attn.k_proj.weight', 'model.encoder.layers.15.final_layer_norm.bias', 'model.decoder.layers.8.self_attn.out_proj.bias', 'model.decoder.layers.8.encoder_attn.out_proj.bias', 'model.decoder.layers.13.final_layer_norm.weight', 'model.decoder.layers.11.fc1.bias', 'model.encoder.layers.15.self_attn.v_proj.bias', 'model.decoder.layers.14.self_attn.q_proj.weight', 'model.decoder.layers.8.self_attn.k_proj.bias', 'model.decoder.layers.15.self_attn.out_proj.bias', 'model.encoder.layers.15.self_attn_layer_norm.weight', 'model.encoder.layers.13.fc1.bias', 'model.encoder.layers.15.self_attn.v_proj.weight', 'model.decoder.layers.9.self_attn.v_proj.weight', 'model.decoder.layers.13.fc1.weight', 'model.decoder.layers.10.encoder_attn.k_proj.bias', 'model.encoder.layers.13.self_attn.q_proj.bias', 'model.encoder.layers.10.self_attn_layer_norm.bias', 'model.decoder.layers.14.self_attn.v_proj.weight', 'model.decoder.layers.10.encoder_attn.out_proj.bias', 'model.decoder.layers.11.encoder_attn.out_proj.bias', 'model.decoder.layers.13.encoder_attn_layer_norm.weight', 'model.encoder.layers.13.final_layer_norm.weight']\n",
            "- This IS expected if you are initializing PegasusForConditionalGeneration from the checkpoint of a model trained on another task or with another architecture (e.g. initializing a BertForSequenceClassification model from a BertForPreTraining model).\n",
            "- This IS NOT expected if you are initializing PegasusForConditionalGeneration from the checkpoint of a model that you expect to be exactly identical (initializing a BertForSequenceClassification model from a BertForSequenceClassification model).\n",
            "/usr/local/lib/python3.7/dist-packages/transformers/optimization.py:309: FutureWarning: This implementation of AdamW is deprecated and will be removed in a future version. Use the PyTorch implementation torch.optim.AdamW instead, or set `no_deprecation_warning=True` to disable this warning\n",
            "  FutureWarning,\n",
            "***** Running training *****\n",
            "  Num examples = 100\n",
            "  Num Epochs = 10\n",
            "  Instantaneous batch size per device = 50\n",
            "  Total train batch size (w. parallel, distributed & accumulation) = 50\n",
            "  Gradient Accumulation steps = 1\n",
            "  Total optimization steps = 20\n"
          ]
        },
        {
          "output_type": "display_data",
          "data": {
            "text/plain": [
              "<IPython.core.display.HTML object>"
            ],
            "text/html": [
              "\n",
              "    <div>\n",
              "      \n",
              "      <progress value='20' max='20' style='width:300px; height:20px; vertical-align: middle;'></progress>\n",
              "      [20/20 09:50, Epoch 10/10]\n",
              "    </div>\n",
              "    <table border=\"1\" class=\"dataframe\">\n",
              "  <thead>\n",
              " <tr style=\"text-align: left;\">\n",
              "      <th>Step</th>\n",
              "      <th>Training Loss</th>\n",
              "      <th>Validation Loss</th>\n",
              "    </tr>\n",
              "  </thead>\n",
              "  <tbody>\n",
              "  </tbody>\n",
              "</table><p>"
            ]
          },
          "metadata": {}
        },
        {
          "output_type": "stream",
          "name": "stderr",
          "text": [
            "\n",
            "\n",
            "Training completed. Do not forget to share your model on huggingface.co/models =)\n",
            "\n",
            "\n",
            "Saving model checkpoint to ./results\n",
            "Configuration saved in ./results/config.json\n",
            "Model weights saved in ./results/pytorch_model.bin\n",
            "tokenizer config file saved in ./results/tokenizer_config.json\n",
            "Special tokens file saved in ./results/special_tokens_map.json\n",
            "***** Running Evaluation *****\n",
            "  Num examples = 100\n",
            "  Batch size = 50\n"
          ]
        },
        {
          "output_type": "stream",
          "name": "stdout",
          "text": [
            "***** train metrics *****\n",
            "  epoch                    =       10.0\n",
            "  total_flos               =  1345523GF\n",
            "  train_loss               =    12.5375\n",
            "  train_runtime            = 0:10:22.37\n",
            "  train_samples_per_second =      1.607\n",
            "  train_steps_per_second   =      0.032\n"
          ]
        },
        {
          "output_type": "display_data",
          "data": {
            "text/plain": [
              "<IPython.core.display.HTML object>"
            ],
            "text/html": [
              "\n",
              "    <div>\n",
              "      \n",
              "      <progress value='4' max='2' style='width:300px; height:20px; vertical-align: middle;'></progress>\n",
              "      [2/2 02:01]\n",
              "    </div>\n",
              "    "
            ]
          },
          "metadata": {}
        },
        {
          "output_type": "stream",
          "name": "stderr",
          "text": [
            "***** Running Prediction *****\n",
            "  Num examples = 100\n",
            "  Batch size = 50\n"
          ]
        },
        {
          "output_type": "stream",
          "name": "stdout",
          "text": [
            "***** eval metrics *****\n",
            "  epoch                   =       10.0\n",
            "  eval_gen_len            =      18.64\n",
            "  eval_loss               =    10.3205\n",
            "  eval_rouge1             =     6.4464\n",
            "  eval_rouge2             =        0.0\n",
            "  eval_rougeL             =     6.4485\n",
            "  eval_rougeLsum          =     6.5098\n",
            "  eval_runtime            = 0:01:19.81\n",
            "  eval_samples_per_second =      1.253\n",
            "  eval_steps_per_second   =      0.025\n",
            "***** predict metrics *****\n",
            "  predict_gen_len            =       19.0\n",
            "  predict_loss               =    10.3073\n",
            "  predict_rouge1             =     9.5579\n",
            "  predict_rouge2             =        0.0\n",
            "  predict_rougeL             =     9.5913\n",
            "  predict_rougeLsum          =     9.6169\n",
            "  predict_runtime            = 0:01:21.20\n",
            "  predict_samples_per_second =      1.231\n",
            "  predict_steps_per_second   =      0.025\n"
          ]
        }
      ]
    }
  ]
}